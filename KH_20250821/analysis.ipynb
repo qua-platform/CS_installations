{
 "cells": [
  {
   "cell_type": "code",
   "execution_count": 1,
   "id": "2017bc4c",
   "metadata": {},
   "outputs": [],
   "source": [
    "import pandas as pd\n",
    "import plotly.graph_objects as go\n",
    "import plotly.express as px\n",
    "import matplotlib.pyplot as plt\n",
    "import seaborn as sns"
   ]
  },
  {
   "cell_type": "code",
   "execution_count": 2,
   "id": "86d3d9c1",
   "metadata": {},
   "outputs": [
    {
     "name": "stdout",
     "output_type": "stream",
     "text": [
      "=== 데이터 프레임 ===\n",
      "      reset max_attempts  num_of_shots elapsed_time  elapsed_time_avg  \\\n",
      "0    active            1           100      8.5/8.2             8.350   \n",
      "1    active            1           500    8.85/8.53             8.690   \n",
      "2    active            1          1000    8.84/8.22             8.530   \n",
      "3   thermal         none           100  16.85/16.45            16.650   \n",
      "4   thermal         none           500  26.22/25.64            25.930   \n",
      "5   thermal         none          1000  41.89/41.51            41.700   \n",
      "6    active            5           100    8.28/8.88             8.580   \n",
      "7    active            5           500  16.59/16.79            16.690   \n",
      "8    active            5          1000   19.1/16.83            17.965   \n",
      "9    active           15           100    8.35/8.38             8.365   \n",
      "10   active           15           500  16.73/16.69            16.710   \n",
      "11   active           15          1000  25.38/25.09            25.235   \n",
      "12   active           30           100  16.74/16.66            16.700   \n",
      "13   active           30           500  25.10/25.06            25.080   \n",
      "14   active           30          1000  30.58/33.46            32.020   \n",
      "\n",
      "                 reset_label  \n",
      "0    active (max_attempts=1)  \n",
      "1    active (max_attempts=1)  \n",
      "2    active (max_attempts=1)  \n",
      "3                    thermal  \n",
      "4                    thermal  \n",
      "5                    thermal  \n",
      "6    active (max_attempts=5)  \n",
      "7    active (max_attempts=5)  \n",
      "8    active (max_attempts=5)  \n",
      "9   active (max_attempts=15)  \n",
      "10  active (max_attempts=15)  \n",
      "11  active (max_attempts=15)  \n",
      "12  active (max_attempts=30)  \n",
      "13  active (max_attempts=30)  \n",
      "14  active (max_attempts=30)  \n",
      "\n",
      "=== 그래프용 정리된 데이터 ===\n",
      "                 reset_label  num_of_shots  elapsed_time_avg\n",
      "0    active (max_attempts=1)           100             8.350\n",
      "1    active (max_attempts=1)           500             8.690\n",
      "2    active (max_attempts=1)          1000             8.530\n",
      "3   active (max_attempts=15)           100             8.365\n",
      "4   active (max_attempts=15)           500            16.710\n",
      "5   active (max_attempts=15)          1000            25.235\n",
      "6   active (max_attempts=30)           100            16.700\n",
      "7   active (max_attempts=30)           500            25.080\n",
      "8   active (max_attempts=30)          1000            32.020\n",
      "9    active (max_attempts=5)           100             8.580\n",
      "10   active (max_attempts=5)           500            16.690\n",
      "11   active (max_attempts=5)          1000            17.965\n",
      "12                   thermal           100            16.650\n",
      "13                   thermal           500            25.930\n",
      "14                   thermal          1000            41.700\n"
     ]
    },
    {
     "data": {
      "application/vnd.plotly.v1+json": {
       "config": {
        "plotlyServerURL": "https://plot.ly"
       },
       "data": [
        {
         "line": {
          "width": 2
         },
         "marker": {
          "size": 8
         },
         "mode": "lines+markers",
         "name": "active (max_attempts=1)",
         "type": "scatter",
         "x": [
          100,
          500,
          1000
         ],
         "y": [
          8.35,
          8.69,
          8.530000000000001
         ]
        },
        {
         "line": {
          "width": 2
         },
         "marker": {
          "size": 8
         },
         "mode": "lines+markers",
         "name": "active (max_attempts=15)",
         "type": "scatter",
         "x": [
          100,
          500,
          1000
         ],
         "y": [
          8.365,
          16.71,
          25.235
         ]
        },
        {
         "line": {
          "width": 2
         },
         "marker": {
          "size": 8
         },
         "mode": "lines+markers",
         "name": "active (max_attempts=30)",
         "type": "scatter",
         "x": [
          100,
          500,
          1000
         ],
         "y": [
          16.7,
          25.08,
          32.019999999999996
         ]
        },
        {
         "line": {
          "width": 2
         },
         "marker": {
          "size": 8
         },
         "mode": "lines+markers",
         "name": "active (max_attempts=5)",
         "type": "scatter",
         "x": [
          100,
          500,
          1000
         ],
         "y": [
          8.58,
          16.689999999999998,
          17.965
         ]
        },
        {
         "line": {
          "width": 2
         },
         "marker": {
          "size": 8
         },
         "mode": "lines+markers",
         "name": "thermal",
         "type": "scatter",
         "x": [
          100,
          500,
          1000
         ],
         "y": [
          16.65,
          25.93,
          41.7
         ]
        }
       ],
       "layout": {
        "hovermode": "x unified",
        "legend": {
         "title": {
          "text": "Reset Type"
         },
         "x": 0.01,
         "xanchor": "left",
         "y": 0.99,
         "yanchor": "top"
        },
        "template": {
         "data": {
          "bar": [
           {
            "error_x": {
             "color": "#2a3f5f"
            },
            "error_y": {
             "color": "#2a3f5f"
            },
            "marker": {
             "line": {
              "color": "white",
              "width": 0.5
             },
             "pattern": {
              "fillmode": "overlay",
              "size": 10,
              "solidity": 0.2
             }
            },
            "type": "bar"
           }
          ],
          "barpolar": [
           {
            "marker": {
             "line": {
              "color": "white",
              "width": 0.5
             },
             "pattern": {
              "fillmode": "overlay",
              "size": 10,
              "solidity": 0.2
             }
            },
            "type": "barpolar"
           }
          ],
          "carpet": [
           {
            "aaxis": {
             "endlinecolor": "#2a3f5f",
             "gridcolor": "#C8D4E3",
             "linecolor": "#C8D4E3",
             "minorgridcolor": "#C8D4E3",
             "startlinecolor": "#2a3f5f"
            },
            "baxis": {
             "endlinecolor": "#2a3f5f",
             "gridcolor": "#C8D4E3",
             "linecolor": "#C8D4E3",
             "minorgridcolor": "#C8D4E3",
             "startlinecolor": "#2a3f5f"
            },
            "type": "carpet"
           }
          ],
          "choropleth": [
           {
            "colorbar": {
             "outlinewidth": 0,
             "ticks": ""
            },
            "type": "choropleth"
           }
          ],
          "contour": [
           {
            "colorbar": {
             "outlinewidth": 0,
             "ticks": ""
            },
            "colorscale": [
             [
              0,
              "#0d0887"
             ],
             [
              0.1111111111111111,
              "#46039f"
             ],
             [
              0.2222222222222222,
              "#7201a8"
             ],
             [
              0.3333333333333333,
              "#9c179e"
             ],
             [
              0.4444444444444444,
              "#bd3786"
             ],
             [
              0.5555555555555556,
              "#d8576b"
             ],
             [
              0.6666666666666666,
              "#ed7953"
             ],
             [
              0.7777777777777778,
              "#fb9f3a"
             ],
             [
              0.8888888888888888,
              "#fdca26"
             ],
             [
              1,
              "#f0f921"
             ]
            ],
            "type": "contour"
           }
          ],
          "contourcarpet": [
           {
            "colorbar": {
             "outlinewidth": 0,
             "ticks": ""
            },
            "type": "contourcarpet"
           }
          ],
          "heatmap": [
           {
            "colorbar": {
             "outlinewidth": 0,
             "ticks": ""
            },
            "colorscale": [
             [
              0,
              "#0d0887"
             ],
             [
              0.1111111111111111,
              "#46039f"
             ],
             [
              0.2222222222222222,
              "#7201a8"
             ],
             [
              0.3333333333333333,
              "#9c179e"
             ],
             [
              0.4444444444444444,
              "#bd3786"
             ],
             [
              0.5555555555555556,
              "#d8576b"
             ],
             [
              0.6666666666666666,
              "#ed7953"
             ],
             [
              0.7777777777777778,
              "#fb9f3a"
             ],
             [
              0.8888888888888888,
              "#fdca26"
             ],
             [
              1,
              "#f0f921"
             ]
            ],
            "type": "heatmap"
           }
          ],
          "heatmapgl": [
           {
            "colorbar": {
             "outlinewidth": 0,
             "ticks": ""
            },
            "colorscale": [
             [
              0,
              "#0d0887"
             ],
             [
              0.1111111111111111,
              "#46039f"
             ],
             [
              0.2222222222222222,
              "#7201a8"
             ],
             [
              0.3333333333333333,
              "#9c179e"
             ],
             [
              0.4444444444444444,
              "#bd3786"
             ],
             [
              0.5555555555555556,
              "#d8576b"
             ],
             [
              0.6666666666666666,
              "#ed7953"
             ],
             [
              0.7777777777777778,
              "#fb9f3a"
             ],
             [
              0.8888888888888888,
              "#fdca26"
             ],
             [
              1,
              "#f0f921"
             ]
            ],
            "type": "heatmapgl"
           }
          ],
          "histogram": [
           {
            "marker": {
             "pattern": {
              "fillmode": "overlay",
              "size": 10,
              "solidity": 0.2
             }
            },
            "type": "histogram"
           }
          ],
          "histogram2d": [
           {
            "colorbar": {
             "outlinewidth": 0,
             "ticks": ""
            },
            "colorscale": [
             [
              0,
              "#0d0887"
             ],
             [
              0.1111111111111111,
              "#46039f"
             ],
             [
              0.2222222222222222,
              "#7201a8"
             ],
             [
              0.3333333333333333,
              "#9c179e"
             ],
             [
              0.4444444444444444,
              "#bd3786"
             ],
             [
              0.5555555555555556,
              "#d8576b"
             ],
             [
              0.6666666666666666,
              "#ed7953"
             ],
             [
              0.7777777777777778,
              "#fb9f3a"
             ],
             [
              0.8888888888888888,
              "#fdca26"
             ],
             [
              1,
              "#f0f921"
             ]
            ],
            "type": "histogram2d"
           }
          ],
          "histogram2dcontour": [
           {
            "colorbar": {
             "outlinewidth": 0,
             "ticks": ""
            },
            "colorscale": [
             [
              0,
              "#0d0887"
             ],
             [
              0.1111111111111111,
              "#46039f"
             ],
             [
              0.2222222222222222,
              "#7201a8"
             ],
             [
              0.3333333333333333,
              "#9c179e"
             ],
             [
              0.4444444444444444,
              "#bd3786"
             ],
             [
              0.5555555555555556,
              "#d8576b"
             ],
             [
              0.6666666666666666,
              "#ed7953"
             ],
             [
              0.7777777777777778,
              "#fb9f3a"
             ],
             [
              0.8888888888888888,
              "#fdca26"
             ],
             [
              1,
              "#f0f921"
             ]
            ],
            "type": "histogram2dcontour"
           }
          ],
          "mesh3d": [
           {
            "colorbar": {
             "outlinewidth": 0,
             "ticks": ""
            },
            "type": "mesh3d"
           }
          ],
          "parcoords": [
           {
            "line": {
             "colorbar": {
              "outlinewidth": 0,
              "ticks": ""
             }
            },
            "type": "parcoords"
           }
          ],
          "pie": [
           {
            "automargin": true,
            "type": "pie"
           }
          ],
          "scatter": [
           {
            "fillpattern": {
             "fillmode": "overlay",
             "size": 10,
             "solidity": 0.2
            },
            "type": "scatter"
           }
          ],
          "scatter3d": [
           {
            "line": {
             "colorbar": {
              "outlinewidth": 0,
              "ticks": ""
             }
            },
            "marker": {
             "colorbar": {
              "outlinewidth": 0,
              "ticks": ""
             }
            },
            "type": "scatter3d"
           }
          ],
          "scattercarpet": [
           {
            "marker": {
             "colorbar": {
              "outlinewidth": 0,
              "ticks": ""
             }
            },
            "type": "scattercarpet"
           }
          ],
          "scattergeo": [
           {
            "marker": {
             "colorbar": {
              "outlinewidth": 0,
              "ticks": ""
             }
            },
            "type": "scattergeo"
           }
          ],
          "scattergl": [
           {
            "marker": {
             "colorbar": {
              "outlinewidth": 0,
              "ticks": ""
             }
            },
            "type": "scattergl"
           }
          ],
          "scattermapbox": [
           {
            "marker": {
             "colorbar": {
              "outlinewidth": 0,
              "ticks": ""
             }
            },
            "type": "scattermapbox"
           }
          ],
          "scatterpolar": [
           {
            "marker": {
             "colorbar": {
              "outlinewidth": 0,
              "ticks": ""
             }
            },
            "type": "scatterpolar"
           }
          ],
          "scatterpolargl": [
           {
            "marker": {
             "colorbar": {
              "outlinewidth": 0,
              "ticks": ""
             }
            },
            "type": "scatterpolargl"
           }
          ],
          "scatterternary": [
           {
            "marker": {
             "colorbar": {
              "outlinewidth": 0,
              "ticks": ""
             }
            },
            "type": "scatterternary"
           }
          ],
          "surface": [
           {
            "colorbar": {
             "outlinewidth": 0,
             "ticks": ""
            },
            "colorscale": [
             [
              0,
              "#0d0887"
             ],
             [
              0.1111111111111111,
              "#46039f"
             ],
             [
              0.2222222222222222,
              "#7201a8"
             ],
             [
              0.3333333333333333,
              "#9c179e"
             ],
             [
              0.4444444444444444,
              "#bd3786"
             ],
             [
              0.5555555555555556,
              "#d8576b"
             ],
             [
              0.6666666666666666,
              "#ed7953"
             ],
             [
              0.7777777777777778,
              "#fb9f3a"
             ],
             [
              0.8888888888888888,
              "#fdca26"
             ],
             [
              1,
              "#f0f921"
             ]
            ],
            "type": "surface"
           }
          ],
          "table": [
           {
            "cells": {
             "fill": {
              "color": "#EBF0F8"
             },
             "line": {
              "color": "white"
             }
            },
            "header": {
             "fill": {
              "color": "#C8D4E3"
             },
             "line": {
              "color": "white"
             }
            },
            "type": "table"
           }
          ]
         },
         "layout": {
          "annotationdefaults": {
           "arrowcolor": "#2a3f5f",
           "arrowhead": 0,
           "arrowwidth": 1
          },
          "autotypenumbers": "strict",
          "coloraxis": {
           "colorbar": {
            "outlinewidth": 0,
            "ticks": ""
           }
          },
          "colorscale": {
           "diverging": [
            [
             0,
             "#8e0152"
            ],
            [
             0.1,
             "#c51b7d"
            ],
            [
             0.2,
             "#de77ae"
            ],
            [
             0.3,
             "#f1b6da"
            ],
            [
             0.4,
             "#fde0ef"
            ],
            [
             0.5,
             "#f7f7f7"
            ],
            [
             0.6,
             "#e6f5d0"
            ],
            [
             0.7,
             "#b8e186"
            ],
            [
             0.8,
             "#7fbc41"
            ],
            [
             0.9,
             "#4d9221"
            ],
            [
             1,
             "#276419"
            ]
           ],
           "sequential": [
            [
             0,
             "#0d0887"
            ],
            [
             0.1111111111111111,
             "#46039f"
            ],
            [
             0.2222222222222222,
             "#7201a8"
            ],
            [
             0.3333333333333333,
             "#9c179e"
            ],
            [
             0.4444444444444444,
             "#bd3786"
            ],
            [
             0.5555555555555556,
             "#d8576b"
            ],
            [
             0.6666666666666666,
             "#ed7953"
            ],
            [
             0.7777777777777778,
             "#fb9f3a"
            ],
            [
             0.8888888888888888,
             "#fdca26"
            ],
            [
             1,
             "#f0f921"
            ]
           ],
           "sequentialminus": [
            [
             0,
             "#0d0887"
            ],
            [
             0.1111111111111111,
             "#46039f"
            ],
            [
             0.2222222222222222,
             "#7201a8"
            ],
            [
             0.3333333333333333,
             "#9c179e"
            ],
            [
             0.4444444444444444,
             "#bd3786"
            ],
            [
             0.5555555555555556,
             "#d8576b"
            ],
            [
             0.6666666666666666,
             "#ed7953"
            ],
            [
             0.7777777777777778,
             "#fb9f3a"
            ],
            [
             0.8888888888888888,
             "#fdca26"
            ],
            [
             1,
             "#f0f921"
            ]
           ]
          },
          "colorway": [
           "#636efa",
           "#EF553B",
           "#00cc96",
           "#ab63fa",
           "#FFA15A",
           "#19d3f3",
           "#FF6692",
           "#B6E880",
           "#FF97FF",
           "#FECB52"
          ],
          "font": {
           "color": "#2a3f5f"
          },
          "geo": {
           "bgcolor": "white",
           "lakecolor": "white",
           "landcolor": "white",
           "showlakes": true,
           "showland": true,
           "subunitcolor": "#C8D4E3"
          },
          "hoverlabel": {
           "align": "left"
          },
          "hovermode": "closest",
          "mapbox": {
           "style": "light"
          },
          "paper_bgcolor": "white",
          "plot_bgcolor": "white",
          "polar": {
           "angularaxis": {
            "gridcolor": "#EBF0F8",
            "linecolor": "#EBF0F8",
            "ticks": ""
           },
           "bgcolor": "white",
           "radialaxis": {
            "gridcolor": "#EBF0F8",
            "linecolor": "#EBF0F8",
            "ticks": ""
           }
          },
          "scene": {
           "xaxis": {
            "backgroundcolor": "white",
            "gridcolor": "#DFE8F3",
            "gridwidth": 2,
            "linecolor": "#EBF0F8",
            "showbackground": true,
            "ticks": "",
            "zerolinecolor": "#EBF0F8"
           },
           "yaxis": {
            "backgroundcolor": "white",
            "gridcolor": "#DFE8F3",
            "gridwidth": 2,
            "linecolor": "#EBF0F8",
            "showbackground": true,
            "ticks": "",
            "zerolinecolor": "#EBF0F8"
           },
           "zaxis": {
            "backgroundcolor": "white",
            "gridcolor": "#DFE8F3",
            "gridwidth": 2,
            "linecolor": "#EBF0F8",
            "showbackground": true,
            "ticks": "",
            "zerolinecolor": "#EBF0F8"
           }
          },
          "shapedefaults": {
           "line": {
            "color": "#2a3f5f"
           }
          },
          "ternary": {
           "aaxis": {
            "gridcolor": "#DFE8F3",
            "linecolor": "#A2B1C6",
            "ticks": ""
           },
           "baxis": {
            "gridcolor": "#DFE8F3",
            "linecolor": "#A2B1C6",
            "ticks": ""
           },
           "bgcolor": "white",
           "caxis": {
            "gridcolor": "#DFE8F3",
            "linecolor": "#A2B1C6",
            "ticks": ""
           }
          },
          "title": {
           "x": 0.05
          },
          "xaxis": {
           "automargin": true,
           "gridcolor": "#EBF0F8",
           "linecolor": "#EBF0F8",
           "ticks": "",
           "title": {
            "standoff": 15
           },
           "zerolinecolor": "#EBF0F8",
           "zerolinewidth": 2
          },
          "yaxis": {
           "automargin": true,
           "gridcolor": "#EBF0F8",
           "linecolor": "#EBF0F8",
           "ticks": "",
           "title": {
            "standoff": 15
           },
           "zerolinecolor": "#EBF0F8",
           "zerolinewidth": 2
          }
         }
        },
        "title": {
         "text": "Reset Type Performance Analysis"
        },
        "xaxis": {
         "tickmode": "array",
         "ticktext": [
          "100",
          "500",
          "1000"
         ],
         "tickvals": [
          100,
          500,
          1000
         ],
         "title": {
          "text": "Number of Shots"
         }
        },
        "yaxis": {
         "title": {
          "text": "Elapsed Time (seconds)"
         }
        }
       }
      }
     },
     "metadata": {},
     "output_type": "display_data"
    }
   ],
   "source": [
    "# 데이터 생성\n",
    "data = {\n",
    "    'reset': ['active', 'active', 'active', 'thermal', 'thermal', 'thermal',\n",
    "              'active', 'active', 'active', 'active', 'active', 'active',\n",
    "              'active', 'active', 'active'],\n",
    "    'max_attempts': [1, 1, 1, 'none', 'none', 'none', \n",
    "                     5, 5, 5, 15, 15, 15, 30, 30, 30],\n",
    "    'num_of_shots': [100, 500, 1000, 100, 500, 1000,\n",
    "                     100, 500, 1000, 100, 500, 1000,\n",
    "                     100, 500, 1000],\n",
    "    'elapsed_time': ['8.5/8.2', '8.85/8.53', '8.84/8.22', '16.85/16.45', '26.22/25.64', '41.89/41.51',\n",
    "                     '8.28/8.88', '16.59/16.79', '19.1/16.83', '8.35/8.38', '16.73/16.69', '25.38/25.09',\n",
    "                     '16.74/16.66', '25.10/25.06', '30.58/33.46']\n",
    "}\n",
    "\n",
    "df = pd.DataFrame(data)\n",
    "\n",
    "# elapsed_time을 평균값으로 변환\n",
    "df['elapsed_time_avg'] = df['elapsed_time'].apply(lambda x: sum(map(float, x.split('/'))) / 2)\n",
    "\n",
    "# reset type별로 구분하기 위한 label 생성\n",
    "df['reset_label'] = df.apply(lambda row: \n",
    "    f\"{row['reset']} (max_attempts={row['max_attempts']})\" \n",
    "    if row['reset'] == 'active' \n",
    "    else f\"{row['reset']}\", axis=1)\n",
    "\n",
    "# 그래프용 데이터 정리\n",
    "df_plot = df.groupby(['reset_label', 'num_of_shots'])['elapsed_time_avg'].mean().reset_index()\n",
    "\n",
    "print(\"=== 데이터 프레임 ===\")\n",
    "print(df)\n",
    "print(\"\\n=== 그래프용 정리된 데이터 ===\")\n",
    "print(df_plot)\n",
    "\n",
    "# 1. Plotly 버전\n",
    "fig_plotly = go.Figure()\n",
    "\n",
    "# 각 reset type별로 라인 추가\n",
    "for reset_type in df_plot['reset_label'].unique():\n",
    "    df_subset = df_plot[df_plot['reset_label'] == reset_type]\n",
    "    \n",
    "    fig_plotly.add_trace(go.Scatter(\n",
    "        x=df_subset['num_of_shots'],\n",
    "        y=df_subset['elapsed_time_avg'],\n",
    "        mode='lines+markers',\n",
    "        name=reset_type,\n",
    "        marker=dict(size=8),\n",
    "        line=dict(width=2)\n",
    "    ))\n",
    "\n",
    "fig_plotly.update_layout(\n",
    "    title='Reset Type Performance Analysis',\n",
    "    xaxis_title='Number of Shots',\n",
    "    yaxis_title='Elapsed Time (seconds)',\n",
    "    xaxis=dict(\n",
    "        tickmode='array',\n",
    "        tickvals=[100, 500, 1000],\n",
    "        ticktext=['100', '500', '1000']\n",
    "    ),\n",
    "    legend=dict(\n",
    "        title='Reset Type',\n",
    "        yanchor=\"top\",\n",
    "        y=0.99,\n",
    "        xanchor=\"left\",\n",
    "        x=0.01\n",
    "    ),\n",
    "    hovermode='x unified',\n",
    "    template='plotly_white'\n",
    ")\n",
    "\n",
    "fig_plotly.show()"
   ]
  },
  {
   "cell_type": "code",
   "execution_count": 3,
   "id": "8fa412d2",
   "metadata": {},
   "outputs": [
    {
     "data": {
      "image/png": "[encoded data removed]",
      "text/plain": [
       "<Figure size 1200x700 with 1 Axes>"
      ]
     },
     "metadata": {},
     "output_type": "display_data"
    },
    {
     "data": {
      "application/vnd.plotly.v1+json": {
       "config": {
        "plotlyServerURL": "https://plot.ly"
       },
       "data": [
        {
         "hovertemplate": "Max Attempts=1<br>Number of Shots=%{x}<br>Elapsed Time (seconds)=%{y}<extra></extra>",
         "legendgroup": "1",
         "line": {
          "color": "rgb(102,194,165)",
          "dash": "solid",
          "width": 2.5
         },
         "marker": {
          "size": 10,
          "symbol": "circle"
         },
         "mode": "lines+markers",
         "name": "1",
         "orientation": "v",
         "showlegend": true,
         "type": "scatter",
         "x": [
          100,
          500,
          1000
         ],
         "xaxis": "x",
         "y": [
          8.35,
          8.69,
          8.530000000000001
         ],
         "yaxis": "y"
        },
        {
         "hovertemplate": "Max Attempts=5<br>Number of Shots=%{x}<br>Elapsed Time (seconds)=%{y}<extra></extra>",
         "legendgroup": "5",
         "line": {
          "color": "rgb(252,141,98)",
          "dash": "solid",
          "width": 2.5
         },
         "marker": {
          "size": 10,
          "symbol": "circle"
         },
         "mode": "lines+markers",
         "name": "5",
         "orientation": "v",
         "showlegend": true,
         "type": "scatter",
         "x": [
          100,
          500,
          1000
         ],
         "xaxis": "x",
         "y": [
          8.58,
          16.689999999999998,
          17.965
         ],
         "yaxis": "y"
        },
        {
         "hovertemplate": "Max Attempts=15<br>Number of Shots=%{x}<br>Elapsed Time (seconds)=%{y}<extra></extra>",
         "legendgroup": "15",
         "line": {
          "color": "rgb(141,160,203)",
          "dash": "solid",
          "width": 2.5
         },
         "marker": {
          "size": 10,
          "symbol": "circle"
         },
         "mode": "lines+markers",
         "name": "15",
         "orientation": "v",
         "showlegend": true,
         "type": "scatter",
         "x": [
          100,
          500,
          1000
         ],
         "xaxis": "x",
         "y": [
          8.365,
          16.71,
          25.235
         ],
         "yaxis": "y"
        },
        {
         "hovertemplate": "Max Attempts=30<br>Number of Shots=%{x}<br>Elapsed Time (seconds)=%{y}<extra></extra>",
         "legendgroup": "30",
         "line": {
          "color": "rgb(231,138,195)",
          "dash": "solid",
          "width": 2.5
         },
         "marker": {
          "size": 10,
          "symbol": "circle"
         },
         "mode": "lines+markers",
         "name": "30",
         "orientation": "v",
         "showlegend": true,
         "type": "scatter",
         "x": [
          100,
          500,
          1000
         ],
         "xaxis": "x",
         "y": [
          16.7,
          25.08,
          32.019999999999996
         ],
         "yaxis": "y"
        }
       ],
       "layout": {
        "hovermode": "x unified",
        "legend": {
         "title": {
          "text": "Max Attempts"
         },
         "tracegroupgap": 0
        },
        "template": {
         "data": {
          "bar": [
           {
            "error_x": {
             "color": "#2a3f5f"
            },
            "error_y": {
             "color": "#2a3f5f"
            },
            "marker": {
             "line": {
              "color": "#E5ECF6",
              "width": 0.5
             },
             "pattern": {
              "fillmode": "overlay",
              "size": 10,
              "solidity": 0.2
             }
            },
            "type": "bar"
           }
          ],
          "barpolar": [
           {
            "marker": {
             "line": {
              "color": "#E5ECF6",
              "width": 0.5
             },
             "pattern": {
              "fillmode": "overlay",
              "size": 10,
              "solidity": 0.2
             }
            },
            "type": "barpolar"
           }
          ],
          "carpet": [
           {
            "aaxis": {
             "endlinecolor": "#2a3f5f",
             "gridcolor": "white",
             "linecolor": "white",
             "minorgridcolor": "white",
             "startlinecolor": "#2a3f5f"
            },
            "baxis": {
             "endlinecolor": "#2a3f5f",
             "gridcolor": "white",
             "linecolor": "white",
             "minorgridcolor": "white",
             "startlinecolor": "#2a3f5f"
            },
            "type": "carpet"
           }
          ],
          "choropleth": [
           {
            "colorbar": {
             "outlinewidth": 0,
             "ticks": ""
            },
            "type": "choropleth"
           }
          ],
          "contour": [
           {
            "colorbar": {
             "outlinewidth": 0,
             "ticks": ""
            },
            "colorscale": [
             [
              0,
              "#0d0887"
             ],
             [
              0.1111111111111111,
              "#46039f"
             ],
             [
              0.2222222222222222,
              "#7201a8"
             ],
             [
              0.3333333333333333,
              "#9c179e"
             ],
             [
              0.4444444444444444,
              "#bd3786"
             ],
             [
              0.5555555555555556,
              "#d8576b"
             ],
             [
              0.6666666666666666,
              "#ed7953"
             ],
             [
              0.7777777777777778,
              "#fb9f3a"
             ],
             [
              0.8888888888888888,
              "#fdca26"
             ],
             [
              1,
              "#f0f921"
             ]
            ],
            "type": "contour"
           }
          ],
          "contourcarpet": [
           {
            "colorbar": {
             "outlinewidth": 0,
             "ticks": ""
            },
            "type": "contourcarpet"
           }
          ],
          "heatmap": [
           {
            "colorbar": {
             "outlinewidth": 0,
             "ticks": ""
            },
            "colorscale": [
             [
              0,
              "#0d0887"
             ],
             [
              0.1111111111111111,
              "#46039f"
             ],
             [
              0.2222222222222222,
              "#7201a8"
             ],
             [
              0.3333333333333333,
              "#9c179e"
             ],
             [
              0.4444444444444444,
              "#bd3786"
             ],
             [
              0.5555555555555556,
              "#d8576b"
             ],
             [
              0.6666666666666666,
              "#ed7953"
             ],
             [
              0.7777777777777778,
              "#fb9f3a"
             ],
             [
              0.8888888888888888,
              "#fdca26"
             ],
             [
              1,
              "#f0f921"
             ]
            ],
            "type": "heatmap"
           }
          ],
          "heatmapgl": [
           {
            "colorbar": {
             "outlinewidth": 0,
             "ticks": ""
            },
            "colorscale": [
             [
              0,
              "#0d0887"
             ],
             [
              0.1111111111111111,
              "#46039f"
             ],
             [
              0.2222222222222222,
              "#7201a8"
             ],
             [
              0.3333333333333333,
              "#9c179e"
             ],
             [
              0.4444444444444444,
              "#bd3786"
             ],
             [
              0.5555555555555556,
              "#d8576b"
             ],
             [
              0.6666666666666666,
              "#ed7953"
             ],
             [
              0.7777777777777778,
              "#fb9f3a"
             ],
             [
              0.8888888888888888,
              "#fdca26"
             ],
             [
              1,
              "#f0f921"
             ]
            ],
            "type": "heatmapgl"
           }
          ],
          "histogram": [
           {
            "marker": {
             "pattern": {
              "fillmode": "overlay",
              "size": 10,
              "solidity": 0.2
             }
            },
            "type": "histogram"
           }
          ],
          "histogram2d": [
           {
            "colorbar": {
             "outlinewidth": 0,
             "ticks": ""
            },
            "colorscale": [
             [
              0,
              "#0d0887"
             ],
             [
              0.1111111111111111,
              "#46039f"
             ],
             [
              0.2222222222222222,
              "#7201a8"
             ],
             [
              0.3333333333333333,
              "#9c179e"
             ],
             [
              0.4444444444444444,
              "#bd3786"
             ],
             [
              0.5555555555555556,
              "#d8576b"
             ],
             [
              0.6666666666666666,
              "#ed7953"
             ],
             [
              0.7777777777777778,
              "#fb9f3a"
             ],
             [
              0.8888888888888888,
              "#fdca26"
             ],
             [
              1,
              "#f0f921"
             ]
            ],
            "type": "histogram2d"
           }
          ],
          "histogram2dcontour": [
           {
            "colorbar": {
             "outlinewidth": 0,
             "ticks": ""
            },
            "colorscale": [
             [
              0,
              "#0d0887"
             ],
             [
              0.1111111111111111,
              "#46039f"
             ],
             [
              0.2222222222222222,
              "#7201a8"
             ],
             [
              0.3333333333333333,
              "#9c179e"
             ],
             [
              0.4444444444444444,
              "#bd3786"
             ],
             [
              0.5555555555555556,
              "#d8576b"
             ],
             [
              0.6666666666666666,
              "#ed7953"
             ],
             [
              0.7777777777777778,
              "#fb9f3a"
             ],
             [
              0.8888888888888888,
              "#fdca26"
             ],
             [
              1,
              "#f0f921"
             ]
            ],
            "type": "histogram2dcontour"
           }
          ],
          "mesh3d": [
           {
            "colorbar": {
             "outlinewidth": 0,
             "ticks": ""
            },
            "type": "mesh3d"
           }
          ],
          "parcoords": [
           {
            "line": {
             "colorbar": {
              "outlinewidth": 0,
              "ticks": ""
             }
            },
            "type": "parcoords"
           }
          ],
          "pie": [
           {
            "automargin": true,
            "type": "pie"
           }
          ],
          "scatter": [
           {
            "fillpattern": {
             "fillmode": "overlay",
             "size": 10,
             "solidity": 0.2
            },
            "type": "scatter"
           }
          ],
          "scatter3d": [
           {
            "line": {
             "colorbar": {
              "outlinewidth": 0,
              "ticks": ""
             }
            },
            "marker": {
             "colorbar": {
              "outlinewidth": 0,
              "ticks": ""
             }
            },
            "type": "scatter3d"
           }
          ],
          "scattercarpet": [
           {
            "marker": {
             "colorbar": {
              "outlinewidth": 0,
              "ticks": ""
             }
            },
            "type": "scattercarpet"
           }
          ],
          "scattergeo": [
           {
            "marker": {
             "colorbar": {
              "outlinewidth": 0,
              "ticks": ""
             }
            },
            "type": "scattergeo"
           }
          ],
          "scattergl": [
           {
            "marker": {
             "colorbar": {
              "outlinewidth": 0,
              "ticks": ""
             }
            },
            "type": "scattergl"
           }
          ],
          "scattermapbox": [
           {
            "marker": {
             "colorbar": {
              "outlinewidth": 0,
              "ticks": ""
             }
            },
            "type": "scattermapbox"
           }
          ],
          "scatterpolar": [
           {
            "marker": {
             "colorbar": {
              "outlinewidth": 0,
              "ticks": ""
             }
            },
            "type": "scatterpolar"
           }
          ],
          "scatterpolargl": [
           {
            "marker": {
             "colorbar": {
              "outlinewidth": 0,
              "ticks": ""
             }
            },
            "type": "scatterpolargl"
           }
          ],
          "scatterternary": [
           {
            "marker": {
             "colorbar": {
              "outlinewidth": 0,
              "ticks": ""
             }
            },
            "type": "scatterternary"
           }
          ],
          "surface": [
           {
            "colorbar": {
             "outlinewidth": 0,
             "ticks": ""
            },
            "colorscale": [
             [
              0,
              "#0d0887"
             ],
             [
              0.1111111111111111,
              "#46039f"
             ],
             [
              0.2222222222222222,
              "#7201a8"
             ],
             [
              0.3333333333333333,
              "#9c179e"
             ],
             [
              0.4444444444444444,
              "#bd3786"
             ],
             [
              0.5555555555555556,
              "#d8576b"
             ],
             [
              0.6666666666666666,
              "#ed7953"
             ],
             [
              0.7777777777777778,
              "#fb9f3a"
             ],
             [
              0.8888888888888888,
              "#fdca26"
             ],
             [
              1,
              "#f0f921"
             ]
            ],
            "type": "surface"
           }
          ],
          "table": [
           {
            "cells": {
             "fill": {
              "color": "#EBF0F8"
             },
             "line": {
              "color": "white"
             }
            },
            "header": {
             "fill": {
              "color": "#C8D4E3"
             },
             "line": {
              "color": "white"
             }
            },
            "type": "table"
           }
          ]
         },
         "layout": {
          "annotationdefaults": {
           "arrowcolor": "#2a3f5f",
           "arrowhead": 0,
           "arrowwidth": 1
          },
          "autotypenumbers": "strict",
          "coloraxis": {
           "colorbar": {
            "outlinewidth": 0,
            "ticks": ""
           }
          },
          "colorscale": {
           "diverging": [
            [
             0,
             "#8e0152"
            ],
            [
             0.1,
             "#c51b7d"
            ],
            [
             0.2,
             "#de77ae"
            ],
            [
             0.3,
             "#f1b6da"
            ],
            [
             0.4,
             "#fde0ef"
            ],
            [
             0.5,
             "#f7f7f7"
            ],
            [
             0.6,
             "#e6f5d0"
            ],
            [
             0.7,
             "#b8e186"
            ],
            [
             0.8,
             "#7fbc41"
            ],
            [
             0.9,
             "#4d9221"
            ],
            [
             1,
             "#276419"
            ]
           ],
           "sequential": [
            [
             0,
             "#0d0887"
            ],
            [
             0.1111111111111111,
             "#46039f"
            ],
            [
             0.2222222222222222,
             "#7201a8"
            ],
            [
             0.3333333333333333,
             "#9c179e"
            ],
            [
             0.4444444444444444,
             "#bd3786"
            ],
            [
             0.5555555555555556,
             "#d8576b"
            ],
            [
             0.6666666666666666,
             "#ed7953"
            ],
            [
             0.7777777777777778,
             "#fb9f3a"
            ],
            [
             0.8888888888888888,
             "#fdca26"
            ],
            [
             1,
             "#f0f921"
            ]
           ],
           "sequentialminus": [
            [
             0,
             "#0d0887"
            ],
            [
             0.1111111111111111,
             "#46039f"
            ],
            [
             0.2222222222222222,
             "#7201a8"
            ],
            [
             0.3333333333333333,
             "#9c179e"
            ],
            [
             0.4444444444444444,
             "#bd3786"
            ],
            [
             0.5555555555555556,
             "#d8576b"
            ],
            [
             0.6666666666666666,
             "#ed7953"
            ],
            [
             0.7777777777777778,
             "#fb9f3a"
            ],
            [
             0.8888888888888888,
             "#fdca26"
            ],
            [
             1,
             "#f0f921"
            ]
           ]
          },
          "colorway": [
           "#636efa",
           "#EF553B",
           "#00cc96",
           "#ab63fa",
           "#FFA15A",
           "#19d3f3",
           "#FF6692",
           "#B6E880",
           "#FF97FF",
           "#FECB52"
          ],
          "font": {
           "color": "#2a3f5f"
          },
          "geo": {
           "bgcolor": "white",
           "lakecolor": "white",
           "landcolor": "#E5ECF6",
           "showlakes": true,
           "showland": true,
           "subunitcolor": "white"
          },
          "hoverlabel": {
           "align": "left"
          },
          "hovermode": "closest",
          "mapbox": {
           "style": "light"
          },
          "paper_bgcolor": "white",
          "plot_bgcolor": "#E5ECF6",
          "polar": {
           "angularaxis": {
            "gridcolor": "white",
            "linecolor": "white",
            "ticks": ""
           },
           "bgcolor": "#E5ECF6",
           "radialaxis": {
            "gridcolor": "white",
            "linecolor": "white",
            "ticks": ""
           }
          },
          "scene": {
           "xaxis": {
            "backgroundcolor": "#E5ECF6",
            "gridcolor": "white",
            "gridwidth": 2,
            "linecolor": "white",
            "showbackground": true,
            "ticks": "",
            "zerolinecolor": "white"
           },
           "yaxis": {
            "backgroundcolor": "#E5ECF6",
            "gridcolor": "white",
            "gridwidth": 2,
            "linecolor": "white",
            "showbackground": true,
            "ticks": "",
            "zerolinecolor": "white"
           },
           "zaxis": {
            "backgroundcolor": "#E5ECF6",
            "gridcolor": "white",
            "gridwidth": 2,
            "linecolor": "white",
            "showbackground": true,
            "ticks": "",
            "zerolinecolor": "white"
           }
          },
          "shapedefaults": {
           "line": {
            "color": "#2a3f5f"
           }
          },
          "ternary": {
           "aaxis": {
            "gridcolor": "white",
            "linecolor": "white",
            "ticks": ""
           },
           "baxis": {
            "gridcolor": "white",
            "linecolor": "white",
            "ticks": ""
           },
           "bgcolor": "#E5ECF6",
           "caxis": {
            "gridcolor": "white",
            "linecolor": "white",
            "ticks": ""
           }
          },
          "title": {
           "x": 0.05
          },
          "xaxis": {
           "automargin": true,
           "gridcolor": "white",
           "linecolor": "white",
           "ticks": "",
           "title": {
            "standoff": 15
           },
           "zerolinecolor": "white",
           "zerolinewidth": 2
          },
          "yaxis": {
           "automargin": true,
           "gridcolor": "white",
           "linecolor": "white",
           "ticks": "",
           "title": {
            "standoff": 15
           },
           "zerolinecolor": "white",
           "zerolinewidth": 2
          }
         }
        },
        "title": {
         "text": "Active Reset Performance by Max Attempts"
        },
        "xaxis": {
         "anchor": "y",
         "domain": [
          0,
          1
         ],
         "title": {
          "text": "Number of Shots"
         }
        },
        "yaxis": {
         "anchor": "x",
         "domain": [
          0,
          1
         ],
         "title": {
          "text": "Elapsed Time (seconds)"
         }
        }
       }
      }
     },
     "metadata": {},
     "output_type": "display_data"
    },
    {
     "name": "stdout",
     "output_type": "stream",
     "text": [
      "\n",
      "=== 성능 요약 통계 ===\n",
      "                           mean        std     min     max\n",
      "reset   max_attempts                                      \n",
      "active  1              8.523333   0.170098   8.350   8.690\n",
      "        5             14.411667   5.090448   8.580  17.965\n",
      "        15            16.770000   8.435160   8.365  25.235\n",
      "        30            24.600000   7.671271  16.700  32.020\n",
      "thermal none          28.093333  12.664345  16.650  41.700\n"
     ]
    }
   ],
   "source": [
    "# 2. Seaborn/Matplotlib 버전\n",
    "plt.figure(figsize=(12, 7))\n",
    "\n",
    "# 색상 팔레트 설정\n",
    "palette = sns.color_palette(\"husl\", n_colors=len(df_plot['reset_label'].unique()))\n",
    "\n",
    "# 각 reset type별로 라인 플롯\n",
    "for i, reset_type in enumerate(df_plot['reset_label'].unique()):\n",
    "    df_subset = df_plot[df_plot['reset_label'] == reset_type]\n",
    "    plt.plot(df_subset['num_of_shots'], \n",
    "             df_subset['elapsed_time_avg'], \n",
    "             marker='o', \n",
    "             markersize=8,\n",
    "             linewidth=2,\n",
    "             label=reset_type,\n",
    "             color=palette[i])\n",
    "\n",
    "plt.xlabel('Number of Shots', fontsize=12)\n",
    "plt.ylabel('Elapsed Time (seconds)', fontsize=12)\n",
    "plt.title('Reset Type Performance Analysis', fontsize=14, fontweight='bold')\n",
    "plt.legend(title='Reset Type', loc='upper left', frameon=True, fancybox=True, shadow=True)\n",
    "plt.grid(True, alpha=0.3, linestyle='--')\n",
    "plt.xticks([100, 500, 1000])\n",
    "\n",
    "# y축 범위 조정 (선택사항)\n",
    "plt.ylim(bottom=0)\n",
    "\n",
    "plt.tight_layout()\n",
    "plt.show()\n",
    "\n",
    "# 3. 추가 분석: 각 max_attempts별 성능 비교 (active reset만)\n",
    "df_active = df[df['reset'] == 'active'].copy()\n",
    "df_active['max_attempts'] = df_active['max_attempts'].astype(str)\n",
    "\n",
    "# Plotly 인터랙티브 차트\n",
    "fig_interactive = px.line(df_active, \n",
    "                          x='num_of_shots', \n",
    "                          y='elapsed_time_avg',\n",
    "                          color='max_attempts',\n",
    "                          markers=True,\n",
    "                          title='Active Reset Performance by Max Attempts',\n",
    "                          labels={'elapsed_time_avg': 'Elapsed Time (seconds)',\n",
    "                                 'num_of_shots': 'Number of Shots',\n",
    "                                 'max_attempts': 'Max Attempts'},\n",
    "                          color_discrete_sequence=px.colors.qualitative.Set2)\n",
    "\n",
    "fig_interactive.update_traces(marker=dict(size=10), line=dict(width=2.5))\n",
    "fig_interactive.update_layout(hovermode='x unified')\n",
    "fig_interactive.show()\n",
    "\n",
    "# 4. 성능 요약 통계\n",
    "print(\"\\n=== 성능 요약 통계 ===\")\n",
    "summary = df.groupby(['reset', 'max_attempts'])['elapsed_time_avg'].agg(['mean', 'std', 'min', 'max'])\n",
    "print(summary)"
   ]
  },
  {
   "cell_type": "code",
   "execution_count": 4,
   "id": "cd9f7ad0",
   "metadata": {},
   "outputs": [
    {
     "data": {
      "application/vnd.plotly.v1+json": {
       "config": {
        "plotlyServerURL": "https://plot.ly"
       },
       "data": [
        {
         "marker": {
          "color": "#636EFA",
          "size": 8
         },
         "mode": "markers",
         "name": "active_1_53",
         "type": "scatter",
         "x": [
          100,
          500,
          1000,
          1,
          3000
         ],
         "y": [
          8.35,
          8.69,
          8.53,
          8.325,
          16.72
         ]
        },
        {
         "marker": {
          "color": "#EF553B",
          "size": 8
         },
         "mode": "markers",
         "name": "thermal_none_53",
         "type": "scatter",
         "x": [
          100,
          500,
          1000,
          3000
         ],
         "y": [
          16.65,
          25.93,
          41.7,
          94.63
         ]
        },
        {
         "marker": {
          "color": "#00CC96",
          "size": 8
         },
         "mode": "markers",
         "name": "active_5_53",
         "type": "scatter",
         "x": [
          100,
          500,
          1000,
          3000
         ],
         "y": [
          8.58,
          16.69,
          17.965,
          24.99
         ]
        },
        {
         "marker": {
          "color": "#AB63FA",
          "size": 8
         },
         "mode": "markers",
         "name": "active_15_53",
         "type": "scatter",
         "x": [
          100,
          500,
          1000,
          1,
          3000
         ],
         "y": [
          8.365,
          16.71,
          25.295,
          8.365,
          41.67
         ]
        },
        {
         "marker": {
          "color": "#FFA15A",
          "size": 8
         },
         "mode": "markers",
         "name": "active_30_53",
         "type": "scatter",
         "x": [
          100,
          500,
          1000,
          1,
          3000
         ],
         "y": [
          8.37,
          25.08,
          33.44,
          8.355,
          76.25
         ]
        },
        {
         "marker": {
          "color": "#19D3F3",
          "size": 8
         },
         "mode": "markers",
         "name": "active_1_5300",
         "type": "scatter",
         "x": [
          3000,
          500,
          1000
         ],
         "y": [
          328.38,
          67.06,
          114.82
         ]
        },
        {
         "marker": {
          "color": "#FF6692",
          "size": 8
         },
         "mode": "markers",
         "name": "active_1_530",
         "type": "scatter",
         "x": [
          30,
          1000,
          500
         ],
         "y": [
          8.35,
          24.95,
          16.66
         ]
        },
        {
         "marker": {
          "color": "#B6E880",
          "size": 8
         },
         "mode": "markers",
         "name": "active_5_530",
         "type": "scatter",
         "x": [
          100,
          500,
          1000,
          3000
         ],
         "y": [
          16.64,
          33.38,
          49.92,
          116.69
         ]
        },
        {
         "marker": {
          "color": "#FF97FF",
          "size": 8
         },
         "mode": "markers",
         "name": "active_15_5300",
         "type": "scatter",
         "x": [
          100,
          500,
          1000,
          3000
         ],
         "y": [
          47.9,
          192.06,
          386.65,
          1153.2
         ]
        },
        {
         "marker": {
          "color": "#FECB52",
          "size": 8
         },
         "mode": "markers",
         "name": "thermal_none_530",
         "type": "scatter",
         "x": [
          100
         ],
         "y": [
          41.71
         ]
        },
        {
         "marker": {
          "color": "rgb(228,26,28)",
          "size": 8
         },
         "mode": "markers",
         "name": "thermal_none_5300",
         "type": "scatter",
         "x": [
          100
         ],
         "y": [
          320.12
         ]
        },
        {
         "line": {
          "color": "red",
          "dash": "dash",
          "width": 2
         },
         "mode": "lines",
         "name": "Linear Regression (y=0.0680x+21.90)",
         "type": "scatter",
         "x": [
          1,
          31.292929292929294,
          61.58585858585859,
          91.87878787878788,
          122.17171717171718,
          152.46464646464648,
          182.75757575757575,
          213.05050505050505,
          243.34343434343435,
          273.6363636363636,
          303.92929292929296,
          334.22222222222223,
          364.5151515151515,
          394.80808080808083,
          425.1010101010101,
          455.39393939393943,
          485.6868686868687,
          515.979797979798,
          546.2727272727273,
          576.5656565656566,
          606.8585858585859,
          637.1515151515151,
          667.4444444444445,
          697.7373737373738,
          728.030303030303,
          758.3232323232323,
          788.6161616161617,
          818.909090909091,
          849.2020202020202,
          879.4949494949495,
          909.7878787878789,
          940.0808080808081,
          970.3737373737374,
          1000.6666666666667,
          1030.959595959596,
          1061.2525252525254,
          1091.5454545454545,
          1121.8383838383838,
          1152.1313131313132,
          1182.4242424242425,
          1212.7171717171718,
          1243.0101010101012,
          1273.3030303030303,
          1303.5959595959596,
          1333.888888888889,
          1364.1818181818182,
          1394.4747474747476,
          1424.767676767677,
          1455.060606060606,
          1485.3535353535353,
          1515.6464646464647,
          1545.939393939394,
          1576.2323232323233,
          1606.5252525252527,
          1636.818181818182,
          1667.111111111111,
          1697.4040404040404,
          1727.6969696969697,
          1757.989898989899,
          1788.2828282828284,
          1818.5757575757577,
          1848.8686868686868,
          1879.1616161616162,
          1909.4545454545455,
          1939.7474747474748,
          1970.0404040404042,
          2000.3333333333335,
          2030.6262626262628,
          2060.919191919192,
          2091.2121212121215,
          2121.505050505051,
          2151.7979797979797,
          2182.090909090909,
          2212.3838383838383,
          2242.6767676767677,
          2272.969696969697,
          2303.2626262626263,
          2333.5555555555557,
          2363.848484848485,
          2394.1414141414143,
          2424.4343434343436,
          2454.727272727273,
          2485.0202020202023,
          2515.3131313131316,
          2545.6060606060605,
          2575.89898989899,
          2606.191919191919,
          2636.4848484848485,
          2666.777777777778,
          2697.070707070707,
          2727.3636363636365,
          2757.656565656566,
          2787.949494949495,
          2818.2424242424245,
          2848.535353535354,
          2878.828282828283,
          2909.121212121212,
          2939.4141414141413,
          2969.7070707070707,
          3000
         ],
         "y": [
          21.972832482901197,
          24.03307321916086,
          26.09331395542052,
          28.153554691680185,
          30.213795427939846,
          32.27403616419951,
          34.33427690045917,
          36.39451763671883,
          38.454758372978496,
          40.51499910923816,
          42.57523984549782,
          44.635480581757484,
          46.69572131801715,
          48.75596205427681,
          50.81620279053647,
          52.87644352679614,
          54.936684263055795,
          56.99692499931546,
          59.05716573557512,
          61.117406471834784,
          63.17764720809445,
          65.2378879443541,
          67.29812868061377,
          69.35836941687344,
          71.4186101531331,
          73.47885088939276,
          75.53909162565242,
          77.59933236191209,
          79.65957309817175,
          81.71981383443142,
          83.78005457069108,
          85.84029530695074,
          87.90053604321041,
          89.96077677947007,
          92.02101751572974,
          94.0812582519894,
          96.14149898824904,
          98.20173972450871,
          100.26198046076837,
          102.32222119702804,
          104.3824619332877,
          106.44270266954737,
          108.50294340580702,
          110.56318414206669,
          112.62342487832635,
          114.68366561458602,
          116.74390635084568,
          118.80414708710535,
          120.86438782336499,
          122.92462855962467,
          124.98486929588432,
          127.045110032144,
          129.10535076840364,
          131.16559150466333,
          133.22583224092298,
          135.28607297718264,
          137.3463137134423,
          139.40655444970196,
          141.46679518596164,
          143.5270359222213,
          145.58727665848096,
          147.64751739474062,
          149.70775813100028,
          151.76799886725996,
          153.8282396035196,
          155.88848033977928,
          157.94872107603896,
          160.0089618122986,
          162.06920254855828,
          164.1294432848179,
          166.1896840210776,
          168.24992475733723,
          170.3101654935969,
          172.37040622985654,
          174.43064696611623,
          176.49088770237591,
          178.55112843863554,
          180.61136917489523,
          182.67160991115486,
          184.73185064741455,
          186.79209138367423,
          188.85233211993386,
          190.91257285619355,
          192.97281359245324,
          195.03305432871286,
          197.0932950649725,
          199.15353580123218,
          201.21377653749187,
          203.2740172737515,
          205.33425801001118,
          207.3944987462708,
          209.4547394825305,
          211.51498021879019,
          213.57522095504982,
          215.6354616913095,
          217.6957024275692,
          219.75594316382882,
          221.81618390008845,
          223.87642463634813,
          225.93666537260782
         ]
        }
       ],
       "layout": {
        "height": 600,
        "hovermode": "closest",
        "legend": {
         "orientation": "v",
         "x": 1.02,
         "xanchor": "left",
         "y": 1,
         "yanchor": "top"
        },
        "template": {
         "data": {
          "bar": [
           {
            "error_x": {
             "color": "#2a3f5f"
            },
            "error_y": {
             "color": "#2a3f5f"
            },
            "marker": {
             "line": {
              "color": "#E5ECF6",
              "width": 0.5
             },
             "pattern": {
              "fillmode": "overlay",
              "size": 10,
              "solidity": 0.2
             }
            },
            "type": "bar"
           }
          ],
          "barpolar": [
           {
            "marker": {
             "line": {
              "color": "#E5ECF6",
              "width": 0.5
             },
             "pattern": {
              "fillmode": "overlay",
              "size": 10,
              "solidity": 0.2
             }
            },
            "type": "barpolar"
           }
          ],
          "carpet": [
           {
            "aaxis": {
             "endlinecolor": "#2a3f5f",
             "gridcolor": "white",
             "linecolor": "white",
             "minorgridcolor": "white",
             "startlinecolor": "#2a3f5f"
            },
            "baxis": {
             "endlinecolor": "#2a3f5f",
             "gridcolor": "white",
             "linecolor": "white",
             "minorgridcolor": "white",
             "startlinecolor": "#2a3f5f"
            },
            "type": "carpet"
           }
          ],
          "choropleth": [
           {
            "colorbar": {
             "outlinewidth": 0,
             "ticks": ""
            },
            "type": "choropleth"
           }
          ],
          "contour": [
           {
            "colorbar": {
             "outlinewidth": 0,
             "ticks": ""
            },
            "colorscale": [
             [
              0,
              "#0d0887"
             ],
             [
              0.1111111111111111,
              "#46039f"
             ],
             [
              0.2222222222222222,
              "#7201a8"
             ],
             [
              0.3333333333333333,
              "#9c179e"
             ],
             [
              0.4444444444444444,
              "#bd3786"
             ],
             [
              0.5555555555555556,
              "#d8576b"
             ],
             [
              0.6666666666666666,
              "#ed7953"
             ],
             [
              0.7777777777777778,
              "#fb9f3a"
             ],
             [
              0.8888888888888888,
              "#fdca26"
             ],
             [
              1,
              "#f0f921"
             ]
            ],
            "type": "contour"
           }
          ],
          "contourcarpet": [
           {
            "colorbar": {
             "outlinewidth": 0,
             "ticks": ""
            },
            "type": "contourcarpet"
           }
          ],
          "heatmap": [
           {
            "colorbar": {
             "outlinewidth": 0,
             "ticks": ""
            },
            "colorscale": [
             [
              0,
              "#0d0887"
             ],
             [
              0.1111111111111111,
              "#46039f"
             ],
             [
              0.2222222222222222,
              "#7201a8"
             ],
             [
              0.3333333333333333,
              "#9c179e"
             ],
             [
              0.4444444444444444,
              "#bd3786"
             ],
             [
              0.5555555555555556,
              "#d8576b"
             ],
             [
              0.6666666666666666,
              "#ed7953"
             ],
             [
              0.7777777777777778,
              "#fb9f3a"
             ],
             [
              0.8888888888888888,
              "#fdca26"
             ],
             [
              1,
              "#f0f921"
             ]
            ],
            "type": "heatmap"
           }
          ],
          "heatmapgl": [
           {
            "colorbar": {
             "outlinewidth": 0,
             "ticks": ""
            },
            "colorscale": [
             [
              0,
              "#0d0887"
             ],
             [
              0.1111111111111111,
              "#46039f"
             ],
             [
              0.2222222222222222,
              "#7201a8"
             ],
             [
              0.3333333333333333,
              "#9c179e"
             ],
             [
              0.4444444444444444,
              "#bd3786"
             ],
             [
              0.5555555555555556,
              "#d8576b"
             ],
             [
              0.6666666666666666,
              "#ed7953"
             ],
             [
              0.7777777777777778,
              "#fb9f3a"
             ],
             [
              0.8888888888888888,
              "#fdca26"
             ],
             [
              1,
              "#f0f921"
             ]
            ],
            "type": "heatmapgl"
           }
          ],
          "histogram": [
           {
            "marker": {
             "pattern": {
              "fillmode": "overlay",
              "size": 10,
              "solidity": 0.2
             }
            },
            "type": "histogram"
           }
          ],
          "histogram2d": [
           {
            "colorbar": {
             "outlinewidth": 0,
             "ticks": ""
            },
            "colorscale": [
             [
              0,
              "#0d0887"
             ],
             [
              0.1111111111111111,
              "#46039f"
             ],
             [
              0.2222222222222222,
              "#7201a8"
             ],
             [
              0.3333333333333333,
              "#9c179e"
             ],
             [
              0.4444444444444444,
              "#bd3786"
             ],
             [
              0.5555555555555556,
              "#d8576b"
             ],
             [
              0.6666666666666666,
              "#ed7953"
             ],
             [
              0.7777777777777778,
              "#fb9f3a"
             ],
             [
              0.8888888888888888,
              "#fdca26"
             ],
             [
              1,
              "#f0f921"
             ]
            ],
            "type": "histogram2d"
           }
          ],
          "histogram2dcontour": [
           {
            "colorbar": {
             "outlinewidth": 0,
             "ticks": ""
            },
            "colorscale": [
             [
              0,
              "#0d0887"
             ],
             [
              0.1111111111111111,
              "#46039f"
             ],
             [
              0.2222222222222222,
              "#7201a8"
             ],
             [
              0.3333333333333333,
              "#9c179e"
             ],
             [
              0.4444444444444444,
              "#bd3786"
             ],
             [
              0.5555555555555556,
              "#d8576b"
             ],
             [
              0.6666666666666666,
              "#ed7953"
             ],
             [
              0.7777777777777778,
              "#fb9f3a"
             ],
             [
              0.8888888888888888,
              "#fdca26"
             ],
             [
              1,
              "#f0f921"
             ]
            ],
            "type": "histogram2dcontour"
           }
          ],
          "mesh3d": [
           {
            "colorbar": {
             "outlinewidth": 0,
             "ticks": ""
            },
            "type": "mesh3d"
           }
          ],
          "parcoords": [
           {
            "line": {
             "colorbar": {
              "outlinewidth": 0,
              "ticks": ""
             }
            },
            "type": "parcoords"
           }
          ],
          "pie": [
           {
            "automargin": true,
            "type": "pie"
           }
          ],
          "scatter": [
           {
            "fillpattern": {
             "fillmode": "overlay",
             "size": 10,
             "solidity": 0.2
            },
            "type": "scatter"
           }
          ],
          "scatter3d": [
           {
            "line": {
             "colorbar": {
              "outlinewidth": 0,
              "ticks": ""
             }
            },
            "marker": {
             "colorbar": {
              "outlinewidth": 0,
              "ticks": ""
             }
            },
            "type": "scatter3d"
           }
          ],
          "scattercarpet": [
           {
            "marker": {
             "colorbar": {
              "outlinewidth": 0,
              "ticks": ""
             }
            },
            "type": "scattercarpet"
           }
          ],
          "scattergeo": [
           {
            "marker": {
             "colorbar": {
              "outlinewidth": 0,
              "ticks": ""
             }
            },
            "type": "scattergeo"
           }
          ],
          "scattergl": [
           {
            "marker": {
             "colorbar": {
              "outlinewidth": 0,
              "ticks": ""
             }
            },
            "type": "scattergl"
           }
          ],
          "scattermapbox": [
           {
            "marker": {
             "colorbar": {
              "outlinewidth": 0,
              "ticks": ""
             }
            },
            "type": "scattermapbox"
           }
          ],
          "scatterpolar": [
           {
            "marker": {
             "colorbar": {
              "outlinewidth": 0,
              "ticks": ""
             }
            },
            "type": "scatterpolar"
           }
          ],
          "scatterpolargl": [
           {
            "marker": {
             "colorbar": {
              "outlinewidth": 0,
              "ticks": ""
             }
            },
            "type": "scatterpolargl"
           }
          ],
          "scatterternary": [
           {
            "marker": {
             "colorbar": {
              "outlinewidth": 0,
              "ticks": ""
             }
            },
            "type": "scatterternary"
           }
          ],
          "surface": [
           {
            "colorbar": {
             "outlinewidth": 0,
             "ticks": ""
            },
            "colorscale": [
             [
              0,
              "#0d0887"
             ],
             [
              0.1111111111111111,
              "#46039f"
             ],
             [
              0.2222222222222222,
              "#7201a8"
             ],
             [
              0.3333333333333333,
              "#9c179e"
             ],
             [
              0.4444444444444444,
              "#bd3786"
             ],
             [
              0.5555555555555556,
              "#d8576b"
             ],
             [
              0.6666666666666666,
              "#ed7953"
             ],
             [
              0.7777777777777778,
              "#fb9f3a"
             ],
             [
              0.8888888888888888,
              "#fdca26"
             ],
             [
              1,
              "#f0f921"
             ]
            ],
            "type": "surface"
           }
          ],
          "table": [
           {
            "cells": {
             "fill": {
              "color": "#EBF0F8"
             },
             "line": {
              "color": "white"
             }
            },
            "header": {
             "fill": {
              "color": "#C8D4E3"
             },
             "line": {
              "color": "white"
             }
            },
            "type": "table"
           }
          ]
         },
         "layout": {
          "annotationdefaults": {
           "arrowcolor": "#2a3f5f",
           "arrowhead": 0,
           "arrowwidth": 1
          },
          "autotypenumbers": "strict",
          "coloraxis": {
           "colorbar": {
            "outlinewidth": 0,
            "ticks": ""
           }
          },
          "colorscale": {
           "diverging": [
            [
             0,
             "#8e0152"
            ],
            [
             0.1,
             "#c51b7d"
            ],
            [
             0.2,
             "#de77ae"
            ],
            [
             0.3,
             "#f1b6da"
            ],
            [
             0.4,
             "#fde0ef"
            ],
            [
             0.5,
             "#f7f7f7"
            ],
            [
             0.6,
             "#e6f5d0"
            ],
            [
             0.7,
             "#b8e186"
            ],
            [
             0.8,
             "#7fbc41"
            ],
            [
             0.9,
             "#4d9221"
            ],
            [
             1,
             "#276419"
            ]
           ],
           "sequential": [
            [
             0,
             "#0d0887"
            ],
            [
             0.1111111111111111,
             "#46039f"
            ],
            [
             0.2222222222222222,
             "#7201a8"
            ],
            [
             0.3333333333333333,
             "#9c179e"
            ],
            [
             0.4444444444444444,
             "#bd3786"
            ],
            [
             0.5555555555555556,
             "#d8576b"
            ],
            [
             0.6666666666666666,
             "#ed7953"
            ],
            [
             0.7777777777777778,
             "#fb9f3a"
            ],
            [
             0.8888888888888888,
             "#fdca26"
            ],
            [
             1,
             "#f0f921"
            ]
           ],
           "sequentialminus": [
            [
             0,
             "#0d0887"
            ],
            [
             0.1111111111111111,
             "#46039f"
            ],
            [
             0.2222222222222222,
             "#7201a8"
            ],
            [
             0.3333333333333333,
             "#9c179e"
            ],
            [
             0.4444444444444444,
             "#bd3786"
            ],
            [
             0.5555555555555556,
             "#d8576b"
            ],
            [
             0.6666666666666666,
             "#ed7953"
            ],
            [
             0.7777777777777778,
             "#fb9f3a"
            ],
            [
             0.8888888888888888,
             "#fdca26"
            ],
            [
             1,
             "#f0f921"
            ]
           ]
          },
          "colorway": [
           "#636efa",
           "#EF553B",
           "#00cc96",
           "#ab63fa",
           "#FFA15A",
           "#19d3f3",
           "#FF6692",
           "#B6E880",
           "#FF97FF",
           "#FECB52"
          ],
          "font": {
           "color": "#2a3f5f"
          },
          "geo": {
           "bgcolor": "white",
           "lakecolor": "white",
           "landcolor": "#E5ECF6",
           "showlakes": true,
           "showland": true,
           "subunitcolor": "white"
          },
          "hoverlabel": {
           "align": "left"
          },
          "hovermode": "closest",
          "mapbox": {
           "style": "light"
          },
          "paper_bgcolor": "white",
          "plot_bgcolor": "#E5ECF6",
          "polar": {
           "angularaxis": {
            "gridcolor": "white",
            "linecolor": "white",
            "ticks": ""
           },
           "bgcolor": "#E5ECF6",
           "radialaxis": {
            "gridcolor": "white",
            "linecolor": "white",
            "ticks": ""
           }
          },
          "scene": {
           "xaxis": {
            "backgroundcolor": "#E5ECF6",
            "gridcolor": "white",
            "gridwidth": 2,
            "linecolor": "white",
            "showbackground": true,
            "ticks": "",
            "zerolinecolor": "white"
           },
           "yaxis": {
            "backgroundcolor": "#E5ECF6",
            "gridcolor": "white",
            "gridwidth": 2,
            "linecolor": "white",
            "showbackground": true,
            "ticks": "",
            "zerolinecolor": "white"
           },
           "zaxis": {
            "backgroundcolor": "#E5ECF6",
            "gridcolor": "white",
            "gridwidth": 2,
            "linecolor": "white",
            "showbackground": true,
            "ticks": "",
            "zerolinecolor": "white"
           }
          },
          "shapedefaults": {
           "line": {
            "color": "#2a3f5f"
           }
          },
          "ternary": {
           "aaxis": {
            "gridcolor": "white",
            "linecolor": "white",
            "ticks": ""
           },
           "baxis": {
            "gridcolor": "white",
            "linecolor": "white",
            "ticks": ""
           },
           "bgcolor": "#E5ECF6",
           "caxis": {
            "gridcolor": "white",
            "linecolor": "white",
            "ticks": ""
           }
          },
          "title": {
           "x": 0.05
          },
          "xaxis": {
           "automargin": true,
           "gridcolor": "white",
           "linecolor": "white",
           "ticks": "",
           "title": {
            "standoff": 15
           },
           "zerolinecolor": "white",
           "zerolinewidth": 2
          },
          "yaxis": {
           "automargin": true,
           "gridcolor": "white",
           "linecolor": "white",
           "ticks": "",
           "title": {
            "standoff": 15
           },
           "zerolinecolor": "white",
           "zerolinewidth": 2
          }
         }
        },
        "title": {
         "text": "Shots vs Elapse Time with Linear Regression"
        },
        "width": 1000,
        "xaxis": {
         "title": {
          "text": "# of shots (x-axis)"
         }
        },
        "yaxis": {
         "title": {
          "text": "avg elapse_time (s) (y-axis)"
         }
        }
       }
      }
     },
     "metadata": {},
     "output_type": "display_data"
    },
    {
     "name": "stdout",
     "output_type": "stream",
     "text": [
      "\n",
      "=== 선형 회귀 분석 결과 ===\n",
      "방정식: y = 0.068011x + 21.9048\n",
      "기울기 (a): 0.068011\n",
      "절편 (b): 21.9048\n",
      "R² 점수: 0.1419\n",
      "\n",
      "=== 주요 그룹별 선형 회귀 분석 ===\n",
      "\n",
      "active 그룹:\n",
      "  방정식: y = 0.081221x + 5.9300\n",
      "  데이터 포인트 수: 33\n",
      "\n",
      "thermal 그룹:\n",
      "  방정식: y = -0.008725x + 97.1033\n",
      "  데이터 포인트 수: 6\n",
      "\n",
      "=== amp_steps별 선형 회귀 분석 ===\n",
      "\n",
      "amp_steps = 53:\n",
      "  방정식: y = 0.013840x + 10.0558\n",
      "  데이터 포인트 수: 23\n",
      "\n",
      "amp_steps = 530:\n",
      "  방정식: y = 0.032381x + 13.3210\n",
      "  데이터 포인트 수: 8\n",
      "\n",
      "amp_steps = 5300:\n",
      "  방정식: y = 0.212360x + 82.0603\n",
      "  데이터 포인트 수: 8\n"
     ]
    }
   ],
   "source": [
    "import pandas as pd\n",
    "import plotly.graph_objects as go\n",
    "from plotly.subplots import make_subplots\n",
    "import numpy as np\n",
    "from sklearn.linear_model import LinearRegression\n",
    "import plotly.express as px\n",
    "\n",
    "# 데이터 생성\n",
    "data = {\n",
    "    'reset': ['active', 'active', 'active', 'thermal', 'thermal', 'thermal', \n",
    "              'active', 'active', 'active', 'active', 'active', 'active',\n",
    "              'active', 'active', 'active', 'active', 'active', 'active',\n",
    "              'thermal', 'active', 'active', 'active', 'active', 'active',\n",
    "              'active', 'active', 'active', 'active', 'active', 'active',\n",
    "              'active', 'active', 'active', 'active', 'active', 'active',\n",
    "              'active', 'thermal', 'thermal'],\n",
    "    'max_attempts': ['1', '1', '1', 'none', 'none', 'none', \n",
    "                     '5', '5', '5', '15', '15', '15',\n",
    "                     '30', '30', '30', '1', '15', '30',\n",
    "                     'none', '30', '15', '5', '1', '1',\n",
    "                     '1', '1', '1', '1', '1', '5',\n",
    "                     '5', '5', '5', '15', '15', '15',\n",
    "                     '15', 'none', 'none'],\n",
    "    'amp_steps': [53, 53, 53, 53, 53, 53, \n",
    "                  53, 53, 53, 53, 53, 53,\n",
    "                  53, 53, 53, 53, 53, 53,\n",
    "                  53, 53, 53, 53, 53, 5300,\n",
    "                  530, 5300, 5300, 530, 530, 530,\n",
    "                  530, 530, 530, 5300, 5300, 5300,\n",
    "                  5300, 530, 5300],\n",
    "    'shots': [100, 500, 1000, 100, 500, 1000,\n",
    "              100, 500, 1000, 100, 500, 1000,\n",
    "              100, 500, 1000, 1, 1, 1,\n",
    "              3000, 3000, 3000, 3000, 3000, 3000,\n",
    "              30, 500, 1000, 1000, 500, 100,\n",
    "              500, 1000, 3000, 100, 500, 1000,\n",
    "              3000, 100, 100],\n",
    "    'elapse_time': [8.35, 8.69, 8.53, 16.65, 25.93, 41.7,\n",
    "                    8.58, 16.69, 17.965, 8.365, 16.71, 25.295,\n",
    "                    8.37, 25.08, 33.44, 8.325, 8.365, 8.355,\n",
    "                    94.63, 76.25, 41.67, 24.99, 16.72, 328.38,\n",
    "                    8.35, 67.06, 114.82, 24.95, 16.66, 16.64,\n",
    "                    33.38, 49.92, 116.69, 47.9, 192.06, 386.65,\n",
    "                    1153.2, 41.71, 320.12]\n",
    "}\n",
    "\n",
    "df = pd.DataFrame(data)\n",
    "\n",
    "# 레전드를 위한 조합 생성\n",
    "df['legend'] = df['reset'] + '_' + df['max_attempts'].astype(str) + '_' + df['amp_steps'].astype(str)\n",
    "\n",
    "# 고유한 레전드 값들\n",
    "unique_legends = df['legend'].unique()\n",
    "\n",
    "# 색상 팔레트 생성\n",
    "colors = px.colors.qualitative.Plotly + px.colors.qualitative.Set1 + px.colors.qualitative.Set2\n",
    "\n",
    "# Plotly 그래프 생성\n",
    "fig = go.Figure()\n",
    "\n",
    "# 각 레전드 그룹별로 산점도 추가\n",
    "for i, legend in enumerate(unique_legends):\n",
    "    subset = df[df['legend'] == legend]\n",
    "    fig.add_trace(go.Scatter(\n",
    "        x=subset['shots'],\n",
    "        y=subset['elapse_time'],\n",
    "        mode='markers',\n",
    "        name=legend,\n",
    "        marker=dict(\n",
    "            size=8,\n",
    "            color=colors[i % len(colors)]\n",
    "        )\n",
    "    ))\n",
    "\n",
    "# 전체 데이터에 대한 선형 회귀\n",
    "X = df['shots'].values.reshape(-1, 1)\n",
    "y = df['elapse_time'].values\n",
    "\n",
    "# 선형 회귀 모델 학습\n",
    "model = LinearRegression()\n",
    "model.fit(X, y)\n",
    "\n",
    "# 회귀선을 위한 x 값 생성\n",
    "x_range = np.linspace(df['shots'].min(), df['shots'].max(), 100)\n",
    "y_pred = model.predict(x_range.reshape(-1, 1))\n",
    "\n",
    "# 회귀선 추가\n",
    "fig.add_trace(go.Scatter(\n",
    "    x=x_range,\n",
    "    y=y_pred,\n",
    "    mode='lines',\n",
    "    name=f'Linear Regression (y={model.coef_[0]:.4f}x+{model.intercept_:.2f})',\n",
    "    line=dict(color='red', width=2, dash='dash')\n",
    "))\n",
    "\n",
    "# 레이아웃 설정\n",
    "fig.update_layout(\n",
    "    title='Shots vs Elapse Time with Linear Regression',\n",
    "    xaxis_title='# of shots (x-axis)',\n",
    "    yaxis_title='avg elapse_time (s) (y-axis)',\n",
    "    hovermode='closest',\n",
    "    width=1000,\n",
    "    height=600,\n",
    "    legend=dict(\n",
    "        orientation=\"v\",\n",
    "        yanchor=\"top\",\n",
    "        y=1,\n",
    "        xanchor=\"left\",\n",
    "        x=1.02\n",
    "    )\n",
    ")\n",
    "\n",
    "# 그래프 표시\n",
    "fig.show()\n",
    "\n",
    "# 선형 회귀 결과 출력\n",
    "print(\"\\n=== 선형 회귀 분석 결과 ===\")\n",
    "print(f\"방정식: y = {model.coef_[0]:.6f}x + {model.intercept_:.4f}\")\n",
    "print(f\"기울기 (a): {model.coef_[0]:.6f}\")\n",
    "print(f\"절편 (b): {model.intercept_:.4f}\")\n",
    "\n",
    "# R² 점수 계산\n",
    "from sklearn.metrics import r2_score\n",
    "y_pred_all = model.predict(X)\n",
    "r2 = r2_score(y, y_pred_all)\n",
    "print(f\"R² 점수: {r2:.4f}\")\n",
    "\n",
    "# 추가 분석: 각 파라미터 조합별 회귀 분석\n",
    "print(\"\\n=== 주요 그룹별 선형 회귀 분석 ===\")\n",
    "main_groups = df.groupby('reset')\n",
    "\n",
    "for name, group in main_groups:\n",
    "    if len(group) > 2:  # 최소 3개 이상의 데이터 포인트가 있을 때만 회귀 분석\n",
    "        X_group = group['shots'].values.reshape(-1, 1)\n",
    "        y_group = group['elapse_time'].values\n",
    "        \n",
    "        model_group = LinearRegression()\n",
    "        model_group.fit(X_group, y_group)\n",
    "        \n",
    "        print(f\"\\n{name} 그룹:\")\n",
    "        print(f\"  방정식: y = {model_group.coef_[0]:.6f}x + {model_group.intercept_:.4f}\")\n",
    "        print(f\"  데이터 포인트 수: {len(group)}\")\n",
    "\n",
    "# amp_steps별 분석\n",
    "print(\"\\n=== amp_steps별 선형 회귀 분석 ===\")\n",
    "amp_groups = df.groupby('amp_steps')\n",
    "\n",
    "for amp_step, group in amp_groups:\n",
    "    if len(group) > 2:\n",
    "        X_group = group['shots'].values.reshape(-1, 1)\n",
    "        y_group = group['elapse_time'].values\n",
    "        \n",
    "        model_group = LinearRegression()\n",
    "        model_group.fit(X_group, y_group)\n",
    "        \n",
    "        print(f\"\\namp_steps = {amp_step}:\")\n",
    "        print(f\"  방정식: y = {model_group.coef_[0]:.6f}x + {model_group.intercept_:.4f}\")\n",
    "        print(f\"  데이터 포인트 수: {len(group)}\")"
   ]
  },
  {
   "cell_type": "code",
   "execution_count": 5,
   "id": "3694e8ce",
   "metadata": {},
   "outputs": [
    {
     "data": {
      "application/vnd.plotly.v1+json": {
       "config": {
        "plotlyServerURL": "https://plot.ly"
       },
       "data": [
        {
         "legendgroup": "active_1_53",
         "marker": {
          "color": "#636EFA",
          "size": 8
         },
         "mode": "markers",
         "name": "active_1_53",
         "showlegend": true,
         "type": "scatter",
         "x": [
          100,
          500,
          1000,
          1,
          3000
         ],
         "y": [
          8.35,
          8.69,
          8.53,
          8.325,
          16.72
         ]
        },
        {
         "legendgroup": "active_1_53",
         "line": {
          "color": "#636EFA",
          "dash": "dash",
          "width": 2
         },
         "mode": "lines",
         "name": "active_1_53_regression",
         "showlegend": false,
         "type": "scatter",
         "x": [
          1,
          62.204081632653065,
          123.40816326530613,
          184.6122448979592,
          245.81632653061226,
          307.0204081632653,
          368.2244897959184,
          429.42857142857144,
          490.6326530612245,
          551.8367346938776,
          613.0408163265306,
          674.2448979591837,
          735.4489795918367,
          796.6530612244899,
          857.8571428571429,
          919.061224489796,
          980.265306122449,
          1041.4693877551022,
          1102.6734693877552,
          1163.8775510204082,
          1225.0816326530612,
          1286.2857142857144,
          1347.4897959183675,
          1408.6938775510205,
          1469.8979591836735,
          1531.1020408163265,
          1592.3061224489797,
          1653.5102040816328,
          1714.7142857142858,
          1775.9183673469388,
          1837.122448979592,
          1898.326530612245,
          1959.530612244898,
          2020.734693877551,
          2081.9387755102043,
          2143.1428571428573,
          2204.3469387755104,
          2265.5510204081634,
          2326.7551020408164,
          2387.9591836734694,
          2449.1632653061224,
          2510.3673469387754,
          2571.571428571429,
          2632.775510204082,
          2693.979591836735,
          2755.183673469388,
          2816.387755102041,
          2877.591836734694,
          2938.795918367347,
          3000
         ],
         "y": [
          7.483779367453986,
          7.659509431684761,
          7.835239495915536,
          8.010969560146311,
          8.186699624377086,
          8.362429688607861,
          8.538159752838636,
          8.713889817069411,
          8.889619881300186,
          9.065349945530961,
          9.241080009761736,
          9.416810073992512,
          9.592540138223287,
          9.768270202454062,
          9.944000266684837,
          10.119730330915612,
          10.295460395146389,
          10.471190459377162,
          10.646920523607939,
          10.822650587838712,
          10.99838065206949,
          11.174110716300264,
          11.34984078053104,
          11.525570844761813,
          11.70130090899259,
          11.877030973223363,
          12.05276103745414,
          12.228491101684915,
          12.40422116591569,
          12.579951230146465,
          12.75568129437724,
          12.931411358608015,
          13.10714142283879,
          13.282871487069565,
          13.45860155130034,
          13.634331615531117,
          13.81006167976189,
          13.985791743992666,
          14.16152180822344,
          14.337251872454216,
          14.51298193668499,
          14.688712000915766,
          14.864442065146543,
          15.040172129377318,
          15.215902193608091,
          15.391632257838868,
          15.567362322069643,
          15.743092386300418,
          15.918822450531193,
          16.09455251476197
         ]
        },
        {
         "legendgroup": "thermal_none_53",
         "marker": {
          "color": "#EF553B",
          "size": 8
         },
         "mode": "markers",
         "name": "thermal_none_53",
         "showlegend": true,
         "type": "scatter",
         "x": [
          100,
          500,
          1000,
          3000
         ],
         "y": [
          16.65,
          25.93,
          41.7,
          94.63
         ]
        },
        {
         "legendgroup": "thermal_none_53",
         "line": {
          "color": "#EF553B",
          "dash": "dash",
          "width": 2
         },
         "mode": "lines",
         "name": "thermal_none_53_regression",
         "showlegend": false,
         "type": "scatter",
         "x": [
          100,
          159.18367346938777,
          218.3673469387755,
          277.55102040816325,
          336.734693877551,
          395.9183673469388,
          455.1020408163265,
          514.2857142857142,
          573.469387755102,
          632.6530612244898,
          691.8367346938776,
          751.0204081632653,
          810.204081632653,
          869.3877551020408,
          928.5714285714286,
          987.7551020408164,
          1046.938775510204,
          1106.1224489795918,
          1165.3061224489795,
          1224.4897959183675,
          1283.6734693877552,
          1342.857142857143,
          1402.0408163265306,
          1461.2244897959183,
          1520.408163265306,
          1579.591836734694,
          1638.7755102040817,
          1697.9591836734694,
          1757.142857142857,
          1816.3265306122448,
          1875.5102040816328,
          1934.6938775510205,
          1993.8775510204082,
          2053.0612244897957,
          2112.2448979591836,
          2171.4285714285716,
          2230.612244897959,
          2289.795918367347,
          2348.979591836735,
          2408.1632653061224,
          2467.3469387755104,
          2526.530612244898,
          2585.714285714286,
          2644.8979591836737,
          2704.081632653061,
          2763.265306122449,
          2822.4489795918366,
          2881.6326530612246,
          2940.816326530612,
          3000
         ],
         "y": [
          16.31760563380281,
          17.91894078758263,
          19.520275941362453,
          21.121611095142274,
          22.7229462489221,
          24.32428140270192,
          25.925616556481742,
          27.526951710261564,
          29.128286864041385,
          30.729622017821207,
          32.33095717160103,
          33.93229232538086,
          35.53362747916067,
          37.1349626329405,
          38.73629778672032,
          40.33763294050014,
          41.938968094279964,
          43.540303248059786,
          45.14163840183961,
          46.74297355561943,
          48.34430870939926,
          49.94564386317907,
          51.5469790169589,
          53.148314170738715,
          54.74964932451854,
          56.35098447829837,
          57.952319632078186,
          59.553654785858015,
          61.15498993963783,
          62.75632509341766,
          64.35766024719747,
          65.9589954009773,
          67.56033055475712,
          69.16166570853693,
          70.76300086231676,
          72.36433601609659,
          73.9656711698764,
          75.56700632365623,
          77.16834147743606,
          78.76967663121587,
          80.3710117849957,
          81.97234693877552,
          83.57368209255534,
          85.17501724633517,
          86.77635240011499,
          88.37768755389482,
          89.97902270767463,
          91.58035786145446,
          93.18169301523427,
          94.7830281690141
         ]
        },
        {
         "legendgroup": "active_5_53",
         "marker": {
          "color": "#00CC96",
          "size": 8
         },
         "mode": "markers",
         "name": "active_5_53",
         "showlegend": true,
         "type": "scatter",
         "x": [
          100,
          500,
          1000,
          3000
         ],
         "y": [
          8.58,
          16.69,
          17.965,
          24.99
         ]
        },
        {
         "legendgroup": "active_5_53",
         "line": {
          "color": "#00CC96",
          "dash": "dash",
          "width": 2
         },
         "mode": "lines",
         "name": "active_5_53_regression",
         "showlegend": false,
         "type": "scatter",
         "x": [
          100,
          159.18367346938777,
          218.3673469387755,
          277.55102040816325,
          336.734693877551,
          395.9183673469388,
          455.1020408163265,
          514.2857142857142,
          573.469387755102,
          632.6530612244898,
          691.8367346938776,
          751.0204081632653,
          810.204081632653,
          869.3877551020408,
          928.5714285714286,
          987.7551020408164,
          1046.938775510204,
          1106.1224489795918,
          1165.3061224489795,
          1224.4897959183675,
          1283.6734693877552,
          1342.857142857143,
          1402.0408163265306,
          1461.2244897959183,
          1520.408163265306,
          1579.591836734694,
          1638.7755102040817,
          1697.9591836734694,
          1757.142857142857,
          1816.3265306122448,
          1875.5102040816328,
          1934.6938775510205,
          1993.8775510204082,
          2053.0612244897957,
          2112.2448979591836,
          2171.4285714285716,
          2230.612244897959,
          2289.795918367347,
          2348.979591836735,
          2408.1632653061224,
          2467.3469387755104,
          2526.530612244898,
          2585.714285714286,
          2644.8979591836737,
          2704.081632653061,
          2763.265306122449,
          2822.4489795918366,
          2881.6326530612246,
          2940.816326530612,
          3000
         ],
         "y": [
          12.053591549295774,
          12.335568410462775,
          12.617545271629778,
          12.899522132796779,
          13.181498993963782,
          13.463475855130783,
          13.745452716297786,
          14.027429577464787,
          14.30940643863179,
          14.591383299798792,
          14.873360160965793,
          15.155337022132795,
          15.437313883299797,
          15.7192907444668,
          16.0012676056338,
          16.283244466800802,
          16.565221327967805,
          16.847198189134808,
          17.12917505030181,
          17.411151911468814,
          17.693128772635816,
          17.975105633802816,
          18.25708249496982,
          18.539059356136818,
          18.82103621730382,
          19.103013078470823,
          19.384989939637826,
          19.66696680080483,
          19.948943661971832,
          20.23092052313883,
          20.512897384305834,
          20.794874245472837,
          21.076851106639836,
          21.35882796780684,
          21.64080482897384,
          21.922781690140845,
          22.204758551307847,
          22.48673541247485,
          22.768712273641853,
          23.050689134808852,
          23.332665995975855,
          23.614642857142854,
          23.896619718309857,
          24.17859657947686,
          24.460573440643863,
          24.742550301810866,
          25.02452716297787,
          25.30650402414487,
          25.588480885311867,
          25.87045774647887
         ]
        },
        {
         "legendgroup": "active_15_53",
         "marker": {
          "color": "#AB63FA",
          "size": 8
         },
         "mode": "markers",
         "name": "active_15_53",
         "showlegend": true,
         "type": "scatter",
         "x": [
          100,
          500,
          1000,
          1,
          3000
         ],
         "y": [
          8.365,
          16.71,
          25.295,
          8.365,
          41.67
         ]
        },
        {
         "legendgroup": "active_15_53",
         "line": {
          "color": "#AB63FA",
          "dash": "dash",
          "width": 2
         },
         "mode": "lines",
         "name": "active_15_53_regression",
         "showlegend": false,
         "type": "scatter",
         "x": [
          1,
          62.204081632653065,
          123.40816326530613,
          184.6122448979592,
          245.81632653061226,
          307.0204081632653,
          368.2244897959184,
          429.42857142857144,
          490.6326530612245,
          551.8367346938776,
          613.0408163265306,
          674.2448979591837,
          735.4489795918367,
          796.6530612244899,
          857.8571428571429,
          919.061224489796,
          980.265306122449,
          1041.4693877551022,
          1102.6734693877552,
          1163.8775510204082,
          1225.0816326530612,
          1286.2857142857144,
          1347.4897959183675,
          1408.6938775510205,
          1469.8979591836735,
          1531.1020408163265,
          1592.3061224489797,
          1653.5102040816328,
          1714.7142857142858,
          1775.9183673469388,
          1837.122448979592,
          1898.326530612245,
          1959.530612244898,
          2020.734693877551,
          2081.9387755102043,
          2143.1428571428573,
          2204.3469387755104,
          2265.5510204081634,
          2326.7551020408164,
          2387.9591836734694,
          2449.1632653061224,
          2510.3673469387754,
          2571.571428571429,
          2632.775510204082,
          2693.979591836735,
          2755.183673469388,
          2816.387755102041,
          2877.591836734694,
          2938.795918367347,
          3000
         ],
         "y": [
          9.844047887338158,
          10.525665873383542,
          11.207283859428923,
          11.888901845474306,
          12.570519831519688,
          13.252137817565071,
          13.933755803610453,
          14.615373789655836,
          15.296991775701219,
          15.9786097617466,
          16.660227747791982,
          17.341845733837367,
          18.02346371988275,
          18.70508170592813,
          19.38669969197351,
          20.068317678018897,
          20.749935664064278,
          21.431553650109663,
          22.113171636155045,
          22.794789622200426,
          23.476407608245808,
          24.15802559429119,
          24.83964358033657,
          25.521261566381952,
          26.202879552427337,
          26.88449753847272,
          27.566115524518104,
          28.247733510563485,
          28.929351496608867,
          29.610969482654248,
          30.292587468699633,
          30.974205454745015,
          31.655823440790396,
          32.33744142683578,
          33.01905941288116,
          33.700677398926544,
          34.382295384971926,
          35.06391337101731,
          35.74553135706269,
          36.42714934310807,
          37.10876732915345,
          37.79038531519883,
          38.47200330124422,
          39.15362128728961,
          39.83523927333499,
          40.51685725938037,
          41.198475245425755,
          41.880093231471136,
          42.56171121751652,
          43.2433292035619
         ]
        },
        {
         "legendgroup": "active_30_53",
         "marker": {
          "color": "#FFA15A",
          "size": 8
         },
         "mode": "markers",
         "name": "active_30_53",
         "showlegend": true,
         "type": "scatter",
         "x": [
          100,
          500,
          1000,
          1,
          3000
         ],
         "y": [
          8.37,
          25.08,
          33.44,
          8.355,
          76.25
         ]
        },
        {
         "legendgroup": "active_30_53",
         "line": {
          "color": "#FFA15A",
          "dash": "dash",
          "width": 2
         },
         "mode": "lines",
         "name": "active_30_53_regression",
         "showlegend": false,
         "type": "scatter",
         "x": [
          1,
          62.204081632653065,
          123.40816326530613,
          184.6122448979592,
          245.81632653061226,
          307.0204081632653,
          368.2244897959184,
          429.42857142857144,
          490.6326530612245,
          551.8367346938776,
          613.0408163265306,
          674.2448979591837,
          735.4489795918367,
          796.6530612244899,
          857.8571428571429,
          919.061224489796,
          980.265306122449,
          1041.4693877551022,
          1102.6734693877552,
          1163.8775510204082,
          1225.0816326530612,
          1286.2857142857144,
          1347.4897959183675,
          1408.6938775510205,
          1469.8979591836735,
          1531.1020408163265,
          1592.3061224489797,
          1653.5102040816328,
          1714.7142857142858,
          1775.9183673469388,
          1837.122448979592,
          1898.326530612245,
          1959.530612244898,
          2020.734693877551,
          2081.9387755102043,
          2143.1428571428573,
          2204.3469387755104,
          2265.5510204081634,
          2326.7551020408164,
          2387.9591836734694,
          2449.1632653061224,
          2510.3673469387754,
          2571.571428571429,
          2632.775510204082,
          2693.979591836735,
          2755.183673469388,
          2816.387755102041,
          2877.591836734694,
          2938.795918367347,
          3000
         ],
         "y": [
          9.528371410865772,
          10.911364500216173,
          12.294357589566575,
          13.677350678916977,
          15.060343768267376,
          16.44333685761778,
          17.82632994696818,
          19.20932303631858,
          20.59231612566898,
          21.975309215019383,
          23.358302304369783,
          24.741295393720186,
          26.124288483070586,
          27.50728157242099,
          28.89027466177139,
          30.273267751121793,
          31.656260840472193,
          33.03925392982259,
          34.422247019173,
          35.80524010852339,
          37.1882331978738,
          38.5712262872242,
          39.9542193765746,
          41.337212465925006,
          42.7202055552754,
          44.103198644625806,
          45.48619173397621,
          46.869184823326606,
          48.25217791267701,
          49.635171002027406,
          51.01816409137781,
          52.40115718072822,
          53.78415027007861,
          55.16714335942902,
          56.55013644877941,
          57.93312953812982,
          59.31612262748021,
          60.69911571683062,
          62.08210880618101,
          63.46510189553142,
          64.84809498488183,
          66.23108807423222,
          67.61408116358263,
          68.99707425293303,
          70.38006734228343,
          71.76306043163383,
          73.14605352098422,
          74.52904661033463,
          75.91203969968504,
          77.29503278903543
         ]
        },
        {
         "legendgroup": "active_1_5300",
         "marker": {
          "color": "#19D3F3",
          "size": 8
         },
         "mode": "markers",
         "name": "active_1_5300",
         "showlegend": true,
         "type": "scatter",
         "x": [
          3000,
          500,
          1000
         ],
         "y": [
          328.38,
          67.06,
          114.82
         ]
        },
        {
         "legendgroup": "active_1_5300",
         "line": {
          "color": "#19D3F3",
          "dash": "dash",
          "width": 2
         },
         "mode": "lines",
         "name": "active_1_5300_regression",
         "showlegend": false,
         "type": "scatter",
         "x": [
          500,
          551.0204081632653,
          602.0408163265306,
          653.0612244897959,
          704.0816326530612,
          755.1020408163265,
          806.1224489795918,
          857.1428571428571,
          908.1632653061224,
          959.1836734693877,
          1010.204081632653,
          1061.2244897959185,
          1112.2448979591836,
          1163.2653061224491,
          1214.2857142857142,
          1265.3061224489797,
          1316.3265306122448,
          1367.3469387755104,
          1418.3673469387754,
          1469.387755102041,
          1520.408163265306,
          1571.4285714285716,
          1622.4489795918369,
          1673.4693877551022,
          1724.4897959183675,
          1775.5102040816328,
          1826.530612244898,
          1877.5510204081634,
          1928.5714285714287,
          1979.591836734694,
          2030.6122448979593,
          2081.6326530612246,
          2132.6530612244896,
          2183.673469387755,
          2234.6938775510207,
          2285.714285714286,
          2336.734693877551,
          2387.7551020408164,
          2438.775510204082,
          2489.795918367347,
          2540.816326530612,
          2591.8367346938776,
          2642.857142857143,
          2693.877551020408,
          2744.8979591836737,
          2795.918367346939,
          2846.9387755102043,
          2897.9591836734694,
          2948.979591836735,
          3000
         ],
         "y": [
          64.91523809523807,
          70.28112730806606,
          75.64701652089406,
          81.01290573372205,
          86.37879494655003,
          91.74468415937802,
          97.110573372206,
          102.476462585034,
          107.842351797862,
          113.20824101068997,
          118.57413022351797,
          123.94001943634598,
          129.30590864917394,
          134.67179786200194,
          140.03768707482993,
          145.40357628765793,
          150.7694655004859,
          156.13535471331392,
          161.50124392614188,
          166.8671331389699,
          172.23302235179787,
          177.59891156462587,
          182.96480077745386,
          188.33068999028185,
          193.69657920310985,
          199.06246841593781,
          204.4283576287658,
          209.7942468415938,
          215.1601360544218,
          220.5260252672498,
          225.8919144800778,
          231.25780369290575,
          236.62369290573372,
          241.98958211856174,
          247.35547133138977,
          252.72136054421773,
          258.0872497570457,
          263.4531389698737,
          268.8190281827017,
          274.1849173955297,
          279.5508066083576,
          284.91669582118567,
          290.28258503401366,
          295.64847424684166,
          301.01436345966965,
          306.3802526724976,
          311.74614188532564,
          317.1120310981536,
          322.4779203109816,
          327.84380952380957
         ]
        },
        {
         "legendgroup": "active_1_530",
         "marker": {
          "color": "#FF6692",
          "size": 8
         },
         "mode": "markers",
         "name": "active_1_530",
         "showlegend": true,
         "type": "scatter",
         "x": [
          30,
          1000,
          500
         ],
         "y": [
          8.35,
          24.95,
          16.66
         ]
        },
        {
         "legendgroup": "active_1_530",
         "line": {
          "color": "#FF6692",
          "dash": "dash",
          "width": 2
         },
         "mode": "lines",
         "name": "active_1_530_regression",
         "showlegend": false,
         "type": "scatter",
         "x": [
          30,
          49.79591836734694,
          69.59183673469389,
          89.38775510204081,
          109.18367346938776,
          128.9795918367347,
          148.77551020408163,
          168.57142857142858,
          188.3673469387755,
          208.16326530612244,
          227.9591836734694,
          247.75510204081633,
          267.55102040816325,
          287.3469387755102,
          307.14285714285717,
          326.9387755102041,
          346.734693877551,
          366.53061224489795,
          386.3265306122449,
          406.12244897959187,
          425.9183673469388,
          445.7142857142857,
          465.51020408163265,
          485.3061224489796,
          505.1020408163265,
          524.8979591836735,
          544.6938775510204,
          564.4897959183673,
          584.2857142857143,
          604.0816326530612,
          623.8775510204082,
          643.6734693877551,
          663.469387755102,
          683.265306122449,
          703.0612244897959,
          722.8571428571429,
          742.6530612244898,
          762.4489795918367,
          782.2448979591837,
          802.0408163265306,
          821.8367346938776,
          841.6326530612245,
          861.4285714285714,
          881.2244897959184,
          901.0204081632653,
          920.8163265306123,
          940.6122448979592,
          960.4081632653061,
          980.204081632653,
          1000
         ],
         "y": [
          8.441620626151016,
          8.78028394783328,
          9.118947269515543,
          9.457610591197806,
          9.796273912880071,
          10.134937234562335,
          10.473600556244598,
          10.812263877926863,
          11.150927199609127,
          11.48959052129139,
          11.828253842973655,
          12.166917164655919,
          12.505580486338182,
          12.844243808020446,
          13.182907129702711,
          13.521570451384974,
          13.86023377306724,
          14.198897094749501,
          14.537560416431766,
          14.876223738114032,
          15.214887059796293,
          15.553550381478559,
          15.892213703160822,
          16.230877024843085,
          16.56954034652535,
          16.908203668207612,
          17.246866989889877,
          17.585530311572143,
          17.924193633254404,
          18.26285695493667,
          18.601520276618935,
          18.940183598301196,
          19.27884691998346,
          19.617510241665727,
          19.95617356334799,
          20.294836885030254,
          20.63350020671252,
          20.97216352839478,
          21.310826850077046,
          21.64949017175931,
          21.988153493441573,
          22.326816815123834,
          22.665480136806103,
          23.004143458488365,
          23.342806780170626,
          23.681470101852895,
          24.020133423535157,
          24.358796745217422,
          24.697460066899684,
          25.03612338858195
         ]
        },
        {
         "legendgroup": "active_5_530",
         "marker": {
          "color": "#B6E880",
          "size": 8
         },
         "mode": "markers",
         "name": "active_5_530",
         "showlegend": true,
         "type": "scatter",
         "x": [
          100,
          500,
          1000,
          3000
         ],
         "y": [
          16.64,
          33.38,
          49.92,
          116.69
         ]
        },
        {
         "legendgroup": "active_5_530",
         "line": {
          "color": "#B6E880",
          "dash": "dash",
          "width": 2
         },
         "mode": "lines",
         "name": "active_5_530_regression",
         "showlegend": false,
         "type": "scatter",
         "x": [
          100,
          159.18367346938777,
          218.3673469387755,
          277.55102040816325,
          336.734693877551,
          395.9183673469388,
          455.1020408163265,
          514.2857142857142,
          573.469387755102,
          632.6530612244898,
          691.8367346938776,
          751.0204081632653,
          810.204081632653,
          869.3877551020408,
          928.5714285714286,
          987.7551020408164,
          1046.938775510204,
          1106.1224489795918,
          1165.3061224489795,
          1224.4897959183675,
          1283.6734693877552,
          1342.857142857143,
          1402.0408163265306,
          1461.2244897959183,
          1520.408163265306,
          1579.591836734694,
          1638.7755102040817,
          1697.9591836734694,
          1757.142857142857,
          1816.3265306122448,
          1875.5102040816328,
          1934.6938775510205,
          1993.8775510204082,
          2053.0612244897957,
          2112.2448979591836,
          2171.4285714285716,
          2230.612244897959,
          2289.795918367347,
          2348.979591836735,
          2408.1632653061224,
          2467.3469387755104,
          2526.530612244898,
          2585.714285714286,
          2644.8979591836737,
          2704.081632653061,
          2763.265306122449,
          2822.4489795918366,
          2881.6326530612246,
          2940.816326530612,
          3000
         ],
         "y": [
          18.406901408450697,
          20.421998316429182,
          22.437095224407663,
          24.45219213238615,
          26.467289040364633,
          28.482385948343115,
          30.497482856321597,
          32.512579764300085,
          34.52767667227857,
          36.54277358025705,
          38.55787048823554,
          40.57296739621401,
          42.5880643041925,
          44.60316121217099,
          46.61825812014946,
          48.63335502812795,
          50.64845193610643,
          52.663548844084914,
          54.678645752063396,
          56.693742660041885,
          58.708839568020366,
          60.723936475998855,
          62.739033383977336,
          64.75413029195582,
          66.7692271999343,
          68.7843241079128,
          70.79942101589127,
          72.81451792386974,
          74.82961483184823,
          76.84471173982672,
          78.85980864780521,
          80.87490555578368,
          82.89000246376217,
          84.90509937174065,
          86.92019627971914,
          88.93529318769762,
          90.9503900956761,
          92.96548700365459,
          94.98058391163308,
          96.99568081961155,
          99.01077772759004,
          101.02587463556851,
          103.040971543547,
          105.05606845152549,
          107.07116535950396,
          109.08626226748245,
          111.10135917546093,
          113.11645608343942,
          115.13155299141789,
          117.14664989939638
         ]
        },
        {
         "legendgroup": "active_15_5300",
         "marker": {
          "color": "#FF97FF",
          "size": 8
         },
         "mode": "markers",
         "name": "active_15_5300",
         "showlegend": true,
         "type": "scatter",
         "x": [
          100,
          500,
          1000,
          3000
         ],
         "y": [
          47.9,
          192.06,
          386.65,
          1153.2
         ]
        },
        {
         "legendgroup": "active_15_5300",
         "line": {
          "color": "#FF97FF",
          "dash": "dash",
          "width": 2
         },
         "mode": "lines",
         "name": "active_15_5300_regression",
         "showlegend": false,
         "type": "scatter",
         "x": [
          100,
          159.18367346938777,
          218.3673469387755,
          277.55102040816325,
          336.734693877551,
          395.9183673469388,
          455.1020408163265,
          514.2857142857142,
          573.469387755102,
          632.6530612244898,
          691.8367346938776,
          751.0204081632653,
          810.204081632653,
          869.3877551020408,
          928.5714285714286,
          987.7551020408164,
          1046.938775510204,
          1106.1224489795918,
          1165.3061224489795,
          1224.4897959183675,
          1283.6734693877552,
          1342.857142857143,
          1402.0408163265306,
          1461.2244897959183,
          1520.408163265306,
          1579.591836734694,
          1638.7755102040817,
          1697.9591836734694,
          1757.142857142857,
          1816.3265306122448,
          1875.5102040816328,
          1934.6938775510205,
          1993.8775510204082,
          2053.0612244897957,
          2112.2448979591836,
          2171.4285714285716,
          2230.612244897959,
          2289.795918367347,
          2348.979591836735,
          2408.1632653061224,
          2467.3469387755104,
          2526.530612244898,
          2585.714285714286,
          2644.8979591836737,
          2704.081632653061,
          2763.265306122449,
          2822.4489795918366,
          2881.6326530612246,
          2940.816326530612,
          3000
         ],
         "y": [
          43.48309859154917,
          66.11208331622376,
          88.74106804089834,
          111.37005276557292,
          133.9990374902475,
          156.6280222149221,
          179.25700693959666,
          201.88599166427124,
          224.51497638894585,
          247.14396111362043,
          269.772945838295,
          292.4019305629696,
          315.0309152876442,
          337.6599000123188,
          360.28888473699334,
          382.917869461668,
          405.54685418634256,
          428.1758389110171,
          450.80482363569166,
          473.43380836036636,
          496.0627930850409,
          518.6917778097155,
          541.32076253439,
          563.9497472590646,
          586.5787319837392,
          609.2077167084138,
          631.8367014330884,
          654.465686157763,
          677.0946708824375,
          699.7236556071122,
          722.3526403317868,
          744.9816250564613,
          767.610609781136,
          790.2395945058104,
          812.868579230485,
          835.4975639551596,
          858.1265486798342,
          880.7555334045088,
          903.3845181291834,
          926.013502853858,
          948.6424875785326,
          971.2714723032071,
          993.9004570278818,
          1016.5294417525564,
          1039.158426477231,
          1061.7874112019056,
          1084.41639592658,
          1107.0453806512546,
          1129.6743653759293,
          1152.303350100604
         ]
        },
        {
         "legendgroup": "thermal_none_530",
         "marker": {
          "color": "#FECB52",
          "size": 8
         },
         "mode": "markers",
         "name": "thermal_none_530",
         "showlegend": true,
         "type": "scatter",
         "x": [
          100
         ],
         "y": [
          41.71
         ]
        },
        {
         "legendgroup": "thermal_none_5300",
         "marker": {
          "color": "rgb(228,26,28)",
          "size": 8
         },
         "mode": "markers",
         "name": "thermal_none_5300",
         "showlegend": true,
         "type": "scatter",
         "x": [
          100
         ],
         "y": [
          320.12
         ]
        }
       ],
       "layout": {
        "height": 700,
        "hovermode": "closest",
        "legend": {
         "orientation": "v",
         "x": 1.02,
         "xanchor": "left",
         "y": 1,
         "yanchor": "top"
        },
        "template": {
         "data": {
          "bar": [
           {
            "error_x": {
             "color": "#2a3f5f"
            },
            "error_y": {
             "color": "#2a3f5f"
            },
            "marker": {
             "line": {
              "color": "#E5ECF6",
              "width": 0.5
             },
             "pattern": {
              "fillmode": "overlay",
              "size": 10,
              "solidity": 0.2
             }
            },
            "type": "bar"
           }
          ],
          "barpolar": [
           {
            "marker": {
             "line": {
              "color": "#E5ECF6",
              "width": 0.5
             },
             "pattern": {
              "fillmode": "overlay",
              "size": 10,
              "solidity": 0.2
             }
            },
            "type": "barpolar"
           }
          ],
          "carpet": [
           {
            "aaxis": {
             "endlinecolor": "#2a3f5f",
             "gridcolor": "white",
             "linecolor": "white",
             "minorgridcolor": "white",
             "startlinecolor": "#2a3f5f"
            },
            "baxis": {
             "endlinecolor": "#2a3f5f",
             "gridcolor": "white",
             "linecolor": "white",
             "minorgridcolor": "white",
             "startlinecolor": "#2a3f5f"
            },
            "type": "carpet"
           }
          ],
          "choropleth": [
           {
            "colorbar": {
             "outlinewidth": 0,
             "ticks": ""
            },
            "type": "choropleth"
           }
          ],
          "contour": [
           {
            "colorbar": {
             "outlinewidth": 0,
             "ticks": ""
            },
            "colorscale": [
             [
              0,
              "#0d0887"
             ],
             [
              0.1111111111111111,
              "#46039f"
             ],
             [
              0.2222222222222222,
              "#7201a8"
             ],
             [
              0.3333333333333333,
              "#9c179e"
             ],
             [
              0.4444444444444444,
              "#bd3786"
             ],
             [
              0.5555555555555556,
              "#d8576b"
             ],
             [
              0.6666666666666666,
              "#ed7953"
             ],
             [
              0.7777777777777778,
              "#fb9f3a"
             ],
             [
              0.8888888888888888,
              "#fdca26"
             ],
             [
              1,
              "#f0f921"
             ]
            ],
            "type": "contour"
           }
          ],
          "contourcarpet": [
           {
            "colorbar": {
             "outlinewidth": 0,
             "ticks": ""
            },
            "type": "contourcarpet"
           }
          ],
          "heatmap": [
           {
            "colorbar": {
             "outlinewidth": 0,
             "ticks": ""
            },
            "colorscale": [
             [
              0,
              "#0d0887"
             ],
             [
              0.1111111111111111,
              "#46039f"
             ],
             [
              0.2222222222222222,
              "#7201a8"
             ],
             [
              0.3333333333333333,
              "#9c179e"
             ],
             [
              0.4444444444444444,
              "#bd3786"
             ],
             [
              0.5555555555555556,
              "#d8576b"
             ],
             [
              0.6666666666666666,
              "#ed7953"
             ],
             [
              0.7777777777777778,
              "#fb9f3a"
             ],
             [
              0.8888888888888888,
              "#fdca26"
             ],
             [
              1,
              "#f0f921"
             ]
            ],
            "type": "heatmap"
           }
          ],
          "heatmapgl": [
           {
            "colorbar": {
             "outlinewidth": 0,
             "ticks": ""
            },
            "colorscale": [
             [
              0,
              "#0d0887"
             ],
             [
              0.1111111111111111,
              "#46039f"
             ],
             [
              0.2222222222222222,
              "#7201a8"
             ],
             [
              0.3333333333333333,
              "#9c179e"
             ],
             [
              0.4444444444444444,
              "#bd3786"
             ],
             [
              0.5555555555555556,
              "#d8576b"
             ],
             [
              0.6666666666666666,
              "#ed7953"
             ],
             [
              0.7777777777777778,
              "#fb9f3a"
             ],
             [
              0.8888888888888888,
              "#fdca26"
             ],
             [
              1,
              "#f0f921"
             ]
            ],
            "type": "heatmapgl"
           }
          ],
          "histogram": [
           {
            "marker": {
             "pattern": {
              "fillmode": "overlay",
              "size": 10,
              "solidity": 0.2
             }
            },
            "type": "histogram"
           }
          ],
          "histogram2d": [
           {
            "colorbar": {
             "outlinewidth": 0,
             "ticks": ""
            },
            "colorscale": [
             [
              0,
              "#0d0887"
             ],
             [
              0.1111111111111111,
              "#46039f"
             ],
             [
              0.2222222222222222,
              "#7201a8"
             ],
             [
              0.3333333333333333,
              "#9c179e"
             ],
             [
              0.4444444444444444,
              "#bd3786"
             ],
             [
              0.5555555555555556,
              "#d8576b"
             ],
             [
              0.6666666666666666,
              "#ed7953"
             ],
             [
              0.7777777777777778,
              "#fb9f3a"
             ],
             [
              0.8888888888888888,
              "#fdca26"
             ],
             [
              1,
              "#f0f921"
             ]
            ],
            "type": "histogram2d"
           }
          ],
          "histogram2dcontour": [
           {
            "colorbar": {
             "outlinewidth": 0,
             "ticks": ""
            },
            "colorscale": [
             [
              0,
              "#0d0887"
             ],
             [
              0.1111111111111111,
              "#46039f"
             ],
             [
              0.2222222222222222,
              "#7201a8"
             ],
             [
              0.3333333333333333,
              "#9c179e"
             ],
             [
              0.4444444444444444,
              "#bd3786"
             ],
             [
              0.5555555555555556,
              "#d8576b"
             ],
             [
              0.6666666666666666,
              "#ed7953"
             ],
             [
              0.7777777777777778,
              "#fb9f3a"
             ],
             [
              0.8888888888888888,
              "#fdca26"
             ],
             [
              1,
              "#f0f921"
             ]
            ],
            "type": "histogram2dcontour"
           }
          ],
          "mesh3d": [
           {
            "colorbar": {
             "outlinewidth": 0,
             "ticks": ""
            },
            "type": "mesh3d"
           }
          ],
          "parcoords": [
           {
            "line": {
             "colorbar": {
              "outlinewidth": 0,
              "ticks": ""
             }
            },
            "type": "parcoords"
           }
          ],
          "pie": [
           {
            "automargin": true,
            "type": "pie"
           }
          ],
          "scatter": [
           {
            "fillpattern": {
             "fillmode": "overlay",
             "size": 10,
             "solidity": 0.2
            },
            "type": "scatter"
           }
          ],
          "scatter3d": [
           {
            "line": {
             "colorbar": {
              "outlinewidth": 0,
              "ticks": ""
             }
            },
            "marker": {
             "colorbar": {
              "outlinewidth": 0,
              "ticks": ""
             }
            },
            "type": "scatter3d"
           }
          ],
          "scattercarpet": [
           {
            "marker": {
             "colorbar": {
              "outlinewidth": 0,
              "ticks": ""
             }
            },
            "type": "scattercarpet"
           }
          ],
          "scattergeo": [
           {
            "marker": {
             "colorbar": {
              "outlinewidth": 0,
              "ticks": ""
             }
            },
            "type": "scattergeo"
           }
          ],
          "scattergl": [
           {
            "marker": {
             "colorbar": {
              "outlinewidth": 0,
              "ticks": ""
             }
            },
            "type": "scattergl"
           }
          ],
          "scattermapbox": [
           {
            "marker": {
             "colorbar": {
              "outlinewidth": 0,
              "ticks": ""
             }
            },
            "type": "scattermapbox"
           }
          ],
          "scatterpolar": [
           {
            "marker": {
             "colorbar": {
              "outlinewidth": 0,
              "ticks": ""
             }
            },
            "type": "scatterpolar"
           }
          ],
          "scatterpolargl": [
           {
            "marker": {
             "colorbar": {
              "outlinewidth": 0,
              "ticks": ""
             }
            },
            "type": "scatterpolargl"
           }
          ],
          "scatterternary": [
           {
            "marker": {
             "colorbar": {
              "outlinewidth": 0,
              "ticks": ""
             }
            },
            "type": "scatterternary"
           }
          ],
          "surface": [
           {
            "colorbar": {
             "outlinewidth": 0,
             "ticks": ""
            },
            "colorscale": [
             [
              0,
              "#0d0887"
             ],
             [
              0.1111111111111111,
              "#46039f"
             ],
             [
              0.2222222222222222,
              "#7201a8"
             ],
             [
              0.3333333333333333,
              "#9c179e"
             ],
             [
              0.4444444444444444,
              "#bd3786"
             ],
             [
              0.5555555555555556,
              "#d8576b"
             ],
             [
              0.6666666666666666,
              "#ed7953"
             ],
             [
              0.7777777777777778,
              "#fb9f3a"
             ],
             [
              0.8888888888888888,
              "#fdca26"
             ],
             [
              1,
              "#f0f921"
             ]
            ],
            "type": "surface"
           }
          ],
          "table": [
           {
            "cells": {
             "fill": {
              "color": "#EBF0F8"
             },
             "line": {
              "color": "white"
             }
            },
            "header": {
             "fill": {
              "color": "#C8D4E3"
             },
             "line": {
              "color": "white"
             }
            },
            "type": "table"
           }
          ]
         },
         "layout": {
          "annotationdefaults": {
           "arrowcolor": "#2a3f5f",
           "arrowhead": 0,
           "arrowwidth": 1
          },
          "autotypenumbers": "strict",
          "coloraxis": {
           "colorbar": {
            "outlinewidth": 0,
            "ticks": ""
           }
          },
          "colorscale": {
           "diverging": [
            [
             0,
             "#8e0152"
            ],
            [
             0.1,
             "#c51b7d"
            ],
            [
             0.2,
             "#de77ae"
            ],
            [
             0.3,
             "#f1b6da"
            ],
            [
             0.4,
             "#fde0ef"
            ],
            [
             0.5,
             "#f7f7f7"
            ],
            [
             0.6,
             "#e6f5d0"
            ],
            [
             0.7,
             "#b8e186"
            ],
            [
             0.8,
             "#7fbc41"
            ],
            [
             0.9,
             "#4d9221"
            ],
            [
             1,
             "#276419"
            ]
           ],
           "sequential": [
            [
             0,
             "#0d0887"
            ],
            [
             0.1111111111111111,
             "#46039f"
            ],
            [
             0.2222222222222222,
             "#7201a8"
            ],
            [
             0.3333333333333333,
             "#9c179e"
            ],
            [
             0.4444444444444444,
             "#bd3786"
            ],
            [
             0.5555555555555556,
             "#d8576b"
            ],
            [
             0.6666666666666666,
             "#ed7953"
            ],
            [
             0.7777777777777778,
             "#fb9f3a"
            ],
            [
             0.8888888888888888,
             "#fdca26"
            ],
            [
             1,
             "#f0f921"
            ]
           ],
           "sequentialminus": [
            [
             0,
             "#0d0887"
            ],
            [
             0.1111111111111111,
             "#46039f"
            ],
            [
             0.2222222222222222,
             "#7201a8"
            ],
            [
             0.3333333333333333,
             "#9c179e"
            ],
            [
             0.4444444444444444,
             "#bd3786"
            ],
            [
             0.5555555555555556,
             "#d8576b"
            ],
            [
             0.6666666666666666,
             "#ed7953"
            ],
            [
             0.7777777777777778,
             "#fb9f3a"
            ],
            [
             0.8888888888888888,
             "#fdca26"
            ],
            [
             1,
             "#f0f921"
            ]
           ]
          },
          "colorway": [
           "#636efa",
           "#EF553B",
           "#00cc96",
           "#ab63fa",
           "#FFA15A",
           "#19d3f3",
           "#FF6692",
           "#B6E880",
           "#FF97FF",
           "#FECB52"
          ],
          "font": {
           "color": "#2a3f5f"
          },
          "geo": {
           "bgcolor": "white",
           "lakecolor": "white",
           "landcolor": "#E5ECF6",
           "showlakes": true,
           "showland": true,
           "subunitcolor": "white"
          },
          "hoverlabel": {
           "align": "left"
          },
          "hovermode": "closest",
          "mapbox": {
           "style": "light"
          },
          "paper_bgcolor": "white",
          "plot_bgcolor": "#E5ECF6",
          "polar": {
           "angularaxis": {
            "gridcolor": "white",
            "linecolor": "white",
            "ticks": ""
           },
           "bgcolor": "#E5ECF6",
           "radialaxis": {
            "gridcolor": "white",
            "linecolor": "white",
            "ticks": ""
           }
          },
          "scene": {
           "xaxis": {
            "backgroundcolor": "#E5ECF6",
            "gridcolor": "white",
            "gridwidth": 2,
            "linecolor": "white",
            "showbackground": true,
            "ticks": "",
            "zerolinecolor": "white"
           },
           "yaxis": {
            "backgroundcolor": "#E5ECF6",
            "gridcolor": "white",
            "gridwidth": 2,
            "linecolor": "white",
            "showbackground": true,
            "ticks": "",
            "zerolinecolor": "white"
           },
           "zaxis": {
            "backgroundcolor": "#E5ECF6",
            "gridcolor": "white",
            "gridwidth": 2,
            "linecolor": "white",
            "showbackground": true,
            "ticks": "",
            "zerolinecolor": "white"
           }
          },
          "shapedefaults": {
           "line": {
            "color": "#2a3f5f"
           }
          },
          "ternary": {
           "aaxis": {
            "gridcolor": "white",
            "linecolor": "white",
            "ticks": ""
           },
           "baxis": {
            "gridcolor": "white",
            "linecolor": "white",
            "ticks": ""
           },
           "bgcolor": "#E5ECF6",
           "caxis": {
            "gridcolor": "white",
            "linecolor": "white",
            "ticks": ""
           }
          },
          "title": {
           "x": 0.05
          },
          "xaxis": {
           "automargin": true,
           "gridcolor": "white",
           "linecolor": "white",
           "ticks": "",
           "title": {
            "standoff": 15
           },
           "zerolinecolor": "white",
           "zerolinewidth": 2
          },
          "yaxis": {
           "automargin": true,
           "gridcolor": "white",
           "linecolor": "white",
           "ticks": "",
           "title": {
            "standoff": 15
           },
           "zerolinecolor": "white",
           "zerolinewidth": 2
          }
         }
        },
        "title": {
         "text": "Shots vs Elapse Time with Individual Linear Regressions"
        },
        "width": 1200,
        "xaxis": {
         "title": {
          "text": "# of shots (x-axis)"
         }
        },
        "yaxis": {
         "title": {
          "text": "avg elapse_time (s) (y-axis)"
         }
        }
       }
      }
     },
     "metadata": {},
     "output_type": "display_data"
    },
    {
     "name": "stdout",
     "output_type": "stream",
     "text": [
      "\n",
      "======================================================================\n",
      "각 레전드별 선형 회귀 분석 결과 (y = ax + b)\n",
      "======================================================================\n",
      "\n",
      "레전드: active_15_53\n",
      "  방정식: y = 0.0111x + 9.83\n",
      "  기울기 (a): 0.011137\n",
      "  절편 (b): 9.8329\n",
      "  데이터 포인트 수: 5\n",
      "\n",
      "레전드: active_15_5300\n",
      "  방정식: y = 0.3824x + 5.25\n",
      "  기울기 (a): 0.382352\n",
      "  절편 (b): 5.2479\n",
      "  데이터 포인트 수: 4\n",
      "\n",
      "레전드: active_1_53\n",
      "  방정식: y = 0.0029x + 7.48\n",
      "  기울기 (a): 0.002871\n",
      "  절편 (b): 7.4809\n",
      "  데이터 포인트 수: 5\n",
      "\n",
      "레전드: active_1_530\n",
      "  방정식: y = 0.0171x + 7.93\n",
      "  기울기 (a): 0.017108\n",
      "  절편 (b): 7.9284\n",
      "  데이터 포인트 수: 3\n",
      "\n",
      "레전드: active_1_5300\n",
      "  방정식: y = 0.1052x + 12.33\n",
      "  기울기 (a): 0.105171\n",
      "  절편 (b): 12.3295\n",
      "  데이터 포인트 수: 3\n",
      "\n",
      "레전드: active_30_53\n",
      "  방정식: y = 0.0226x + 9.51\n",
      "  기울기 (a): 0.022596\n",
      "  절편 (b): 9.5058\n",
      "  데이터 포인트 수: 5\n",
      "\n",
      "레전드: active_5_53\n",
      "  방정식: y = 0.0048x + 11.58\n",
      "  기울기 (a): 0.004764\n",
      "  절편 (b): 11.5771\n",
      "  데이터 포인트 수: 4\n",
      "\n",
      "레전드: active_5_530\n",
      "  방정식: y = 0.0340x + 15.00\n",
      "  기울기 (a): 0.034048\n",
      "  절편 (b): 15.0021\n",
      "  데이터 포인트 수: 4\n",
      "\n",
      "레전드: thermal_none_53\n",
      "  방정식: y = 0.0271x + 13.61\n",
      "  기울기 (a): 0.027057\n",
      "  절편 (b): 13.6119\n",
      "  데이터 포인트 수: 4\n",
      "\n",
      "======================================================================\n",
      "회귀 분석 요약 테이블\n",
      "======================================================================\n",
      "         legend  a (slope)  b (intercept)  n_points\n",
      "   active_15_53   0.011137         9.8329         5\n",
      " active_15_5300   0.382352         5.2479         4\n",
      "    active_1_53   0.002871         7.4809         5\n",
      "   active_1_530   0.017108         7.9284         3\n",
      "  active_1_5300   0.105171        12.3295         3\n",
      "   active_30_53   0.022596         9.5058         5\n",
      "    active_5_53   0.004764        11.5771         4\n",
      "   active_5_530   0.034048        15.0021         4\n",
      "thermal_none_53   0.027057        13.6119         4\n",
      "regression_results.csv 파일로 저장되었습니다.\n"
     ]
    }
   ],
   "source": [
    "import pandas as pd\n",
    "import plotly.graph_objects as go\n",
    "from plotly.subplots import make_subplots\n",
    "import numpy as np\n",
    "from sklearn.linear_model import LinearRegression\n",
    "import plotly.express as px\n",
    "\n",
    "# 데이터 생성\n",
    "data = {\n",
    "    'reset': ['active', 'active', 'active', 'thermal', 'thermal', 'thermal', \n",
    "              'active', 'active', 'active', 'active', 'active', 'active',\n",
    "              'active', 'active', 'active', 'active', 'active', 'active',\n",
    "              'thermal', 'active', 'active', 'active', 'active', 'active',\n",
    "              'active', 'active', 'active', 'active', 'active', 'active',\n",
    "              'active', 'active', 'active', 'active', 'active', 'active',\n",
    "              'active', 'thermal', 'thermal'],\n",
    "    'max_attempts': ['1', '1', '1', 'none', 'none', 'none', \n",
    "                     '5', '5', '5', '15', '15', '15',\n",
    "                     '30', '30', '30', '1', '15', '30',\n",
    "                     'none', '30', '15', '5', '1', '1',\n",
    "                     '1', '1', '1', '1', '1', '5',\n",
    "                     '5', '5', '5', '15', '15', '15',\n",
    "                     '15', 'none', 'none'],\n",
    "    'amp_steps': [53, 53, 53, 53, 53, 53, \n",
    "                  53, 53, 53, 53, 53, 53,\n",
    "                  53, 53, 53, 53, 53, 53,\n",
    "                  53, 53, 53, 53, 53, 5300,\n",
    "                  530, 5300, 5300, 530, 530, 530,\n",
    "                  530, 530, 530, 5300, 5300, 5300,\n",
    "                  5300, 530, 5300],\n",
    "    'shots': [100, 500, 1000, 100, 500, 1000,\n",
    "              100, 500, 1000, 100, 500, 1000,\n",
    "              100, 500, 1000, 1, 1, 1,\n",
    "              3000, 3000, 3000, 3000, 3000, 3000,\n",
    "              30, 500, 1000, 1000, 500, 100,\n",
    "              500, 1000, 3000, 100, 500, 1000,\n",
    "              3000, 100, 100],\n",
    "    'elapse_time': [8.35, 8.69, 8.53, 16.65, 25.93, 41.7,\n",
    "                    8.58, 16.69, 17.965, 8.365, 16.71, 25.295,\n",
    "                    8.37, 25.08, 33.44, 8.325, 8.365, 8.355,\n",
    "                    94.63, 76.25, 41.67, 24.99, 16.72, 328.38,\n",
    "                    8.35, 67.06, 114.82, 24.95, 16.66, 16.64,\n",
    "                    33.38, 49.92, 116.69, 47.9, 192.06, 386.65,\n",
    "                    1153.2, 41.71, 320.12]\n",
    "}\n",
    "\n",
    "df = pd.DataFrame(data)\n",
    "\n",
    "# 레전드를 위한 조합 생성\n",
    "df['legend'] = df['reset'] + '_' + df['max_attempts'].astype(str) + '_' + df['amp_steps'].astype(str)\n",
    "\n",
    "# 고유한 레전드 값들\n",
    "unique_legends = df['legend'].unique()\n",
    "\n",
    "# 색상 팔레트 생성\n",
    "colors = px.colors.qualitative.Plotly + px.colors.qualitative.Set1 + px.colors.qualitative.Set2\n",
    "\n",
    "# Plotly 그래프 생성\n",
    "fig = go.Figure()\n",
    "\n",
    "# 회귀 분석 결과 저장용 리스트\n",
    "regression_results = []\n",
    "\n",
    "# 각 레전드 그룹별로 산점도와 회귀선 추가\n",
    "for i, legend in enumerate(unique_legends):\n",
    "    subset = df[df['legend'] == legend]\n",
    "    color = colors[i % len(colors)]\n",
    "    \n",
    "    # 산점도 추가\n",
    "    fig.add_trace(go.Scatter(\n",
    "        x=subset['shots'],\n",
    "        y=subset['elapse_time'],\n",
    "        mode='markers',\n",
    "        name=legend,\n",
    "        marker=dict(\n",
    "            size=8,\n",
    "            color=color\n",
    "        ),\n",
    "        legendgroup=legend,  # 같은 레전드 그룹으로 묶기\n",
    "        showlegend=True\n",
    "    ))\n",
    "    \n",
    "    # 데이터 포인트가 2개 이상일 때만 회귀선 추가\n",
    "    if len(subset) >= 2:\n",
    "        X = subset['shots'].values.reshape(-1, 1)\n",
    "        y = subset['elapse_time'].values\n",
    "        \n",
    "        # 선형 회귀 모델 학습\n",
    "        model = LinearRegression()\n",
    "        model.fit(X, y)\n",
    "        \n",
    "        # 회귀선을 위한 x 값 생성\n",
    "        x_min, x_max = subset['shots'].min(), subset['shots'].max()\n",
    "        \n",
    "        # x_min과 x_max가 같은 경우 처리\n",
    "        if x_min == x_max:\n",
    "            x_range = np.array([x_min - 10, x_min, x_min + 10])\n",
    "        else:\n",
    "            x_range = np.linspace(x_min, x_max, 50)\n",
    "        \n",
    "        y_pred = model.predict(x_range.reshape(-1, 1))\n",
    "        \n",
    "        # 회귀선 추가\n",
    "        fig.add_trace(go.Scatter(\n",
    "            x=x_range,\n",
    "            y=y_pred,\n",
    "            mode='lines',\n",
    "            name=f'{legend}_regression',\n",
    "            line=dict(color=color, width=2, dash='dash'),\n",
    "            legendgroup=legend,  # 같은 레전드 그룹으로 묶기\n",
    "            showlegend=False  # 회귀선은 레전드에서 숨기기\n",
    "        ))\n",
    "        \n",
    "        # 회귀 분석 결과 저장\n",
    "        regression_results.append({\n",
    "            'legend': legend,\n",
    "            'a (slope)': model.coef_[0],\n",
    "            'b (intercept)': model.intercept_,\n",
    "            'n_points': len(subset),\n",
    "            'equation': f'y = {model.coef_[0]:.4f}x + {model.intercept_:.2f}'\n",
    "        })\n",
    "\n",
    "# 레이아웃 설정\n",
    "fig.update_layout(\n",
    "    title='Shots vs Elapse Time with Individual Linear Regressions',\n",
    "    xaxis_title='# of shots (x-axis)',\n",
    "    yaxis_title='avg elapse_time (s) (y-axis)',\n",
    "    hovermode='closest',\n",
    "    width=1200,\n",
    "    height=700,\n",
    "    legend=dict(\n",
    "        orientation=\"v\",\n",
    "        yanchor=\"top\",\n",
    "        y=1,\n",
    "        xanchor=\"left\",\n",
    "        x=1.02\n",
    "    )\n",
    ")\n",
    "\n",
    "# 그래프 표시\n",
    "fig.show()\n",
    "\n",
    "# 회귀 분석 결과 출력\n",
    "print(\"\\n\" + \"=\"*70)\n",
    "print(\"각 레전드별 선형 회귀 분석 결과 (y = ax + b)\")\n",
    "print(\"=\"*70)\n",
    "\n",
    "# 결과를 DataFrame으로 변환하여 보기 좋게 출력\n",
    "results_df = pd.DataFrame(regression_results)\n",
    "results_df = results_df.sort_values('legend')\n",
    "\n",
    "for idx, row in results_df.iterrows():\n",
    "    print(f\"\\n레전드: {row['legend']}\")\n",
    "    print(f\"  방정식: {row['equation']}\")\n",
    "    print(f\"  기울기 (a): {row['a (slope)']:.6f}\")\n",
    "    print(f\"  절편 (b): {row['b (intercept)']:.4f}\")\n",
    "    print(f\"  데이터 포인트 수: {row['n_points']}\")\n",
    "\n",
    "# 요약 테이블 출력\n",
    "print(\"\\n\" + \"=\"*70)\n",
    "print(\"회귀 분석 요약 테이블\")\n",
    "print(\"=\"*70)\n",
    "\n",
    "# 보기 좋게 정렬된 테이블 출력\n",
    "summary_df = results_df[['legend', 'a (slope)', 'b (intercept)', 'n_points']].copy()\n",
    "summary_df['a (slope)'] = summary_df['a (slope)'].round(6)\n",
    "summary_df['b (intercept)'] = summary_df['b (intercept)'].round(4)\n",
    "\n",
    "# pandas 출력 옵션 설정\n",
    "pd.set_option('display.max_columns', None)\n",
    "pd.set_option('display.width', None)\n",
    "pd.set_option('display.max_colwidth', None)\n",
    "\n",
    "print(summary_df.to_string(index=False))\n",
    "\n",
    "# CSV로 저장 (옵션)\n",
    "save_to_csv = input(\"\\n\\n결과를 CSV 파일로 저장하시겠습니까? (y/n): \")\n",
    "if save_to_csv.lower() == 'y':\n",
    "    results_df.to_csv('regression_results.csv', index=False)\n",
    "    print(\"regression_results.csv 파일로 저장되었습니다.\")"
   ]
  },
  {
   "cell_type": "markdown",
   "id": "af624312",
   "metadata": {},
   "source": [
    "## # of attempts: X-axis"
   ]
  },
  {
   "cell_type": "code",
   "execution_count": 7,
   "id": "949e342f",
   "metadata": {},
   "outputs": [
    {
     "data": {
      "application/vnd.plotly.v1+json": {
       "config": {
        "plotlyServerURL": "https://plot.ly"
       },
       "data": [
        {
         "hovertemplate": "<b>%{text}</b><br>Max Attempts: %{x}<br>Elapse Time: %{y:.2f}s<extra></extra>",
         "legendgroup": "active_steps53_shots100",
         "marker": {
          "color": "#636EFA",
          "size": 8
         },
         "mode": "markers",
         "name": "active_steps53_shots100",
         "showlegend": true,
         "text": [
          "1",
          "5",
          "15",
          "30"
         ],
         "type": "scatter",
         "x": [
          1,
          5,
          15,
          30
         ],
         "y": [
          8.35,
          8.58,
          8.365,
          8.37
         ]
        },
        {
         "legendgroup": "active_steps53_shots100",
         "line": {
          "color": "#636EFA",
          "dash": "dash",
          "width": 2
         },
         "mode": "lines",
         "name": "active_steps53_shots100_regression",
         "showlegend": false,
         "type": "scatter",
         "x": [
          1,
          1.5918367346938775,
          2.183673469387755,
          2.7755102040816326,
          3.36734693877551,
          3.9591836734693877,
          4.551020408163265,
          5.142857142857142,
          5.73469387755102,
          6.326530612244898,
          6.918367346938775,
          7.5102040816326525,
          8.10204081632653,
          8.693877551020408,
          9.285714285714285,
          9.877551020408163,
          10.46938775510204,
          11.061224489795919,
          11.653061224489797,
          12.244897959183673,
          12.83673469387755,
          13.428571428571429,
          14.020408163265305,
          14.612244897959183,
          15.204081632653061,
          15.795918367346939,
          16.387755102040817,
          16.97959183673469,
          17.57142857142857,
          18.163265306122447,
          18.755102040816325,
          19.346938775510203,
          19.93877551020408,
          20.53061224489796,
          21.122448979591837,
          21.714285714285715,
          22.306122448979593,
          22.897959183673468,
          23.489795918367346,
          24.081632653061224,
          24.6734693877551,
          25.26530612244898,
          25.857142857142858,
          26.448979591836736,
          27.04081632653061,
          27.632653061224488,
          28.224489795918366,
          28.816326530612244,
          29.408163265306122,
          30
         ],
         "y": [
          8.449188716924613,
          8.44752962393145,
          8.445870530938286,
          8.444211437945123,
          8.44255234495196,
          8.440893251958796,
          8.439234158965633,
          8.437575065972469,
          8.435915972979306,
          8.434256879986142,
          8.432597786992979,
          8.430938693999817,
          8.429279601006654,
          8.42762050801349,
          8.425961415020327,
          8.424302322027163,
          8.422643229034,
          8.420984136040836,
          8.419325043047673,
          8.41766595005451,
          8.416006857061346,
          8.414347764068182,
          8.412688671075019,
          8.411029578081855,
          8.409370485088694,
          8.40771139209553,
          8.406052299102367,
          8.404393206109203,
          8.40273411311604,
          8.401075020122876,
          8.399415927129713,
          8.39775683413655,
          8.396097741143386,
          8.394438648150222,
          8.392779555157059,
          8.391120462163896,
          8.389461369170734,
          8.38780227617757,
          8.386143183184407,
          8.384484090191243,
          8.38282499719808,
          8.381165904204916,
          8.379506811211753,
          8.37784771821859,
          8.376188625225426,
          8.374529532232263,
          8.3728704392391,
          8.371211346245936,
          8.369552253252774,
          8.36789316025961
         ]
        },
        {
         "hovertemplate": "<b>%{text}</b><br>Max Attempts: %{x}<br>Elapse Time: %{y:.2f}s<extra></extra>",
         "legendgroup": "active_steps53_shots500",
         "marker": {
          "color": "#EF553B",
          "size": 8
         },
         "mode": "markers",
         "name": "active_steps53_shots500",
         "showlegend": true,
         "text": [
          "1",
          "5",
          "15",
          "30"
         ],
         "type": "scatter",
         "x": [
          1,
          5,
          15,
          30
         ],
         "y": [
          8.69,
          16.69,
          16.71,
          25.08
         ]
        },
        {
         "legendgroup": "active_steps53_shots500",
         "line": {
          "color": "#EF553B",
          "dash": "dash",
          "width": 2
         },
         "mode": "lines",
         "name": "active_steps53_shots500_regression",
         "showlegend": false,
         "type": "scatter",
         "x": [
          1,
          1.5918367346938775,
          2.183673469387755,
          2.7755102040816326,
          3.36734693877551,
          3.9591836734693877,
          4.551020408163265,
          5.142857142857142,
          5.73469387755102,
          6.326530612244898,
          6.918367346938775,
          7.5102040816326525,
          8.10204081632653,
          8.693877551020408,
          9.285714285714285,
          9.877551020408163,
          10.46938775510204,
          11.061224489795919,
          11.653061224489797,
          12.244897959183673,
          12.83673469387755,
          13.428571428571429,
          14.020408163265305,
          14.612244897959183,
          15.204081632653061,
          15.795918367346939,
          16.387755102040817,
          16.97959183673469,
          17.57142857142857,
          18.163265306122447,
          18.755102040816325,
          19.346938775510203,
          19.93877551020408,
          20.53061224489796,
          21.122448979591837,
          21.714285714285715,
          22.306122448979593,
          22.897959183673468,
          23.489795918367346,
          24.081632653061224,
          24.6734693877551,
          25.26530612244898,
          25.857142857142858,
          26.448979591836736,
          27.04081632653061,
          27.632653061224488,
          28.224489795918366,
          28.816326530612244,
          29.408163265306122,
          30
         ],
         "y": [
          11.189750374438347,
          11.471955739859602,
          11.754161105280858,
          12.036366470702113,
          12.31857183612337,
          12.600777201544625,
          12.88298256696588,
          13.165187932387136,
          13.447393297808393,
          13.729598663229648,
          14.011804028650904,
          14.294009394072159,
          14.576214759493414,
          14.858420124914671,
          15.140625490335927,
          15.422830855757182,
          15.705036221178439,
          15.987241586599694,
          16.26944695202095,
          16.551652317442205,
          16.83385768286346,
          17.116063048284715,
          17.39826841370597,
          17.680473779127226,
          17.962679144548485,
          18.24488450996974,
          18.527089875390995,
          18.80929524081225,
          19.091500606233506,
          19.37370597165476,
          19.65591133707602,
          19.938116702497275,
          20.22032206791853,
          20.502527433339786,
          20.78473279876104,
          21.066938164182297,
          21.349143529603552,
          21.631348895024807,
          21.913554260446062,
          22.195759625867318,
          22.477964991288573,
          22.760170356709832,
          23.042375722131087,
          23.324581087552342,
          23.606786452973598,
          23.888991818394853,
          24.17119718381611,
          24.453402549237367,
          24.735607914658623,
          25.017813280079878
         ]
        },
        {
         "hovertemplate": "<b>%{text}</b><br>Max Attempts: %{x}<br>Elapse Time: %{y:.2f}s<extra></extra>",
         "legendgroup": "active_steps53_shots1000",
         "marker": {
          "color": "#00CC96",
          "size": 8
         },
         "mode": "markers",
         "name": "active_steps53_shots1000",
         "showlegend": true,
         "text": [
          "1",
          "5",
          "15",
          "30"
         ],
         "type": "scatter",
         "x": [
          1,
          5,
          15,
          30
         ],
         "y": [
          8.53,
          17.965,
          25.295,
          33.44
         ]
        },
        {
         "legendgroup": "active_steps53_shots1000",
         "line": {
          "color": "#00CC96",
          "dash": "dash",
          "width": 2
         },
         "mode": "lines",
         "name": "active_steps53_shots1000_regression",
         "showlegend": false,
         "type": "scatter",
         "x": [
          1,
          1.5918367346938775,
          2.183673469387755,
          2.7755102040816326,
          3.36734693877551,
          3.9591836734693877,
          4.551020408163265,
          5.142857142857142,
          5.73469387755102,
          6.326530612244898,
          6.918367346938775,
          7.5102040816326525,
          8.10204081632653,
          8.693877551020408,
          9.285714285714285,
          9.877551020408163,
          10.46938775510204,
          11.061224489795919,
          11.653061224489797,
          12.244897959183673,
          12.83673469387755,
          13.428571428571429,
          14.020408163265305,
          14.612244897959183,
          15.204081632653061,
          15.795918367346939,
          16.387755102040817,
          16.97959183673469,
          17.57142857142857,
          18.163265306122447,
          18.755102040816325,
          19.346938775510203,
          19.93877551020408,
          20.53061224489796,
          21.122448979591837,
          21.714285714285715,
          22.306122448979593,
          22.897959183673468,
          23.489795918367346,
          24.081632653061224,
          24.6734693877551,
          25.26530612244898,
          25.857142857142858,
          26.448979591836736,
          27.04081632653061,
          27.632653061224488,
          28.224489795918366,
          28.816326530612244,
          29.408163265306122,
          30
         ],
         "y": [
          12.055386919620569,
          12.521407378727826,
          12.987427837835083,
          13.45344829694234,
          13.919468756049598,
          14.385489215156856,
          14.851509674264113,
          15.31753013337137,
          15.783550592478626,
          16.249571051585885,
          16.71559151069314,
          17.1816119698004,
          17.647632428907656,
          18.113652888014915,
          18.57967334712217,
          19.04569380622943,
          19.511714265336686,
          19.97773472444394,
          20.443755183551204,
          20.90977564265846,
          21.375796101765715,
          21.84181656087297,
          22.30783701998023,
          22.77385747908749,
          23.239877938194745,
          23.705898397302,
          24.17191885640926,
          24.637939315516515,
          25.103959774623775,
          25.56998023373103,
          26.036000692838286,
          26.50202115194555,
          26.968041611052804,
          27.43406207016006,
          27.90008252926732,
          28.36610298837458,
          28.832123447481834,
          29.29814390658909,
          29.76416436569635,
          30.230184824803604,
          30.696205283910864,
          31.16222574301812,
          31.62824620212538,
          32.09426666123264,
          32.56028712033989,
          33.02630757944715,
          33.492328038554405,
          33.95834849766166,
          34.42436895676892,
          34.89038941587618
         ]
        },
        {
         "hovertemplate": "<b>%{text}</b><br>Max Attempts: %{x}<br>Elapse Time: %{y:.2f}s<extra></extra>",
         "legendgroup": "thermal_steps53_shots100",
         "marker": {
          "color": "#AB63FA",
          "size": 8
         },
         "mode": "markers",
         "name": "thermal_steps53_shots100",
         "showlegend": true,
         "text": [
          "none"
         ],
         "type": "scatter",
         "x": [
          0
         ],
         "y": [
          16.65
         ]
        },
        {
         "hovertemplate": "<b>%{text}</b><br>Max Attempts: %{x}<br>Elapse Time: %{y:.2f}s<extra></extra>",
         "legendgroup": "thermal_steps53_shots500",
         "marker": {
          "color": "#FFA15A",
          "size": 8
         },
         "mode": "markers",
         "name": "thermal_steps53_shots500",
         "showlegend": true,
         "text": [
          "none"
         ],
         "type": "scatter",
         "x": [
          0
         ],
         "y": [
          25.93
         ]
        },
        {
         "hovertemplate": "<b>%{text}</b><br>Max Attempts: %{x}<br>Elapse Time: %{y:.2f}s<extra></extra>",
         "legendgroup": "thermal_steps53_shots1000",
         "marker": {
          "color": "#19D3F3",
          "size": 8
         },
         "mode": "markers",
         "name": "thermal_steps53_shots1000",
         "showlegend": true,
         "text": [
          "none"
         ],
         "type": "scatter",
         "x": [
          0
         ],
         "y": [
          41.7
         ]
        },
        {
         "hovertemplate": "<b>%{text}</b><br>Max Attempts: %{x}<br>Elapse Time: %{y:.2f}s<extra></extra>",
         "legendgroup": "active_steps53_shots1",
         "marker": {
          "color": "#FF6692",
          "size": 8
         },
         "mode": "markers",
         "name": "active_steps53_shots1",
         "showlegend": true,
         "text": [
          "1",
          "15",
          "30"
         ],
         "type": "scatter",
         "x": [
          1,
          15,
          30
         ],
         "y": [
          8.325,
          8.365,
          8.355
         ]
        },
        {
         "legendgroup": "active_steps53_shots1",
         "line": {
          "color": "#FF6692",
          "dash": "dash",
          "width": 2
         },
         "mode": "lines",
         "name": "active_steps53_shots1_regression",
         "showlegend": false,
         "type": "scatter",
         "x": [
          1,
          1.5918367346938775,
          2.183673469387755,
          2.7755102040816326,
          3.36734693877551,
          3.9591836734693877,
          4.551020408163265,
          5.142857142857142,
          5.73469387755102,
          6.326530612244898,
          6.918367346938775,
          7.5102040816326525,
          8.10204081632653,
          8.693877551020408,
          9.285714285714285,
          9.877551020408163,
          10.46938775510204,
          11.061224489795919,
          11.653061224489797,
          12.244897959183673,
          12.83673469387755,
          13.428571428571429,
          14.020408163265305,
          14.612244897959183,
          15.204081632653061,
          15.795918367346939,
          16.387755102040817,
          16.97959183673469,
          17.57142857142857,
          18.163265306122447,
          18.755102040816325,
          19.346938775510203,
          19.93877551020408,
          20.53061224489796,
          21.122448979591837,
          21.714285714285715,
          22.306122448979593,
          22.897959183673468,
          23.489795918367346,
          24.081632653061224,
          24.6734693877551,
          25.26530612244898,
          25.857142857142858,
          26.448979591836736,
          27.04081632653061,
          27.632653061224488,
          28.224489795918366,
          28.816326530612244,
          29.408163265306122,
          30
         ],
         "y": [
          8.333795562599047,
          8.33439584074517,
          8.334996118891295,
          8.335596397037419,
          8.336196675183542,
          8.336796953329666,
          8.33739723147579,
          8.337997509621914,
          8.338597787768038,
          8.339198065914161,
          8.339798344060284,
          8.34039862220641,
          8.340998900352533,
          8.341599178498656,
          8.34219945664478,
          8.342799734790903,
          8.343400012937028,
          8.344000291083152,
          8.344600569229275,
          8.345200847375398,
          8.345801125521522,
          8.346401403667647,
          8.34700168181377,
          8.347601959959894,
          8.348202238106017,
          8.34880251625214,
          8.349402794398266,
          8.35000307254439,
          8.350603350690513,
          8.351203628836636,
          8.35180390698276,
          8.352404185128885,
          8.353004463275008,
          8.353604741421131,
          8.354205019567255,
          8.354805297713378,
          8.355405575859503,
          8.356005854005627,
          8.35660613215175,
          8.357206410297874,
          8.357806688443997,
          8.358406966590122,
          8.359007244736246,
          8.359607522882369,
          8.360207801028492,
          8.360808079174618,
          8.361408357320741,
          8.362008635466864,
          8.362608913612988,
          8.363209191759111
         ]
        },
        {
         "hovertemplate": "<b>%{text}</b><br>Max Attempts: %{x}<br>Elapse Time: %{y:.2f}s<extra></extra>",
         "legendgroup": "thermal_steps53_shots3000",
         "marker": {
          "color": "#B6E880",
          "size": 8
         },
         "mode": "markers",
         "name": "thermal_steps53_shots3000",
         "showlegend": true,
         "text": [
          "none"
         ],
         "type": "scatter",
         "x": [
          0
         ],
         "y": [
          94.63
         ]
        },
        {
         "hovertemplate": "<b>%{text}</b><br>Max Attempts: %{x}<br>Elapse Time: %{y:.2f}s<extra></extra>",
         "legendgroup": "active_steps53_shots3000",
         "marker": {
          "color": "#FF97FF",
          "size": 8
         },
         "mode": "markers",
         "name": "active_steps53_shots3000",
         "showlegend": true,
         "text": [
          "30",
          "15",
          "5",
          "1"
         ],
         "type": "scatter",
         "x": [
          30,
          15,
          5,
          1
         ],
         "y": [
          76.25,
          41.67,
          24.99,
          16.72
         ]
        },
        {
         "legendgroup": "active_steps53_shots3000",
         "line": {
          "color": "#FF97FF",
          "dash": "dash",
          "width": 2
         },
         "mode": "lines",
         "name": "active_steps53_shots3000_regression",
         "showlegend": false,
         "type": "scatter",
         "x": [
          1,
          1.5918367346938775,
          2.183673469387755,
          2.7755102040816326,
          3.36734693877551,
          3.9591836734693877,
          4.551020408163265,
          5.142857142857142,
          5.73469387755102,
          6.326530612244898,
          6.918367346938775,
          7.5102040816326525,
          8.10204081632653,
          8.693877551020408,
          9.285714285714285,
          9.877551020408163,
          10.46938775510204,
          11.061224489795919,
          11.653061224489797,
          12.244897959183673,
          12.83673469387755,
          13.428571428571429,
          14.020408163265305,
          14.612244897959183,
          15.204081632653061,
          15.795918367346939,
          16.387755102040817,
          16.97959183673469,
          17.57142857142857,
          18.163265306122447,
          18.755102040816325,
          19.346938775510203,
          19.93877551020408,
          20.53061224489796,
          21.122448979591837,
          21.714285714285715,
          22.306122448979593,
          22.897959183673468,
          23.489795918367346,
          24.081632653061224,
          24.6734693877551,
          25.26530612244898,
          25.857142857142858,
          26.448979591836736,
          27.04081632653061,
          27.632653061224488,
          28.224489795918366,
          28.816326530612244,
          29.408163265306122,
          30
         ],
         "y": [
          15.998332501248118,
          17.202615362670272,
          18.406898224092423,
          19.611181085514577,
          20.81546394693673,
          22.01974680835888,
          23.224029669781036,
          24.428312531203186,
          25.63259539262534,
          26.836878254047495,
          28.04116111546965,
          29.2454439768918,
          30.449726838313953,
          31.654009699736108,
          32.85829256115826,
          34.06257542258041,
          35.266858284002566,
          36.47114114542472,
          37.67542400684687,
          38.879706868269025,
          40.083989729691176,
          41.288272591113326,
          42.492555452535484,
          43.696838313957635,
          44.901121175379785,
          46.10540403680194,
          47.3096868982241,
          48.513969759646244,
          49.7182526210684,
          50.922535482490545,
          52.1268183439127,
          53.33110120533486,
          54.535384066757004,
          55.73966692817916,
          56.94394978960132,
          58.14823265102348,
          59.35251551244562,
          60.55679837386778,
          61.76108123528992,
          62.96536409671208,
          64.16964695813424,
          65.3739298195564,
          66.57821268097854,
          67.7824955424007,
          68.98677840382284,
          70.191061265245,
          71.39534412666715,
          72.5996269880893,
          73.80390984951146,
          75.00819271093361
         ]
        },
        {
         "hovertemplate": "<b>%{text}</b><br>Max Attempts: %{x}<br>Elapse Time: %{y:.2f}s<extra></extra>",
         "legendgroup": "active_steps5300_shots3000",
         "marker": {
          "color": "#FECB52",
          "size": 8
         },
         "mode": "markers",
         "name": "active_steps5300_shots3000",
         "showlegend": true,
         "text": [
          "1",
          "15"
         ],
         "type": "scatter",
         "x": [
          1,
          15
         ],
         "y": [
          328.38,
          1153.2
         ]
        },
        {
         "legendgroup": "active_steps5300_shots3000",
         "line": {
          "color": "#FECB52",
          "dash": "dash",
          "width": 2
         },
         "mode": "lines",
         "name": "active_steps5300_shots3000_regression",
         "showlegend": false,
         "type": "scatter",
         "x": [
          1,
          1.2857142857142856,
          1.5714285714285714,
          1.8571428571428572,
          2.142857142857143,
          2.4285714285714284,
          2.7142857142857144,
          3,
          3.2857142857142856,
          3.571428571428571,
          3.8571428571428568,
          4.142857142857142,
          4.428571428571429,
          4.7142857142857135,
          5,
          5.285714285714286,
          5.571428571428571,
          5.857142857142857,
          6.142857142857142,
          6.428571428571428,
          6.7142857142857135,
          7,
          7.285714285714286,
          7.571428571428571,
          7.857142857142857,
          8.142857142857142,
          8.428571428571427,
          8.714285714285714,
          9,
          9.285714285714285,
          9.571428571428571,
          9.857142857142856,
          10.142857142857142,
          10.428571428571429,
          10.714285714285714,
          11,
          11.285714285714285,
          11.571428571428571,
          11.857142857142856,
          12.142857142857142,
          12.428571428571427,
          12.714285714285714,
          13,
          13.285714285714285,
          13.571428571428571,
          13.857142857142856,
          14.142857142857142,
          14.428571428571427,
          14.714285714285714,
          15
         ],
         "y": [
          328.37999999999994,
          345.2130612244897,
          362.04612244897953,
          378.87918367346936,
          395.7122448979591,
          412.5453061224489,
          429.3783673469387,
          446.21142857142854,
          463.0444897959183,
          479.8775510204081,
          496.7106122448979,
          513.5436734693876,
          530.3767346938776,
          547.2097959183673,
          564.0428571428571,
          580.8759183673469,
          597.7089795918366,
          614.5420408163264,
          631.3751020408163,
          648.208163265306,
          665.0412244897958,
          681.8742857142856,
          698.7073469387755,
          715.5404081632653,
          732.373469387755,
          749.2065306122448,
          766.0395918367346,
          782.8726530612244,
          799.7057142857143,
          816.538775510204,
          833.3718367346938,
          850.2048979591835,
          867.0379591836734,
          883.8710204081633,
          900.704081632653,
          917.5371428571428,
          934.3702040816326,
          951.2032653061224,
          968.0363265306121,
          984.869387755102,
          1001.7024489795917,
          1018.5355102040816,
          1035.3685714285714,
          1052.201632653061,
          1069.034693877551,
          1085.8677551020407,
          1102.7008163265305,
          1119.5338775510204,
          1136.36693877551,
          1153.1999999999998
         ]
        },
        {
         "hovertemplate": "<b>%{text}</b><br>Max Attempts: %{x}<br>Elapse Time: %{y:.2f}s<extra></extra>",
         "legendgroup": "active_steps530_shots30",
         "marker": {
          "color": "rgb(228,26,28)",
          "size": 8
         },
         "mode": "markers",
         "name": "active_steps530_shots30",
         "showlegend": true,
         "text": [
          "1"
         ],
         "type": "scatter",
         "x": [
          1
         ],
         "y": [
          8.35
         ]
        },
        {
         "hovertemplate": "<b>%{text}</b><br>Max Attempts: %{x}<br>Elapse Time: %{y:.2f}s<extra></extra>",
         "legendgroup": "active_steps5300_shots500",
         "marker": {
          "color": "rgb(55,126,184)",
          "size": 8
         },
         "mode": "markers",
         "name": "active_steps5300_shots500",
         "showlegend": true,
         "text": [
          "1",
          "15"
         ],
         "type": "scatter",
         "x": [
          1,
          15
         ],
         "y": [
          67.06,
          192.06
         ]
        },
        {
         "legendgroup": "active_steps5300_shots500",
         "line": {
          "color": "rgb(55,126,184)",
          "dash": "dash",
          "width": 2
         },
         "mode": "lines",
         "name": "active_steps5300_shots500_regression",
         "showlegend": false,
         "type": "scatter",
         "x": [
          1,
          1.2857142857142856,
          1.5714285714285714,
          1.8571428571428572,
          2.142857142857143,
          2.4285714285714284,
          2.7142857142857144,
          3,
          3.2857142857142856,
          3.571428571428571,
          3.8571428571428568,
          4.142857142857142,
          4.428571428571429,
          4.7142857142857135,
          5,
          5.285714285714286,
          5.571428571428571,
          5.857142857142857,
          6.142857142857142,
          6.428571428571428,
          6.7142857142857135,
          7,
          7.285714285714286,
          7.571428571428571,
          7.857142857142857,
          8.142857142857142,
          8.428571428571427,
          8.714285714285714,
          9,
          9.285714285714285,
          9.571428571428571,
          9.857142857142856,
          10.142857142857142,
          10.428571428571429,
          10.714285714285714,
          11,
          11.285714285714285,
          11.571428571428571,
          11.857142857142856,
          12.142857142857142,
          12.428571428571427,
          12.714285714285714,
          13,
          13.285714285714285,
          13.571428571428571,
          13.857142857142856,
          14.142857142857142,
          14.428571428571427,
          14.714285714285714,
          15
         ],
         "y": [
          67.05999999999999,
          69.61102040816326,
          72.16204081632652,
          74.71306122448979,
          77.26408163265305,
          79.81510204081631,
          82.36612244897958,
          84.91714285714285,
          87.46816326530612,
          90.01918367346937,
          92.57020408163265,
          95.1212244897959,
          97.67224489795919,
          100.22326530612244,
          102.77428571428571,
          105.32530612244898,
          107.87632653061223,
          110.42734693877551,
          112.97836734693877,
          115.52938775510204,
          118.0804081632653,
          120.63142857142857,
          123.18244897959184,
          125.73346938775511,
          128.28448979591838,
          130.83551020408163,
          133.38653061224488,
          135.93755102040816,
          138.48857142857145,
          141.0395918367347,
          143.59061224489795,
          146.1416326530612,
          148.6926530612245,
          151.24367346938777,
          153.79469387755103,
          156.34571428571428,
          158.89673469387753,
          161.44775510204084,
          163.9987755102041,
          166.54979591836735,
          169.1008163265306,
          171.6518367346939,
          174.20285714285717,
          176.75387755102042,
          179.30489795918368,
          181.85591836734693,
          184.4069387755102,
          186.95795918367347,
          189.50897959183675,
          192.06
         ]
        },
        {
         "hovertemplate": "<b>%{text}</b><br>Max Attempts: %{x}<br>Elapse Time: %{y:.2f}s<extra></extra>",
         "legendgroup": "active_steps5300_shots1000",
         "marker": {
          "color": "rgb(77,175,74)",
          "size": 8
         },
         "mode": "markers",
         "name": "active_steps5300_shots1000",
         "showlegend": true,
         "text": [
          "1",
          "15"
         ],
         "type": "scatter",
         "x": [
          1,
          15
         ],
         "y": [
          114.82,
          386.65
         ]
        },
        {
         "legendgroup": "active_steps5300_shots1000",
         "line": {
          "color": "rgb(77,175,74)",
          "dash": "dash",
          "width": 2
         },
         "mode": "lines",
         "name": "active_steps5300_shots1000_regression",
         "showlegend": false,
         "type": "scatter",
         "x": [
          1,
          1.2857142857142856,
          1.5714285714285714,
          1.8571428571428572,
          2.142857142857143,
          2.4285714285714284,
          2.7142857142857144,
          3,
          3.2857142857142856,
          3.571428571428571,
          3.8571428571428568,
          4.142857142857142,
          4.428571428571429,
          4.7142857142857135,
          5,
          5.285714285714286,
          5.571428571428571,
          5.857142857142857,
          6.142857142857142,
          6.428571428571428,
          6.7142857142857135,
          7,
          7.285714285714286,
          7.571428571428571,
          7.857142857142857,
          8.142857142857142,
          8.428571428571427,
          8.714285714285714,
          9,
          9.285714285714285,
          9.571428571428571,
          9.857142857142856,
          10.142857142857142,
          10.428571428571429,
          10.714285714285714,
          11,
          11.285714285714285,
          11.571428571428571,
          11.857142857142856,
          12.142857142857142,
          12.428571428571427,
          12.714285714285714,
          13,
          13.285714285714285,
          13.571428571428571,
          13.857142857142856,
          14.142857142857142,
          14.428571428571427,
          14.714285714285714,
          15
         ],
         "y": [
          114.81999999999998,
          120.36755102040814,
          125.91510204081631,
          131.46265306122447,
          137.01020408163265,
          142.5577551020408,
          148.10530612244895,
          153.65285714285713,
          159.20040816326528,
          164.74795918367346,
          170.2955102040816,
          175.84306122448976,
          181.39061224489797,
          186.9381632653061,
          192.48571428571427,
          198.03326530612242,
          203.5808163265306,
          209.12836734693877,
          214.67591836734692,
          220.22346938775507,
          225.77102040816322,
          231.3185714285714,
          236.86612244897958,
          242.41367346938773,
          247.9612244897959,
          253.50877551020406,
          259.0563265306122,
          264.6038775510204,
          270.1514285714286,
          275.6989795918367,
          281.2465306122449,
          286.79408163265305,
          292.3416326530612,
          297.88918367346935,
          303.4367346938775,
          308.9842857142857,
          314.53183673469385,
          320.07938775510206,
          325.62693877551015,
          331.17448979591836,
          336.7220408163265,
          342.26959183673466,
          347.8171428571428,
          353.36469387755096,
          358.91224489795917,
          364.4597959183673,
          370.00734693877547,
          375.5548979591836,
          381.1024489795918,
          386.65
         ]
        },
        {
         "hovertemplate": "<b>%{text}</b><br>Max Attempts: %{x}<br>Elapse Time: %{y:.2f}s<extra></extra>",
         "legendgroup": "active_steps530_shots1000",
         "marker": {
          "color": "rgb(152,78,163)",
          "size": 8
         },
         "mode": "markers",
         "name": "active_steps530_shots1000",
         "showlegend": true,
         "text": [
          "1",
          "5"
         ],
         "type": "scatter",
         "x": [
          1,
          5
         ],
         "y": [
          24.95,
          49.92
         ]
        },
        {
         "legendgroup": "active_steps530_shots1000",
         "line": {
          "color": "rgb(152,78,163)",
          "dash": "dash",
          "width": 2
         },
         "mode": "lines",
         "name": "active_steps530_shots1000_regression",
         "showlegend": false,
         "type": "scatter",
         "x": [
          1,
          1.0816326530612246,
          1.163265306122449,
          1.2448979591836735,
          1.3265306122448979,
          1.4081632653061225,
          1.489795918367347,
          1.5714285714285714,
          1.6530612244897958,
          1.7346938775510203,
          1.816326530612245,
          1.8979591836734693,
          1.9795918367346939,
          2.061224489795918,
          2.142857142857143,
          2.224489795918367,
          2.3061224489795915,
          2.387755102040816,
          2.4693877551020407,
          2.5510204081632653,
          2.63265306122449,
          2.7142857142857144,
          2.7959183673469385,
          2.877551020408163,
          2.9591836734693877,
          3.0408163265306123,
          3.1224489795918364,
          3.204081632653061,
          3.2857142857142856,
          3.36734693877551,
          3.4489795918367343,
          3.530612244897959,
          3.6122448979591835,
          3.693877551020408,
          3.7755102040816326,
          3.8571428571428568,
          3.9387755102040813,
          4.020408163265306,
          4.1020408163265305,
          4.183673469387754,
          4.26530612244898,
          4.346938775510203,
          4.428571428571429,
          4.5102040816326525,
          4.591836734693877,
          4.673469387755102,
          4.755102040816326,
          4.836734693877551,
          4.918367346938775,
          5
         ],
         "y": [
          24.950000000000003,
          25.459591836734695,
          25.96918367346939,
          26.478775510204084,
          26.98836734693878,
          27.497959183673473,
          28.007551020408165,
          28.517142857142858,
          29.02673469387755,
          29.536326530612246,
          30.045918367346943,
          30.555510204081635,
          31.065102040816328,
          31.57469387755102,
          32.08428571428571,
          32.59387755102041,
          33.103469387755105,
          33.6130612244898,
          34.12265306122449,
          34.63224489795918,
          35.14183673469388,
          35.651428571428575,
          36.16102040816327,
          36.67061224489796,
          37.18020408163265,
          37.68979591836735,
          38.19938775510204,
          38.70897959183674,
          39.21857142857143,
          39.72816326530612,
          40.237755102040815,
          40.74734693877551,
          41.25693877551021,
          41.7665306122449,
          42.27612244897959,
          42.785714285714285,
          43.29530612244898,
          43.80489795918368,
          44.31448979591837,
          44.82408163265306,
          45.33367346938776,
          45.84326530612245,
          46.35285714285715,
          46.86244897959183,
          47.37204081632653,
          47.881632653061224,
          48.39122448979592,
          48.90081632653062,
          49.4104081632653,
          49.92
         ]
        },
        {
         "hovertemplate": "<b>%{text}</b><br>Max Attempts: %{x}<br>Elapse Time: %{y:.2f}s<extra></extra>",
         "legendgroup": "active_steps530_shots500",
         "marker": {
          "color": "rgb(255,127,0)",
          "size": 8
         },
         "mode": "markers",
         "name": "active_steps530_shots500",
         "showlegend": true,
         "text": [
          "1",
          "5"
         ],
         "type": "scatter",
         "x": [
          1,
          5
         ],
         "y": [
          16.66,
          33.38
         ]
        },
        {
         "legendgroup": "active_steps530_shots500",
         "line": {
          "color": "rgb(255,127,0)",
          "dash": "dash",
          "width": 2
         },
         "mode": "lines",
         "name": "active_steps530_shots500_regression",
         "showlegend": false,
         "type": "scatter",
         "x": [
          1,
          1.0816326530612246,
          1.163265306122449,
          1.2448979591836735,
          1.3265306122448979,
          1.4081632653061225,
          1.489795918367347,
          1.5714285714285714,
          1.6530612244897958,
          1.7346938775510203,
          1.816326530612245,
          1.8979591836734693,
          1.9795918367346939,
          2.061224489795918,
          2.142857142857143,
          2.224489795918367,
          2.3061224489795915,
          2.387755102040816,
          2.4693877551020407,
          2.5510204081632653,
          2.63265306122449,
          2.7142857142857144,
          2.7959183673469385,
          2.877551020408163,
          2.9591836734693877,
          3.0408163265306123,
          3.1224489795918364,
          3.204081632653061,
          3.2857142857142856,
          3.36734693877551,
          3.4489795918367343,
          3.530612244897959,
          3.6122448979591835,
          3.693877551020408,
          3.7755102040816326,
          3.8571428571428568,
          3.9387755102040813,
          4.020408163265306,
          4.1020408163265305,
          4.183673469387754,
          4.26530612244898,
          4.346938775510203,
          4.428571428571429,
          4.5102040816326525,
          4.591836734693877,
          4.673469387755102,
          4.755102040816326,
          4.836734693877551,
          4.918367346938775,
          5
         ],
         "y": [
          16.660000000000004,
          17.001224489795923,
          17.34244897959184,
          17.68367346938776,
          18.024897959183676,
          18.366122448979596,
          18.707346938775515,
          19.04857142857143,
          19.389795918367348,
          19.731020408163268,
          20.072244897959187,
          20.413469387755107,
          20.754693877551023,
          21.09591836734694,
          21.43714285714286,
          21.77836734693878,
          22.119591836734696,
          22.460816326530615,
          22.80204081632653,
          23.14326530612245,
          23.48448979591837,
          23.82571428571429,
          24.166938775510207,
          24.508163265306123,
          24.849387755102043,
          25.190612244897963,
          25.53183673469388,
          25.873061224489796,
          26.214285714285715,
          26.555510204081635,
          26.896734693877555,
          27.23795918367347,
          27.579183673469387,
          27.920408163265307,
          28.261632653061227,
          28.602857142857143,
          28.944081632653063,
          29.285306122448983,
          29.6265306122449,
          29.967755102040815,
          30.30897959183674,
          30.65020408163265,
          30.991428571428575,
          31.33265306122449,
          31.67387755102041,
          32.01510204081633,
          32.35632653061225,
          32.69755102040817,
          33.03877551020408,
          33.38
         ]
        },
        {
         "hovertemplate": "<b>%{text}</b><br>Max Attempts: %{x}<br>Elapse Time: %{y:.2f}s<extra></extra>",
         "legendgroup": "active_steps530_shots100",
         "marker": {
          "color": "rgb(255,255,51)",
          "size": 8
         },
         "mode": "markers",
         "name": "active_steps530_shots100",
         "showlegend": true,
         "text": [
          "5"
         ],
         "type": "scatter",
         "x": [
          5
         ],
         "y": [
          16.64
         ]
        },
        {
         "hovertemplate": "<b>%{text}</b><br>Max Attempts: %{x}<br>Elapse Time: %{y:.2f}s<extra></extra>",
         "legendgroup": "active_steps530_shots3000",
         "marker": {
          "color": "rgb(166,86,40)",
          "size": 8
         },
         "mode": "markers",
         "name": "active_steps530_shots3000",
         "showlegend": true,
         "text": [
          "5"
         ],
         "type": "scatter",
         "x": [
          5
         ],
         "y": [
          116.69
         ]
        },
        {
         "hovertemplate": "<b>%{text}</b><br>Max Attempts: %{x}<br>Elapse Time: %{y:.2f}s<extra></extra>",
         "legendgroup": "active_steps5300_shots100",
         "marker": {
          "color": "rgb(247,129,191)",
          "size": 8
         },
         "mode": "markers",
         "name": "active_steps5300_shots100",
         "showlegend": true,
         "text": [
          "15"
         ],
         "type": "scatter",
         "x": [
          15
         ],
         "y": [
          47.9
         ]
        },
        {
         "hovertemplate": "<b>%{text}</b><br>Max Attempts: %{x}<br>Elapse Time: %{y:.2f}s<extra></extra>",
         "legendgroup": "thermal_steps530_shots100",
         "marker": {
          "color": "rgb(153,153,153)",
          "size": 8
         },
         "mode": "markers",
         "name": "thermal_steps530_shots100",
         "showlegend": true,
         "text": [
          "none"
         ],
         "type": "scatter",
         "x": [
          0
         ],
         "y": [
          41.71
         ]
        },
        {
         "hovertemplate": "<b>%{text}</b><br>Max Attempts: %{x}<br>Elapse Time: %{y:.2f}s<extra></extra>",
         "legendgroup": "thermal_steps5300_shots100",
         "marker": {
          "color": "rgb(102,194,165)",
          "size": 8
         },
         "mode": "markers",
         "name": "thermal_steps5300_shots100",
         "showlegend": true,
         "text": [
          "none"
         ],
         "type": "scatter",
         "x": [
          0
         ],
         "y": [
          320.12
         ]
        }
       ],
       "layout": {
        "height": 700,
        "hovermode": "closest",
        "legend": {
         "font": {
          "size": 10
         },
         "orientation": "v",
         "x": 1.02,
         "xanchor": "left",
         "y": 1,
         "yanchor": "top"
        },
        "template": {
         "data": {
          "bar": [
           {
            "error_x": {
             "color": "#2a3f5f"
            },
            "error_y": {
             "color": "#2a3f5f"
            },
            "marker": {
             "line": {
              "color": "#E5ECF6",
              "width": 0.5
             },
             "pattern": {
              "fillmode": "overlay",
              "size": 10,
              "solidity": 0.2
             }
            },
            "type": "bar"
           }
          ],
          "barpolar": [
           {
            "marker": {
             "line": {
              "color": "#E5ECF6",
              "width": 0.5
             },
             "pattern": {
              "fillmode": "overlay",
              "size": 10,
              "solidity": 0.2
             }
            },
            "type": "barpolar"
           }
          ],
          "carpet": [
           {
            "aaxis": {
             "endlinecolor": "#2a3f5f",
             "gridcolor": "white",
             "linecolor": "white",
             "minorgridcolor": "white",
             "startlinecolor": "#2a3f5f"
            },
            "baxis": {
             "endlinecolor": "#2a3f5f",
             "gridcolor": "white",
             "linecolor": "white",
             "minorgridcolor": "white",
             "startlinecolor": "#2a3f5f"
            },
            "type": "carpet"
           }
          ],
          "choropleth": [
           {
            "colorbar": {
             "outlinewidth": 0,
             "ticks": ""
            },
            "type": "choropleth"
           }
          ],
          "contour": [
           {
            "colorbar": {
             "outlinewidth": 0,
             "ticks": ""
            },
            "colorscale": [
             [
              0,
              "#0d0887"
             ],
             [
              0.1111111111111111,
              "#46039f"
             ],
             [
              0.2222222222222222,
              "#7201a8"
             ],
             [
              0.3333333333333333,
              "#9c179e"
             ],
             [
              0.4444444444444444,
              "#bd3786"
             ],
             [
              0.5555555555555556,
              "#d8576b"
             ],
             [
              0.6666666666666666,
              "#ed7953"
             ],
             [
              0.7777777777777778,
              "#fb9f3a"
             ],
             [
              0.8888888888888888,
              "#fdca26"
             ],
             [
              1,
              "#f0f921"
             ]
            ],
            "type": "contour"
           }
          ],
          "contourcarpet": [
           {
            "colorbar": {
             "outlinewidth": 0,
             "ticks": ""
            },
            "type": "contourcarpet"
           }
          ],
          "heatmap": [
           {
            "colorbar": {
             "outlinewidth": 0,
             "ticks": ""
            },
            "colorscale": [
             [
              0,
              "#0d0887"
             ],
             [
              0.1111111111111111,
              "#46039f"
             ],
             [
              0.2222222222222222,
              "#7201a8"
             ],
             [
              0.3333333333333333,
              "#9c179e"
             ],
             [
              0.4444444444444444,
              "#bd3786"
             ],
             [
              0.5555555555555556,
              "#d8576b"
             ],
             [
              0.6666666666666666,
              "#ed7953"
             ],
             [
              0.7777777777777778,
              "#fb9f3a"
             ],
             [
              0.8888888888888888,
              "#fdca26"
             ],
             [
              1,
              "#f0f921"
             ]
            ],
            "type": "heatmap"
           }
          ],
          "heatmapgl": [
           {
            "colorbar": {
             "outlinewidth": 0,
             "ticks": ""
            },
            "colorscale": [
             [
              0,
              "#0d0887"
             ],
             [
              0.1111111111111111,
              "#46039f"
             ],
             [
              0.2222222222222222,
              "#7201a8"
             ],
             [
              0.3333333333333333,
              "#9c179e"
             ],
             [
              0.4444444444444444,
              "#bd3786"
             ],
             [
              0.5555555555555556,
              "#d8576b"
             ],
             [
              0.6666666666666666,
              "#ed7953"
             ],
             [
              0.7777777777777778,
              "#fb9f3a"
             ],
             [
              0.8888888888888888,
              "#fdca26"
             ],
             [
              1,
              "#f0f921"
             ]
            ],
            "type": "heatmapgl"
           }
          ],
          "histogram": [
           {
            "marker": {
             "pattern": {
              "fillmode": "overlay",
              "size": 10,
              "solidity": 0.2
             }
            },
            "type": "histogram"
           }
          ],
          "histogram2d": [
           {
            "colorbar": {
             "outlinewidth": 0,
             "ticks": ""
            },
            "colorscale": [
             [
              0,
              "#0d0887"
             ],
             [
              0.1111111111111111,
              "#46039f"
             ],
             [
              0.2222222222222222,
              "#7201a8"
             ],
             [
              0.3333333333333333,
              "#9c179e"
             ],
             [
              0.4444444444444444,
              "#bd3786"
             ],
             [
              0.5555555555555556,
              "#d8576b"
             ],
             [
              0.6666666666666666,
              "#ed7953"
             ],
             [
              0.7777777777777778,
              "#fb9f3a"
             ],
             [
              0.8888888888888888,
              "#fdca26"
             ],
             [
              1,
              "#f0f921"
             ]
            ],
            "type": "histogram2d"
           }
          ],
          "histogram2dcontour": [
           {
            "colorbar": {
             "outlinewidth": 0,
             "ticks": ""
            },
            "colorscale": [
             [
              0,
              "#0d0887"
             ],
             [
              0.1111111111111111,
              "#46039f"
             ],
             [
              0.2222222222222222,
              "#7201a8"
             ],
             [
              0.3333333333333333,
              "#9c179e"
             ],
             [
              0.4444444444444444,
              "#bd3786"
             ],
             [
              0.5555555555555556,
              "#d8576b"
             ],
             [
              0.6666666666666666,
              "#ed7953"
             ],
             [
              0.7777777777777778,
              "#fb9f3a"
             ],
             [
              0.8888888888888888,
              "#fdca26"
             ],
             [
              1,
              "#f0f921"
             ]
            ],
            "type": "histogram2dcontour"
           }
          ],
          "mesh3d": [
           {
            "colorbar": {
             "outlinewidth": 0,
             "ticks": ""
            },
            "type": "mesh3d"
           }
          ],
          "parcoords": [
           {
            "line": {
             "colorbar": {
              "outlinewidth": 0,
              "ticks": ""
             }
            },
            "type": "parcoords"
           }
          ],
          "pie": [
           {
            "automargin": true,
            "type": "pie"
           }
          ],
          "scatter": [
           {
            "fillpattern": {
             "fillmode": "overlay",
             "size": 10,
             "solidity": 0.2
            },
            "type": "scatter"
           }
          ],
          "scatter3d": [
           {
            "line": {
             "colorbar": {
              "outlinewidth": 0,
              "ticks": ""
             }
            },
            "marker": {
             "colorbar": {
              "outlinewidth": 0,
              "ticks": ""
             }
            },
            "type": "scatter3d"
           }
          ],
          "scattercarpet": [
           {
            "marker": {
             "colorbar": {
              "outlinewidth": 0,
              "ticks": ""
             }
            },
            "type": "scattercarpet"
           }
          ],
          "scattergeo": [
           {
            "marker": {
             "colorbar": {
              "outlinewidth": 0,
              "ticks": ""
             }
            },
            "type": "scattergeo"
           }
          ],
          "scattergl": [
           {
            "marker": {
             "colorbar": {
              "outlinewidth": 0,
              "ticks": ""
             }
            },
            "type": "scattergl"
           }
          ],
          "scattermapbox": [
           {
            "marker": {
             "colorbar": {
              "outlinewidth": 0,
              "ticks": ""
             }
            },
            "type": "scattermapbox"
           }
          ],
          "scatterpolar": [
           {
            "marker": {
             "colorbar": {
              "outlinewidth": 0,
              "ticks": ""
             }
            },
            "type": "scatterpolar"
           }
          ],
          "scatterpolargl": [
           {
            "marker": {
             "colorbar": {
              "outlinewidth": 0,
              "ticks": ""
             }
            },
            "type": "scatterpolargl"
           }
          ],
          "scatterternary": [
           {
            "marker": {
             "colorbar": {
              "outlinewidth": 0,
              "ticks": ""
             }
            },
            "type": "scatterternary"
           }
          ],
          "surface": [
           {
            "colorbar": {
             "outlinewidth": 0,
             "ticks": ""
            },
            "colorscale": [
             [
              0,
              "#0d0887"
             ],
             [
              0.1111111111111111,
              "#46039f"
             ],
             [
              0.2222222222222222,
              "#7201a8"
             ],
             [
              0.3333333333333333,
              "#9c179e"
             ],
             [
              0.4444444444444444,
              "#bd3786"
             ],
             [
              0.5555555555555556,
              "#d8576b"
             ],
             [
              0.6666666666666666,
              "#ed7953"
             ],
             [
              0.7777777777777778,
              "#fb9f3a"
             ],
             [
              0.8888888888888888,
              "#fdca26"
             ],
             [
              1,
              "#f0f921"
             ]
            ],
            "type": "surface"
           }
          ],
          "table": [
           {
            "cells": {
             "fill": {
              "color": "#EBF0F8"
             },
             "line": {
              "color": "white"
             }
            },
            "header": {
             "fill": {
              "color": "#C8D4E3"
             },
             "line": {
              "color": "white"
             }
            },
            "type": "table"
           }
          ]
         },
         "layout": {
          "annotationdefaults": {
           "arrowcolor": "#2a3f5f",
           "arrowhead": 0,
           "arrowwidth": 1
          },
          "autotypenumbers": "strict",
          "coloraxis": {
           "colorbar": {
            "outlinewidth": 0,
            "ticks": ""
           }
          },
          "colorscale": {
           "diverging": [
            [
             0,
             "#8e0152"
            ],
            [
             0.1,
             "#c51b7d"
            ],
            [
             0.2,
             "#de77ae"
            ],
            [
             0.3,
             "#f1b6da"
            ],
            [
             0.4,
             "#fde0ef"
            ],
            [
             0.5,
             "#f7f7f7"
            ],
            [
             0.6,
             "#e6f5d0"
            ],
            [
             0.7,
             "#b8e186"
            ],
            [
             0.8,
             "#7fbc41"
            ],
            [
             0.9,
             "#4d9221"
            ],
            [
             1,
             "#276419"
            ]
           ],
           "sequential": [
            [
             0,
             "#0d0887"
            ],
            [
             0.1111111111111111,
             "#46039f"
            ],
            [
             0.2222222222222222,
             "#7201a8"
            ],
            [
             0.3333333333333333,
             "#9c179e"
            ],
            [
             0.4444444444444444,
             "#bd3786"
            ],
            [
             0.5555555555555556,
             "#d8576b"
            ],
            [
             0.6666666666666666,
             "#ed7953"
            ],
            [
             0.7777777777777778,
             "#fb9f3a"
            ],
            [
             0.8888888888888888,
             "#fdca26"
            ],
            [
             1,
             "#f0f921"
            ]
           ],
           "sequentialminus": [
            [
             0,
             "#0d0887"
            ],
            [
             0.1111111111111111,
             "#46039f"
            ],
            [
             0.2222222222222222,
             "#7201a8"
            ],
            [
             0.3333333333333333,
             "#9c179e"
            ],
            [
             0.4444444444444444,
             "#bd3786"
            ],
            [
             0.5555555555555556,
             "#d8576b"
            ],
            [
             0.6666666666666666,
             "#ed7953"
            ],
            [
             0.7777777777777778,
             "#fb9f3a"
            ],
            [
             0.8888888888888888,
             "#fdca26"
            ],
            [
             1,
             "#f0f921"
            ]
           ]
          },
          "colorway": [
           "#636efa",
           "#EF553B",
           "#00cc96",
           "#ab63fa",
           "#FFA15A",
           "#19d3f3",
           "#FF6692",
           "#B6E880",
           "#FF97FF",
           "#FECB52"
          ],
          "font": {
           "color": "#2a3f5f"
          },
          "geo": {
           "bgcolor": "white",
           "lakecolor": "white",
           "landcolor": "#E5ECF6",
           "showlakes": true,
           "showland": true,
           "subunitcolor": "white"
          },
          "hoverlabel": {
           "align": "left"
          },
          "hovermode": "closest",
          "mapbox": {
           "style": "light"
          },
          "paper_bgcolor": "white",
          "plot_bgcolor": "#E5ECF6",
          "polar": {
           "angularaxis": {
            "gridcolor": "white",
            "linecolor": "white",
            "ticks": ""
           },
           "bgcolor": "#E5ECF6",
           "radialaxis": {
            "gridcolor": "white",
            "linecolor": "white",
            "ticks": ""
           }
          },
          "scene": {
           "xaxis": {
            "backgroundcolor": "#E5ECF6",
            "gridcolor": "white",
            "gridwidth": 2,
            "linecolor": "white",
            "showbackground": true,
            "ticks": "",
            "zerolinecolor": "white"
           },
           "yaxis": {
            "backgroundcolor": "#E5ECF6",
            "gridcolor": "white",
            "gridwidth": 2,
            "linecolor": "white",
            "showbackground": true,
            "ticks": "",
            "zerolinecolor": "white"
           },
           "zaxis": {
            "backgroundcolor": "#E5ECF6",
            "gridcolor": "white",
            "gridwidth": 2,
            "linecolor": "white",
            "showbackground": true,
            "ticks": "",
            "zerolinecolor": "white"
           }
          },
          "shapedefaults": {
           "line": {
            "color": "#2a3f5f"
           }
          },
          "ternary": {
           "aaxis": {
            "gridcolor": "white",
            "linecolor": "white",
            "ticks": ""
           },
           "baxis": {
            "gridcolor": "white",
            "linecolor": "white",
            "ticks": ""
           },
           "bgcolor": "#E5ECF6",
           "caxis": {
            "gridcolor": "white",
            "linecolor": "white",
            "ticks": ""
           }
          },
          "title": {
           "x": 0.05
          },
          "xaxis": {
           "automargin": true,
           "gridcolor": "white",
           "linecolor": "white",
           "ticks": "",
           "title": {
            "standoff": 15
           },
           "zerolinecolor": "white",
           "zerolinewidth": 2
          },
          "yaxis": {
           "automargin": true,
           "gridcolor": "white",
           "linecolor": "white",
           "ticks": "",
           "title": {
            "standoff": 15
           },
           "zerolinecolor": "white",
           "zerolinewidth": 2
          }
         }
        },
        "title": {
         "text": "Max Attempts vs Elapse Time with Individual Linear Regressions"
        },
        "width": 1200,
        "xaxis": {
         "dtick": 5,
         "range": [
          -1,
          31
         ],
         "tick0": 0,
         "tickmode": "linear",
         "title": {
          "text": "Max Attempts (x-axis) [none=0]"
         }
        },
        "yaxis": {
         "title": {
          "text": "avg elapse_time (s) (y-axis)"
         }
        }
       }
      }
     },
     "metadata": {},
     "output_type": "display_data"
    },
    {
     "name": "stdout",
     "output_type": "stream",
     "text": [
      "\n",
      "======================================================================\n",
      "Linear Regression Analysis Results for Each Legend (y = ax + b)\n",
      "======================================================================\n",
      "\n",
      "Legend: active_steps5300_shots1000\n",
      "  Equation: y = 19.4164x + 95.40\n",
      "  Slope (a): 19.416429\n",
      "  Intercept (b): 95.4036\n",
      "  Number of data points: 2\n",
      "\n",
      "Legend: active_steps5300_shots3000\n",
      "  Equation: y = 58.9157x + 269.46\n",
      "  Slope (a): 58.915714\n",
      "  Intercept (b): 269.4643\n",
      "  Number of data points: 2\n",
      "\n",
      "Legend: active_steps5300_shots500\n",
      "  Equation: y = 8.9286x + 58.13\n",
      "  Slope (a): 8.928571\n",
      "  Intercept (b): 58.1314\n",
      "  Number of data points: 2\n",
      "\n",
      "Legend: active_steps530_shots1000\n",
      "  Equation: y = 6.2425x + 18.71\n",
      "  Slope (a): 6.242500\n",
      "  Intercept (b): 18.7075\n",
      "  Number of data points: 2\n",
      "\n",
      "Legend: active_steps530_shots500\n",
      "  Equation: y = 4.1800x + 12.48\n",
      "  Slope (a): 4.180000\n",
      "  Intercept (b): 12.4800\n",
      "  Number of data points: 2\n",
      "\n",
      "Legend: active_steps53_shots1\n",
      "  Equation: y = 0.0010x + 8.33\n",
      "  Slope (a): 0.001014\n",
      "  Intercept (b): 8.3328\n",
      "  Number of data points: 3\n",
      "\n",
      "Legend: active_steps53_shots100\n",
      "  Equation: y = -0.0028x + 8.45\n",
      "  Slope (a): -0.002803\n",
      "  Intercept (b): 8.4520\n",
      "  Number of data points: 4\n",
      "\n",
      "Legend: active_steps53_shots1000\n",
      "  Equation: y = 0.7874x + 11.27\n",
      "  Slope (a): 0.787414\n",
      "  Intercept (b): 11.2680\n",
      "  Number of data points: 4\n",
      "\n",
      "Legend: active_steps53_shots3000\n",
      "  Equation: y = 2.0348x + 13.96\n",
      "  Slope (a): 2.034823\n",
      "  Intercept (b): 13.9635\n",
      "  Number of data points: 4\n",
      "\n",
      "Legend: active_steps53_shots500\n",
      "  Equation: y = 0.4768x + 10.71\n",
      "  Slope (a): 0.476830\n",
      "  Intercept (b): 10.7129\n",
      "  Number of data points: 4\n",
      "\n",
      "======================================================================\n",
      "Regression Analysis Summary Table\n",
      "======================================================================\n",
      "                    legend  a (slope)  b (intercept)  n_points\n",
      "active_steps5300_shots1000  19.416429        95.4036         2\n",
      "active_steps5300_shots3000  58.915714       269.4643         2\n",
      " active_steps5300_shots500   8.928571        58.1314         2\n",
      " active_steps530_shots1000   6.242500        18.7075         2\n",
      "  active_steps530_shots500   4.180000        12.4800         2\n",
      "     active_steps53_shots1   0.001014         8.3328         3\n",
      "   active_steps53_shots100  -0.002803         8.4520         4\n",
      "  active_steps53_shots1000   0.787414        11.2680         4\n",
      "  active_steps53_shots3000   2.034823        13.9635         4\n",
      "   active_steps53_shots500   0.476830        10.7129         4\n",
      "\n",
      "======================================================================\n",
      "Analysis by Parameter Groups (where regression is possible)\n",
      "======================================================================\n",
      "\n",
      "Shots=1, Amp_steps=53:\n",
      "  Equation: y = 0.0010x + 8.33\n",
      "  Data points: 3\n",
      "\n",
      "Shots=100, Amp_steps=53:\n",
      "  Equation: y = -0.1354x + 11.44\n",
      "  Data points: 5\n",
      "\n",
      "Shots=100, Amp_steps=530:\n",
      "  Equation: y = -5.0140x + 41.71\n",
      "  Data points: 2\n",
      "\n",
      "Shots=100, Amp_steps=5300:\n",
      "  Equation: y = -18.1480x + 320.12\n",
      "  Data points: 2\n",
      "\n",
      "Shots=500, Amp_steps=53:\n",
      "  Equation: y = 0.2308x + 16.27\n",
      "  Data points: 5\n",
      "\n",
      "Shots=500, Amp_steps=530:\n",
      "  Equation: y = 4.1800x + 12.48\n",
      "  Data points: 2\n",
      "\n",
      "Shots=500, Amp_steps=5300:\n",
      "  Equation: y = 8.9286x + 58.13\n",
      "  Data points: 2\n",
      "\n",
      "Shots=1000, Amp_steps=53:\n",
      "  Equation: y = 0.2953x + 22.37\n",
      "  Data points: 5\n",
      "\n",
      "Shots=1000, Amp_steps=530:\n",
      "  Equation: y = 6.2425x + 18.71\n",
      "  Data points: 2\n",
      "\n",
      "Shots=1000, Amp_steps=5300:\n",
      "  Equation: y = 19.4164x + 95.40\n",
      "  Data points: 2\n",
      "\n",
      "Shots=3000, Amp_steps=53:\n",
      "  Equation: y = 0.7305x + 43.40\n",
      "  Data points: 5\n",
      "\n",
      "Shots=3000, Amp_steps=5300:\n",
      "  Equation: y = 58.9157x + 269.46\n",
      "  Data points: 2\n",
      "Results have been saved to regression_results_attempts.csv\n"
     ]
    }
   ],
   "source": [
    "import pandas as pd\n",
    "import plotly.graph_objects as go\n",
    "from plotly.subplots import make_subplots\n",
    "import numpy as np\n",
    "from sklearn.linear_model import LinearRegression\n",
    "import plotly.express as px\n",
    "\n",
    "# Data creation\n",
    "data = {\n",
    "    'reset': ['active', 'active', 'active', 'thermal', 'thermal', 'thermal', \n",
    "              'active', 'active', 'active', 'active', 'active', 'active',\n",
    "              'active', 'active', 'active', 'active', 'active', 'active',\n",
    "              'thermal', 'active', 'active', 'active', 'active', 'active',\n",
    "              'active', 'active', 'active', 'active', 'active', 'active',\n",
    "              'active', 'active', 'active', 'active', 'active', 'active',\n",
    "              'active', 'thermal', 'thermal'],\n",
    "    'max_attempts': ['1', '1', '1', 'none', 'none', 'none', \n",
    "                     '5', '5', '5', '15', '15', '15',\n",
    "                     '30', '30', '30', '1', '15', '30',\n",
    "                     'none', '30', '15', '5', '1', '1',\n",
    "                     '1', '1', '1', '1', '1', '5',\n",
    "                     '5', '5', '5', '15', '15', '15',\n",
    "                     '15', 'none', 'none'],\n",
    "    'amp_steps': [53, 53, 53, 53, 53, 53, \n",
    "                  53, 53, 53, 53, 53, 53,\n",
    "                  53, 53, 53, 53, 53, 53,\n",
    "                  53, 53, 53, 53, 53, 5300,\n",
    "                  530, 5300, 5300, 530, 530, 530,\n",
    "                  530, 530, 530, 5300, 5300, 5300,\n",
    "                  5300, 530, 5300],\n",
    "    'shots': [100, 500, 1000, 100, 500, 1000,\n",
    "              100, 500, 1000, 100, 500, 1000,\n",
    "              100, 500, 1000, 1, 1, 1,\n",
    "              3000, 3000, 3000, 3000, 3000, 3000,\n",
    "              30, 500, 1000, 1000, 500, 100,\n",
    "              500, 1000, 3000, 100, 500, 1000,\n",
    "              3000, 100, 100],\n",
    "    'elapse_time': [8.35, 8.69, 8.53, 16.65, 25.93, 41.7,\n",
    "                    8.58, 16.69, 17.965, 8.365, 16.71, 25.295,\n",
    "                    8.37, 25.08, 33.44, 8.325, 8.365, 8.355,\n",
    "                    94.63, 76.25, 41.67, 24.99, 16.72, 328.38,\n",
    "                    8.35, 67.06, 114.82, 24.95, 16.66, 16.64,\n",
    "                    33.38, 49.92, 116.69, 47.9, 192.06, 386.65,\n",
    "                    1153.2, 41.71, 320.12]\n",
    "}\n",
    "\n",
    "df = pd.DataFrame(data)\n",
    "\n",
    "# Convert max_attempts to numeric (none -> 0)\n",
    "df['max_attempts_numeric'] = df['max_attempts'].replace('none', '0').astype(int)\n",
    "\n",
    "# Create legend combinations (using reset, amp_steps, and shots)\n",
    "df['legend'] = df['reset'] + '_steps' + df['amp_steps'].astype(str) + '_shots' + df['shots'].astype(str)\n",
    "\n",
    "# Get unique legend values\n",
    "unique_legends = df['legend'].unique()\n",
    "\n",
    "# Create color palette\n",
    "colors = px.colors.qualitative.Plotly + px.colors.qualitative.Set1 + px.colors.qualitative.Set2\n",
    "\n",
    "# Create Plotly figure\n",
    "fig = go.Figure()\n",
    "\n",
    "# List to store regression analysis results\n",
    "regression_results = []\n",
    "\n",
    "# Add scatter plot and regression line for each legend group\n",
    "for i, legend in enumerate(unique_legends):\n",
    "    subset = df[df['legend'] == legend]\n",
    "    color = colors[i % len(colors)]\n",
    "    \n",
    "    # Add scatter plot\n",
    "    fig.add_trace(go.Scatter(\n",
    "        x=subset['max_attempts_numeric'],\n",
    "        y=subset['elapse_time'],\n",
    "        mode='markers',\n",
    "        name=legend,\n",
    "        marker=dict(\n",
    "            size=8,\n",
    "            color=color\n",
    "        ),\n",
    "        legendgroup=legend,  # Group with same legend\n",
    "        showlegend=True,\n",
    "        text=subset['max_attempts'],  # Show original values in hover\n",
    "        hovertemplate='<b>%{text}</b><br>Max Attempts: %{x}<br>Elapse Time: %{y:.2f}s<extra></extra>'\n",
    "    ))\n",
    "    \n",
    "    # Add regression line only when there are 2 or more data points\n",
    "    if len(subset) >= 2:\n",
    "        X = subset['max_attempts_numeric'].values.reshape(-1, 1)\n",
    "        y = subset['elapse_time'].values\n",
    "        \n",
    "        # Train linear regression model\n",
    "        model = LinearRegression()\n",
    "        model.fit(X, y)\n",
    "        \n",
    "        # Generate x values for regression line\n",
    "        x_min, x_max = subset['max_attempts_numeric'].min(), subset['max_attempts_numeric'].max()\n",
    "        \n",
    "        # Handle case when x_min equals x_max\n",
    "        if x_min == x_max:\n",
    "            x_range = np.array([max(0, x_min - 5), x_min, min(30, x_min + 5)])\n",
    "        else:\n",
    "            x_range = np.linspace(x_min, x_max, 50)\n",
    "        \n",
    "        y_pred = model.predict(x_range.reshape(-1, 1))\n",
    "        \n",
    "        # Add regression line\n",
    "        fig.add_trace(go.Scatter(\n",
    "            x=x_range,\n",
    "            y=y_pred,\n",
    "            mode='lines',\n",
    "            name=f'{legend}_regression',\n",
    "            line=dict(color=color, width=2, dash='dash'),\n",
    "            legendgroup=legend,  # Group with same legend\n",
    "            showlegend=False  # Hide regression line from legend\n",
    "        ))\n",
    "        \n",
    "        # Save regression analysis results\n",
    "        regression_results.append({\n",
    "            'legend': legend,\n",
    "            'a (slope)': model.coef_[0],\n",
    "            'b (intercept)': model.intercept_,\n",
    "            'n_points': len(subset),\n",
    "            'equation': f'y = {model.coef_[0]:.4f}x + {model.intercept_:.2f}'\n",
    "        })\n",
    "\n",
    "# Update layout\n",
    "fig.update_layout(\n",
    "    title='Max Attempts vs Elapse Time with Individual Linear Regressions',\n",
    "    xaxis_title='Max Attempts (x-axis) [none=0]',\n",
    "    yaxis_title='avg elapse_time (s) (y-axis)',\n",
    "    hovermode='closest',\n",
    "    width=1200,\n",
    "    height=700,\n",
    "    legend=dict(\n",
    "        orientation=\"v\",\n",
    "        yanchor=\"top\",\n",
    "        y=1,\n",
    "        xanchor=\"left\",\n",
    "        x=1.02,\n",
    "        font=dict(size=10)\n",
    "    ),\n",
    "    xaxis=dict(\n",
    "        tickmode='linear',\n",
    "        tick0=0,\n",
    "        dtick=5,\n",
    "        range=[-1, 31]\n",
    "    )\n",
    ")\n",
    "\n",
    "# Display graph\n",
    "fig.show()\n",
    "\n",
    "# Print regression analysis results\n",
    "print(\"\\n\" + \"=\"*70)\n",
    "print(\"Linear Regression Analysis Results for Each Legend (y = ax + b)\")\n",
    "print(\"=\"*70)\n",
    "\n",
    "# Convert results to DataFrame for better display\n",
    "results_df = pd.DataFrame(regression_results)\n",
    "results_df = results_df.sort_values('legend')\n",
    "\n",
    "for idx, row in results_df.iterrows():\n",
    "    print(f\"\\nLegend: {row['legend']}\")\n",
    "    print(f\"  Equation: {row['equation']}\")\n",
    "    print(f\"  Slope (a): {row['a (slope)']:.6f}\")\n",
    "    print(f\"  Intercept (b): {row['b (intercept)']:.4f}\")\n",
    "    print(f\"  Number of data points: {row['n_points']}\")\n",
    "\n",
    "# Print summary table\n",
    "print(\"\\n\" + \"=\"*70)\n",
    "print(\"Regression Analysis Summary Table\")\n",
    "print(\"=\"*70)\n",
    "\n",
    "# Print formatted table\n",
    "summary_df = results_df[['legend', 'a (slope)', 'b (intercept)', 'n_points']].copy()\n",
    "summary_df['a (slope)'] = summary_df['a (slope)'].round(6)\n",
    "summary_df['b (intercept)'] = summary_df['b (intercept)'].round(4)\n",
    "\n",
    "# Set pandas display options\n",
    "pd.set_option('display.max_columns', None)\n",
    "pd.set_option('display.width', None)\n",
    "pd.set_option('display.max_colwidth', None)\n",
    "\n",
    "print(summary_df.to_string(index=False))\n",
    "\n",
    "# Additional analysis: Group by specific parameters\n",
    "print(\"\\n\" + \"=\"*70)\n",
    "print(\"Analysis by Parameter Groups (where regression is possible)\")\n",
    "print(\"=\"*70)\n",
    "\n",
    "# Group by shots and amp_steps to see max_attempts effect\n",
    "grouped = df.groupby(['shots', 'amp_steps'])\n",
    "for (shots, amp_steps), group in grouped:\n",
    "    if group['max_attempts_numeric'].nunique() >= 2:  # Need at least 2 different x values\n",
    "        X = group['max_attempts_numeric'].values.reshape(-1, 1)\n",
    "        y = group['elapse_time'].values\n",
    "        model = LinearRegression()\n",
    "        model.fit(X, y)\n",
    "        print(f\"\\nShots={shots}, Amp_steps={amp_steps}:\")\n",
    "        print(f\"  Equation: y = {model.coef_[0]:.4f}x + {model.intercept_:.2f}\")\n",
    "        print(f\"  Data points: {len(group)}\")\n",
    "\n",
    "# CSV save option\n",
    "save_to_csv = input(\"\\n\\nWould you like to save the results to a CSV file? (y/n): \")\n",
    "if save_to_csv.lower() == 'y':\n",
    "    results_df.to_csv('regression_results_attempts.csv', index=False)\n",
    "    print(\"Results have been saved to regression_results_attempts.csv\")"
   ]
  },
  {
   "cell_type": "code",
   "execution_count": null,
   "id": "c1f90302",
   "metadata": {},
   "outputs": [],
   "source": []
  },
  {
   "cell_type": "markdown",
   "id": "a27f9225",
   "metadata": {},
   "source": [
    "## X-axis: # of shots"
   ]
  },
  {
   "cell_type": "code",
   "execution_count": null,
   "id": "c80dccc7",
   "metadata": {},
   "outputs": [
    {
     "data": {
      "application/vnd.plotly.v1+json": {
       "config": {
        "plotlyServerURL": "https://plot.ly"
       },
       "data": [
        {
         "legendgroup": "active_1_53",
         "marker": {
          "color": "#636EFA",
          "size": 8
         },
         "mode": "markers",
         "name": "active_1_53",
         "showlegend": true,
         "type": "scatter",
         "x": [
          100,
          500,
          1000,
          1,
          3000
         ],
         "y": [
          8.35,
          8.69,
          8.53,
          8.325,
          16.72
         ]
        },
        {
         "legendgroup": "active_1_53",
         "line": {
          "color": "#636EFA",
          "dash": "dash",
          "width": 2
         },
         "mode": "lines",
         "name": "active_1_53_regression",
         "showlegend": false,
         "type": "scatter",
         "x": [
          1,
          62.204081632653065,
          123.40816326530613,
          184.6122448979592,
          245.81632653061226,
          307.0204081632653,
          368.2244897959184,
          429.42857142857144,
          490.6326530612245,
          551.8367346938776,
          613.0408163265306,
          674.2448979591837,
          735.4489795918367,
          796.6530612244899,
          857.8571428571429,
          919.061224489796,
          980.265306122449,
          1041.4693877551022,
          1102.6734693877552,
          1163.8775510204082,
          1225.0816326530612,
          1286.2857142857144,
          1347.4897959183675,
          1408.6938775510205,
          1469.8979591836735,
          1531.1020408163265,
          1592.3061224489797,
          1653.5102040816328,
          1714.7142857142858,
          1775.9183673469388,
          1837.122448979592,
          1898.326530612245,
          1959.530612244898,
          2020.734693877551,
          2081.9387755102043,
          2143.1428571428573,
          2204.3469387755104,
          2265.5510204081634,
          2326.7551020408164,
          2387.9591836734694,
          2449.1632653061224,
          2510.3673469387754,
          2571.571428571429,
          2632.775510204082,
          2693.979591836735,
          2755.183673469388,
          2816.387755102041,
          2877.591836734694,
          2938.795918367347,
          3000
         ],
         "y": [
          7.483779367453986,
          7.659509431684761,
          7.835239495915536,
          8.010969560146311,
          8.186699624377086,
          8.362429688607861,
          8.538159752838636,
          8.713889817069411,
          8.889619881300186,
          9.065349945530961,
          9.241080009761736,
          9.416810073992512,
          9.592540138223287,
          9.768270202454062,
          9.944000266684837,
          10.119730330915612,
          10.295460395146389,
          10.471190459377162,
          10.646920523607939,
          10.822650587838712,
          10.99838065206949,
          11.174110716300264,
          11.34984078053104,
          11.525570844761813,
          11.70130090899259,
          11.877030973223363,
          12.05276103745414,
          12.228491101684915,
          12.40422116591569,
          12.579951230146465,
          12.75568129437724,
          12.931411358608015,
          13.10714142283879,
          13.282871487069565,
          13.45860155130034,
          13.634331615531117,
          13.81006167976189,
          13.985791743992666,
          14.16152180822344,
          14.337251872454216,
          14.51298193668499,
          14.688712000915766,
          14.864442065146543,
          15.040172129377318,
          15.215902193608091,
          15.391632257838868,
          15.567362322069643,
          15.743092386300418,
          15.918822450531193,
          16.09455251476197
         ]
        },
        {
         "legendgroup": "thermal_none_53",
         "marker": {
          "color": "#EF553B",
          "size": 8
         },
         "mode": "markers",
         "name": "thermal_none_53",
         "showlegend": true,
         "type": "scatter",
         "x": [
          100,
          500,
          1000,
          3000
         ],
         "y": [
          16.65,
          25.93,
          41.7,
          94.63
         ]
        },
        {
         "legendgroup": "thermal_none_53",
         "line": {
          "color": "#EF553B",
          "dash": "dash",
          "width": 2
         },
         "mode": "lines",
         "name": "thermal_none_53_regression",
         "showlegend": false,
         "type": "scatter",
         "x": [
          100,
          159.18367346938777,
          218.3673469387755,
          277.55102040816325,
          336.734693877551,
          395.9183673469388,
          455.1020408163265,
          514.2857142857142,
          573.469387755102,
          632.6530612244898,
          691.8367346938776,
          751.0204081632653,
          810.204081632653,
          869.3877551020408,
          928.5714285714286,
          987.7551020408164,
          1046.938775510204,
          1106.1224489795918,
          1165.3061224489795,
          1224.4897959183675,
          1283.6734693877552,
          1342.857142857143,
          1402.0408163265306,
          1461.2244897959183,
          1520.408163265306,
          1579.591836734694,
          1638.7755102040817,
          1697.9591836734694,
          1757.142857142857,
          1816.3265306122448,
          1875.5102040816328,
          1934.6938775510205,
          1993.8775510204082,
          2053.0612244897957,
          2112.2448979591836,
          2171.4285714285716,
          2230.612244897959,
          2289.795918367347,
          2348.979591836735,
          2408.1632653061224,
          2467.3469387755104,
          2526.530612244898,
          2585.714285714286,
          2644.8979591836737,
          2704.081632653061,
          2763.265306122449,
          2822.4489795918366,
          2881.6326530612246,
          2940.816326530612,
          3000
         ],
         "y": [
          16.31760563380281,
          17.91894078758263,
          19.520275941362453,
          21.121611095142274,
          22.7229462489221,
          24.32428140270192,
          25.925616556481742,
          27.526951710261564,
          29.128286864041385,
          30.729622017821207,
          32.33095717160103,
          33.93229232538086,
          35.53362747916067,
          37.1349626329405,
          38.73629778672032,
          40.33763294050014,
          41.938968094279964,
          43.540303248059786,
          45.14163840183961,
          46.74297355561943,
          48.34430870939926,
          49.94564386317907,
          51.5469790169589,
          53.148314170738715,
          54.74964932451854,
          56.35098447829837,
          57.952319632078186,
          59.553654785858015,
          61.15498993963783,
          62.75632509341766,
          64.35766024719747,
          65.9589954009773,
          67.56033055475712,
          69.16166570853693,
          70.76300086231676,
          72.36433601609659,
          73.9656711698764,
          75.56700632365623,
          77.16834147743606,
          78.76967663121587,
          80.3710117849957,
          81.97234693877552,
          83.57368209255534,
          85.17501724633517,
          86.77635240011499,
          88.37768755389482,
          89.97902270767463,
          91.58035786145446,
          93.18169301523427,
          94.7830281690141
         ]
        },
        {
         "legendgroup": "active_5_53",
         "marker": {
          "color": "#00CC96",
          "size": 8
         },
         "mode": "markers",
         "name": "active_5_53",
         "showlegend": true,
         "type": "scatter",
         "x": [
          100,
          500,
          1000,
          3000
         ],
         "y": [
          8.58,
          16.69,
          17.965,
          24.99
         ]
        },
        {
         "legendgroup": "active_5_53",
         "line": {
          "color": "#00CC96",
          "dash": "dash",
          "width": 2
         },
         "mode": "lines",
         "name": "active_5_53_regression",
         "showlegend": false,
         "type": "scatter",
         "x": [
          100,
          159.18367346938777,
          218.3673469387755,
          277.55102040816325,
          336.734693877551,
          395.9183673469388,
          455.1020408163265,
          514.2857142857142,
          573.469387755102,
          632.6530612244898,
          691.8367346938776,
          751.0204081632653,
          810.204081632653,
          869.3877551020408,
          928.5714285714286,
          987.7551020408164,
          1046.938775510204,
          1106.1224489795918,
          1165.3061224489795,
          1224.4897959183675,
          1283.6734693877552,
          1342.857142857143,
          1402.0408163265306,
          1461.2244897959183,
          1520.408163265306,
          1579.591836734694,
          1638.7755102040817,
          1697.9591836734694,
          1757.142857142857,
          1816.3265306122448,
          1875.5102040816328,
          1934.6938775510205,
          1993.8775510204082,
          2053.0612244897957,
          2112.2448979591836,
          2171.4285714285716,
          2230.612244897959,
          2289.795918367347,
          2348.979591836735,
          2408.1632653061224,
          2467.3469387755104,
          2526.530612244898,
          2585.714285714286,
          2644.8979591836737,
          2704.081632653061,
          2763.265306122449,
          2822.4489795918366,
          2881.6326530612246,
          2940.816326530612,
          3000
         ],
         "y": [
          12.053591549295774,
          12.335568410462775,
          12.617545271629778,
          12.899522132796779,
          13.181498993963782,
          13.463475855130783,
          13.745452716297786,
          14.027429577464787,
          14.30940643863179,
          14.591383299798792,
          14.873360160965793,
          15.155337022132795,
          15.437313883299797,
          15.7192907444668,
          16.0012676056338,
          16.283244466800802,
          16.565221327967805,
          16.847198189134808,
          17.12917505030181,
          17.411151911468814,
          17.693128772635816,
          17.975105633802816,
          18.25708249496982,
          18.539059356136818,
          18.82103621730382,
          19.103013078470823,
          19.384989939637826,
          19.66696680080483,
          19.948943661971832,
          20.23092052313883,
          20.512897384305834,
          20.794874245472837,
          21.076851106639836,
          21.35882796780684,
          21.64080482897384,
          21.922781690140845,
          22.204758551307847,
          22.48673541247485,
          22.768712273641853,
          23.050689134808852,
          23.332665995975855,
          23.614642857142854,
          23.896619718309857,
          24.17859657947686,
          24.460573440643863,
          24.742550301810866,
          25.02452716297787,
          25.30650402414487,
          25.588480885311867,
          25.87045774647887
         ]
        },
        {
         "legendgroup": "active_15_53",
         "marker": {
          "color": "#AB63FA",
          "size": 8
         },
         "mode": "markers",
         "name": "active_15_53",
         "showlegend": true,
         "type": "scatter",
         "x": [
          100,
          500,
          1000,
          1,
          3000
         ],
         "y": [
          8.365,
          16.71,
          25.295,
          8.365,
          41.67
         ]
        },
        {
         "legendgroup": "active_15_53",
         "line": {
          "color": "#AB63FA",
          "dash": "dash",
          "width": 2
         },
         "mode": "lines",
         "name": "active_15_53_regression",
         "showlegend": false,
         "type": "scatter",
         "x": [
          1,
          62.204081632653065,
          123.40816326530613,
          184.6122448979592,
          245.81632653061226,
          307.0204081632653,
          368.2244897959184,
          429.42857142857144,
          490.6326530612245,
          551.8367346938776,
          613.0408163265306,
          674.2448979591837,
          735.4489795918367,
          796.6530612244899,
          857.8571428571429,
          919.061224489796,
          980.265306122449,
          1041.4693877551022,
          1102.6734693877552,
          1163.8775510204082,
          1225.0816326530612,
          1286.2857142857144,
          1347.4897959183675,
          1408.6938775510205,
          1469.8979591836735,
          1531.1020408163265,
          1592.3061224489797,
          1653.5102040816328,
          1714.7142857142858,
          1775.9183673469388,
          1837.122448979592,
          1898.326530612245,
          1959.530612244898,
          2020.734693877551,
          2081.9387755102043,
          2143.1428571428573,
          2204.3469387755104,
          2265.5510204081634,
          2326.7551020408164,
          2387.9591836734694,
          2449.1632653061224,
          2510.3673469387754,
          2571.571428571429,
          2632.775510204082,
          2693.979591836735,
          2755.183673469388,
          2816.387755102041,
          2877.591836734694,
          2938.795918367347,
          3000
         ],
         "y": [
          9.844047887338158,
          10.525665873383542,
          11.207283859428923,
          11.888901845474306,
          12.570519831519688,
          13.252137817565071,
          13.933755803610453,
          14.615373789655836,
          15.296991775701219,
          15.9786097617466,
          16.660227747791982,
          17.341845733837367,
          18.02346371988275,
          18.70508170592813,
          19.38669969197351,
          20.068317678018897,
          20.749935664064278,
          21.431553650109663,
          22.113171636155045,
          22.794789622200426,
          23.476407608245808,
          24.15802559429119,
          24.83964358033657,
          25.521261566381952,
          26.202879552427337,
          26.88449753847272,
          27.566115524518104,
          28.247733510563485,
          28.929351496608867,
          29.610969482654248,
          30.292587468699633,
          30.974205454745015,
          31.655823440790396,
          32.33744142683578,
          33.01905941288116,
          33.700677398926544,
          34.382295384971926,
          35.06391337101731,
          35.74553135706269,
          36.42714934310807,
          37.10876732915345,
          37.79038531519883,
          38.47200330124422,
          39.15362128728961,
          39.83523927333499,
          40.51685725938037,
          41.198475245425755,
          41.880093231471136,
          42.56171121751652,
          43.2433292035619
         ]
        },
        {
         "legendgroup": "active_30_53",
         "marker": {
          "color": "#FFA15A",
          "size": 8
         },
         "mode": "markers",
         "name": "active_30_53",
         "showlegend": true,
         "type": "scatter",
         "x": [
          100,
          500,
          1000,
          1,
          3000
         ],
         "y": [
          8.37,
          25.08,
          33.44,
          8.355,
          76.25
         ]
        },
        {
         "legendgroup": "active_30_53",
         "line": {
          "color": "#FFA15A",
          "dash": "dash",
          "width": 2
         },
         "mode": "lines",
         "name": "active_30_53_regression",
         "showlegend": false,
         "type": "scatter",
         "x": [
          1,
          62.204081632653065,
          123.40816326530613,
          184.6122448979592,
          245.81632653061226,
          307.0204081632653,
          368.2244897959184,
          429.42857142857144,
          490.6326530612245,
          551.8367346938776,
          613.0408163265306,
          674.2448979591837,
          735.4489795918367,
          796.6530612244899,
          857.8571428571429,
          919.061224489796,
          980.265306122449,
          1041.4693877551022,
          1102.6734693877552,
          1163.8775510204082,
          1225.0816326530612,
          1286.2857142857144,
          1347.4897959183675,
          1408.6938775510205,
          1469.8979591836735,
          1531.1020408163265,
          1592.3061224489797,
          1653.5102040816328,
          1714.7142857142858,
          1775.9183673469388,
          1837.122448979592,
          1898.326530612245,
          1959.530612244898,
          2020.734693877551,
          2081.9387755102043,
          2143.1428571428573,
          2204.3469387755104,
          2265.5510204081634,
          2326.7551020408164,
          2387.9591836734694,
          2449.1632653061224,
          2510.3673469387754,
          2571.571428571429,
          2632.775510204082,
          2693.979591836735,
          2755.183673469388,
          2816.387755102041,
          2877.591836734694,
          2938.795918367347,
          3000
         ],
         "y": [
          9.528371410865772,
          10.911364500216173,
          12.294357589566575,
          13.677350678916977,
          15.060343768267376,
          16.44333685761778,
          17.82632994696818,
          19.20932303631858,
          20.59231612566898,
          21.975309215019383,
          23.358302304369783,
          24.741295393720186,
          26.124288483070586,
          27.50728157242099,
          28.89027466177139,
          30.273267751121793,
          31.656260840472193,
          33.03925392982259,
          34.422247019173,
          35.80524010852339,
          37.1882331978738,
          38.5712262872242,
          39.9542193765746,
          41.337212465925006,
          42.7202055552754,
          44.103198644625806,
          45.48619173397621,
          46.869184823326606,
          48.25217791267701,
          49.635171002027406,
          51.01816409137781,
          52.40115718072822,
          53.78415027007861,
          55.16714335942902,
          56.55013644877941,
          57.93312953812982,
          59.31612262748021,
          60.69911571683062,
          62.08210880618101,
          63.46510189553142,
          64.84809498488183,
          66.23108807423222,
          67.61408116358263,
          68.99707425293303,
          70.38006734228343,
          71.76306043163383,
          73.14605352098422,
          74.52904661033463,
          75.91203969968504,
          77.29503278903543
         ]
        },
        {
         "legendgroup": "active_1_5300",
         "marker": {
          "color": "#19D3F3",
          "size": 8
         },
         "mode": "markers",
         "name": "active_1_5300",
         "showlegend": true,
         "type": "scatter",
         "x": [
          3000,
          500,
          1000
         ],
         "y": [
          328.38,
          67.06,
          114.82
         ]
        },
        {
         "legendgroup": "active_1_5300",
         "line": {
          "color": "#19D3F3",
          "dash": "dash",
          "width": 2
         },
         "mode": "lines",
         "name": "active_1_5300_regression",
         "showlegend": false,
         "type": "scatter",
         "x": [
          500,
          551.0204081632653,
          602.0408163265306,
          653.0612244897959,
          704.0816326530612,
          755.1020408163265,
          806.1224489795918,
          857.1428571428571,
          908.1632653061224,
          959.1836734693877,
          1010.204081632653,
          1061.2244897959185,
          1112.2448979591836,
          1163.2653061224491,
          1214.2857142857142,
          1265.3061224489797,
          1316.3265306122448,
          1367.3469387755104,
          1418.3673469387754,
          1469.387755102041,
          1520.408163265306,
          1571.4285714285716,
          1622.4489795918369,
          1673.4693877551022,
          1724.4897959183675,
          1775.5102040816328,
          1826.530612244898,
          1877.5510204081634,
          1928.5714285714287,
          1979.591836734694,
          2030.6122448979593,
          2081.6326530612246,
          2132.6530612244896,
          2183.673469387755,
          2234.6938775510207,
          2285.714285714286,
          2336.734693877551,
          2387.7551020408164,
          2438.775510204082,
          2489.795918367347,
          2540.816326530612,
          2591.8367346938776,
          2642.857142857143,
          2693.877551020408,
          2744.8979591836737,
          2795.918367346939,
          2846.9387755102043,
          2897.9591836734694,
          2948.979591836735,
          3000
         ],
         "y": [
          64.91523809523807,
          70.28112730806606,
          75.64701652089406,
          81.01290573372205,
          86.37879494655003,
          91.74468415937802,
          97.110573372206,
          102.476462585034,
          107.842351797862,
          113.20824101068997,
          118.57413022351797,
          123.94001943634598,
          129.30590864917394,
          134.67179786200194,
          140.03768707482993,
          145.40357628765793,
          150.7694655004859,
          156.13535471331392,
          161.50124392614188,
          166.8671331389699,
          172.23302235179787,
          177.59891156462587,
          182.96480077745386,
          188.33068999028185,
          193.69657920310985,
          199.06246841593781,
          204.4283576287658,
          209.7942468415938,
          215.1601360544218,
          220.5260252672498,
          225.8919144800778,
          231.25780369290575,
          236.62369290573372,
          241.98958211856174,
          247.35547133138977,
          252.72136054421773,
          258.0872497570457,
          263.4531389698737,
          268.8190281827017,
          274.1849173955297,
          279.5508066083576,
          284.91669582118567,
          290.28258503401366,
          295.64847424684166,
          301.01436345966965,
          306.3802526724976,
          311.74614188532564,
          317.1120310981536,
          322.4779203109816,
          327.84380952380957
         ]
        },
        {
         "legendgroup": "active_1_530",
         "marker": {
          "color": "#FF6692",
          "size": 8
         },
         "mode": "markers",
         "name": "active_1_530",
         "showlegend": true,
         "type": "scatter",
         "x": [
          30,
          1000,
          500
         ],
         "y": [
          8.35,
          24.95,
          16.66
         ]
        },
        {
         "legendgroup": "active_1_530",
         "line": {
          "color": "#FF6692",
          "dash": "dash",
          "width": 2
         },
         "mode": "lines",
         "name": "active_1_530_regression",
         "showlegend": false,
         "type": "scatter",
         "x": [
          30,
          49.79591836734694,
          69.59183673469389,
          89.38775510204081,
          109.18367346938776,
          128.9795918367347,
          148.77551020408163,
          168.57142857142858,
          188.3673469387755,
          208.16326530612244,
          227.9591836734694,
          247.75510204081633,
          267.55102040816325,
          287.3469387755102,
          307.14285714285717,
          326.9387755102041,
          346.734693877551,
          366.53061224489795,
          386.3265306122449,
          406.12244897959187,
          425.9183673469388,
          445.7142857142857,
          465.51020408163265,
          485.3061224489796,
          505.1020408163265,
          524.8979591836735,
          544.6938775510204,
          564.4897959183673,
          584.2857142857143,
          604.0816326530612,
          623.8775510204082,
          643.6734693877551,
          663.469387755102,
          683.265306122449,
          703.0612244897959,
          722.8571428571429,
          742.6530612244898,
          762.4489795918367,
          782.2448979591837,
          802.0408163265306,
          821.8367346938776,
          841.6326530612245,
          861.4285714285714,
          881.2244897959184,
          901.0204081632653,
          920.8163265306123,
          940.6122448979592,
          960.4081632653061,
          980.204081632653,
          1000
         ],
         "y": [
          8.441620626151016,
          8.78028394783328,
          9.118947269515543,
          9.457610591197806,
          9.796273912880071,
          10.134937234562335,
          10.473600556244598,
          10.812263877926863,
          11.150927199609127,
          11.48959052129139,
          11.828253842973655,
          12.166917164655919,
          12.505580486338182,
          12.844243808020446,
          13.182907129702711,
          13.521570451384974,
          13.86023377306724,
          14.198897094749501,
          14.537560416431766,
          14.876223738114032,
          15.214887059796293,
          15.553550381478559,
          15.892213703160822,
          16.230877024843085,
          16.56954034652535,
          16.908203668207612,
          17.246866989889877,
          17.585530311572143,
          17.924193633254404,
          18.26285695493667,
          18.601520276618935,
          18.940183598301196,
          19.27884691998346,
          19.617510241665727,
          19.95617356334799,
          20.294836885030254,
          20.63350020671252,
          20.97216352839478,
          21.310826850077046,
          21.64949017175931,
          21.988153493441573,
          22.326816815123834,
          22.665480136806103,
          23.004143458488365,
          23.342806780170626,
          23.681470101852895,
          24.020133423535157,
          24.358796745217422,
          24.697460066899684,
          25.03612338858195
         ]
        },
        {
         "legendgroup": "active_5_530",
         "marker": {
          "color": "#B6E880",
          "size": 8
         },
         "mode": "markers",
         "name": "active_5_530",
         "showlegend": true,
         "type": "scatter",
         "x": [
          100,
          500,
          1000,
          3000
         ],
         "y": [
          16.64,
          33.38,
          49.92,
          116.69
         ]
        },
        {
         "legendgroup": "active_5_530",
         "line": {
          "color": "#B6E880",
          "dash": "dash",
          "width": 2
         },
         "mode": "lines",
         "name": "active_5_530_regression",
         "showlegend": false,
         "type": "scatter",
         "x": [
          100,
          159.18367346938777,
          218.3673469387755,
          277.55102040816325,
          336.734693877551,
          395.9183673469388,
          455.1020408163265,
          514.2857142857142,
          573.469387755102,
          632.6530612244898,
          691.8367346938776,
          751.0204081632653,
          810.204081632653,
          869.3877551020408,
          928.5714285714286,
          987.7551020408164,
          1046.938775510204,
          1106.1224489795918,
          1165.3061224489795,
          1224.4897959183675,
          1283.6734693877552,
          1342.857142857143,
          1402.0408163265306,
          1461.2244897959183,
          1520.408163265306,
          1579.591836734694,
          1638.7755102040817,
          1697.9591836734694,
          1757.142857142857,
          1816.3265306122448,
          1875.5102040816328,
          1934.6938775510205,
          1993.8775510204082,
          2053.0612244897957,
          2112.2448979591836,
          2171.4285714285716,
          2230.612244897959,
          2289.795918367347,
          2348.979591836735,
          2408.1632653061224,
          2467.3469387755104,
          2526.530612244898,
          2585.714285714286,
          2644.8979591836737,
          2704.081632653061,
          2763.265306122449,
          2822.4489795918366,
          2881.6326530612246,
          2940.816326530612,
          3000
         ],
         "y": [
          18.406901408450697,
          20.421998316429182,
          22.437095224407663,
          24.45219213238615,
          26.467289040364633,
          28.482385948343115,
          30.497482856321597,
          32.512579764300085,
          34.52767667227857,
          36.54277358025705,
          38.55787048823554,
          40.57296739621401,
          42.5880643041925,
          44.60316121217099,
          46.61825812014946,
          48.63335502812795,
          50.64845193610643,
          52.663548844084914,
          54.678645752063396,
          56.693742660041885,
          58.708839568020366,
          60.723936475998855,
          62.739033383977336,
          64.75413029195582,
          66.7692271999343,
          68.7843241079128,
          70.79942101589127,
          72.81451792386974,
          74.82961483184823,
          76.84471173982672,
          78.85980864780521,
          80.87490555578368,
          82.89000246376217,
          84.90509937174065,
          86.92019627971914,
          88.93529318769762,
          90.9503900956761,
          92.96548700365459,
          94.98058391163308,
          96.99568081961155,
          99.01077772759004,
          101.02587463556851,
          103.040971543547,
          105.05606845152549,
          107.07116535950396,
          109.08626226748245,
          111.10135917546093,
          113.11645608343942,
          115.13155299141789,
          117.14664989939638
         ]
        },
        {
         "legendgroup": "active_15_5300",
         "marker": {
          "color": "#FF97FF",
          "size": 8
         },
         "mode": "markers",
         "name": "active_15_5300",
         "showlegend": true,
         "type": "scatter",
         "x": [
          100,
          500,
          1000,
          3000
         ],
         "y": [
          47.9,
          192.06,
          386.65,
          1153.2
         ]
        },
        {
         "legendgroup": "active_15_5300",
         "line": {
          "color": "#FF97FF",
          "dash": "dash",
          "width": 2
         },
         "mode": "lines",
         "name": "active_15_5300_regression",
         "showlegend": false,
         "type": "scatter",
         "x": [
          100,
          159.18367346938777,
          218.3673469387755,
          277.55102040816325,
          336.734693877551,
          395.9183673469388,
          455.1020408163265,
          514.2857142857142,
          573.469387755102,
          632.6530612244898,
          691.8367346938776,
          751.0204081632653,
          810.204081632653,
          869.3877551020408,
          928.5714285714286,
          987.7551020408164,
          1046.938775510204,
          1106.1224489795918,
          1165.3061224489795,
          1224.4897959183675,
          1283.6734693877552,
          1342.857142857143,
          1402.0408163265306,
          1461.2244897959183,
          1520.408163265306,
          1579.591836734694,
          1638.7755102040817,
          1697.9591836734694,
          1757.142857142857,
          1816.3265306122448,
          1875.5102040816328,
          1934.6938775510205,
          1993.8775510204082,
          2053.0612244897957,
          2112.2448979591836,
          2171.4285714285716,
          2230.612244897959,
          2289.795918367347,
          2348.979591836735,
          2408.1632653061224,
          2467.3469387755104,
          2526.530612244898,
          2585.714285714286,
          2644.8979591836737,
          2704.081632653061,
          2763.265306122449,
          2822.4489795918366,
          2881.6326530612246,
          2940.816326530612,
          3000
         ],
         "y": [
          43.48309859154917,
          66.11208331622376,
          88.74106804089834,
          111.37005276557292,
          133.9990374902475,
          156.6280222149221,
          179.25700693959666,
          201.88599166427124,
          224.51497638894585,
          247.14396111362043,
          269.772945838295,
          292.4019305629696,
          315.0309152876442,
          337.6599000123188,
          360.28888473699334,
          382.917869461668,
          405.54685418634256,
          428.1758389110171,
          450.80482363569166,
          473.43380836036636,
          496.0627930850409,
          518.6917778097155,
          541.32076253439,
          563.9497472590646,
          586.5787319837392,
          609.2077167084138,
          631.8367014330884,
          654.465686157763,
          677.0946708824375,
          699.7236556071122,
          722.3526403317868,
          744.9816250564613,
          767.610609781136,
          790.2395945058104,
          812.868579230485,
          835.4975639551596,
          858.1265486798342,
          880.7555334045088,
          903.3845181291834,
          926.013502853858,
          948.6424875785326,
          971.2714723032071,
          993.9004570278818,
          1016.5294417525564,
          1039.158426477231,
          1061.7874112019056,
          1084.41639592658,
          1107.0453806512546,
          1129.6743653759293,
          1152.303350100604
         ]
        },
        {
         "legendgroup": "thermal_none_530",
         "marker": {
          "color": "#FECB52",
          "size": 8
         },
         "mode": "markers",
         "name": "thermal_none_530",
         "showlegend": true,
         "type": "scatter",
         "x": [
          100
         ],
         "y": [
          41.71
         ]
        },
        {
         "legendgroup": "thermal_none_5300",
         "marker": {
          "color": "rgb(228,26,28)",
          "size": 8
         },
         "mode": "markers",
         "name": "thermal_none_5300",
         "showlegend": true,
         "type": "scatter",
         "x": [
          100
         ],
         "y": [
          320.12
         ]
        }
       ],
       "layout": {
        "height": 700,
        "hovermode": "closest",
        "legend": {
         "orientation": "v",
         "x": 1.02,
         "xanchor": "left",
         "y": 1,
         "yanchor": "top"
        },
        "template": {
         "data": {
          "bar": [
           {
            "error_x": {
             "color": "#2a3f5f"
            },
            "error_y": {
             "color": "#2a3f5f"
            },
            "marker": {
             "line": {
              "color": "#E5ECF6",
              "width": 0.5
             },
             "pattern": {
              "fillmode": "overlay",
              "size": 10,
              "solidity": 0.2
             }
            },
            "type": "bar"
           }
          ],
          "barpolar": [
           {
            "marker": {
             "line": {
              "color": "#E5ECF6",
              "width": 0.5
             },
             "pattern": {
              "fillmode": "overlay",
              "size": 10,
              "solidity": 0.2
             }
            },
            "type": "barpolar"
           }
          ],
          "carpet": [
           {
            "aaxis": {
             "endlinecolor": "#2a3f5f",
             "gridcolor": "white",
             "linecolor": "white",
             "minorgridcolor": "white",
             "startlinecolor": "#2a3f5f"
            },
            "baxis": {
             "endlinecolor": "#2a3f5f",
             "gridcolor": "white",
             "linecolor": "white",
             "minorgridcolor": "white",
             "startlinecolor": "#2a3f5f"
            },
            "type": "carpet"
           }
          ],
          "choropleth": [
           {
            "colorbar": {
             "outlinewidth": 0,
             "ticks": ""
            },
            "type": "choropleth"
           }
          ],
          "contour": [
           {
            "colorbar": {
             "outlinewidth": 0,
             "ticks": ""
            },
            "colorscale": [
             [
              0,
              "#0d0887"
             ],
             [
              0.1111111111111111,
              "#46039f"
             ],
             [
              0.2222222222222222,
              "#7201a8"
             ],
             [
              0.3333333333333333,
              "#9c179e"
             ],
             [
              0.4444444444444444,
              "#bd3786"
             ],
             [
              0.5555555555555556,
              "#d8576b"
             ],
             [
              0.6666666666666666,
              "#ed7953"
             ],
             [
              0.7777777777777778,
              "#fb9f3a"
             ],
             [
              0.8888888888888888,
              "#fdca26"
             ],
             [
              1,
              "#f0f921"
             ]
            ],
            "type": "contour"
           }
          ],
          "contourcarpet": [
           {
            "colorbar": {
             "outlinewidth": 0,
             "ticks": ""
            },
            "type": "contourcarpet"
           }
          ],
          "heatmap": [
           {
            "colorbar": {
             "outlinewidth": 0,
             "ticks": ""
            },
            "colorscale": [
             [
              0,
              "#0d0887"
             ],
             [
              0.1111111111111111,
              "#46039f"
             ],
             [
              0.2222222222222222,
              "#7201a8"
             ],
             [
              0.3333333333333333,
              "#9c179e"
             ],
             [
              0.4444444444444444,
              "#bd3786"
             ],
             [
              0.5555555555555556,
              "#d8576b"
             ],
             [
              0.6666666666666666,
              "#ed7953"
             ],
             [
              0.7777777777777778,
              "#fb9f3a"
             ],
             [
              0.8888888888888888,
              "#fdca26"
             ],
             [
              1,
              "#f0f921"
             ]
            ],
            "type": "heatmap"
           }
          ],
          "heatmapgl": [
           {
            "colorbar": {
             "outlinewidth": 0,
             "ticks": ""
            },
            "colorscale": [
             [
              0,
              "#0d0887"
             ],
             [
              0.1111111111111111,
              "#46039f"
             ],
             [
              0.2222222222222222,
              "#7201a8"
             ],
             [
              0.3333333333333333,
              "#9c179e"
             ],
             [
              0.4444444444444444,
              "#bd3786"
             ],
             [
              0.5555555555555556,
              "#d8576b"
             ],
             [
              0.6666666666666666,
              "#ed7953"
             ],
             [
              0.7777777777777778,
              "#fb9f3a"
             ],
             [
              0.8888888888888888,
              "#fdca26"
             ],
             [
              1,
              "#f0f921"
             ]
            ],
            "type": "heatmapgl"
           }
          ],
          "histogram": [
           {
            "marker": {
             "pattern": {
              "fillmode": "overlay",
              "size": 10,
              "solidity": 0.2
             }
            },
            "type": "histogram"
           }
          ],
          "histogram2d": [
           {
            "colorbar": {
             "outlinewidth": 0,
             "ticks": ""
            },
            "colorscale": [
             [
              0,
              "#0d0887"
             ],
             [
              0.1111111111111111,
              "#46039f"
             ],
             [
              0.2222222222222222,
              "#7201a8"
             ],
             [
              0.3333333333333333,
              "#9c179e"
             ],
             [
              0.4444444444444444,
              "#bd3786"
             ],
             [
              0.5555555555555556,
              "#d8576b"
             ],
             [
              0.6666666666666666,
              "#ed7953"
             ],
             [
              0.7777777777777778,
              "#fb9f3a"
             ],
             [
              0.8888888888888888,
              "#fdca26"
             ],
             [
              1,
              "#f0f921"
             ]
            ],
            "type": "histogram2d"
           }
          ],
          "histogram2dcontour": [
           {
            "colorbar": {
             "outlinewidth": 0,
             "ticks": ""
            },
            "colorscale": [
             [
              0,
              "#0d0887"
             ],
             [
              0.1111111111111111,
              "#46039f"
             ],
             [
              0.2222222222222222,
              "#7201a8"
             ],
             [
              0.3333333333333333,
              "#9c179e"
             ],
             [
              0.4444444444444444,
              "#bd3786"
             ],
             [
              0.5555555555555556,
              "#d8576b"
             ],
             [
              0.6666666666666666,
              "#ed7953"
             ],
             [
              0.7777777777777778,
              "#fb9f3a"
             ],
             [
              0.8888888888888888,
              "#fdca26"
             ],
             [
              1,
              "#f0f921"
             ]
            ],
            "type": "histogram2dcontour"
           }
          ],
          "mesh3d": [
           {
            "colorbar": {
             "outlinewidth": 0,
             "ticks": ""
            },
            "type": "mesh3d"
           }
          ],
          "parcoords": [
           {
            "line": {
             "colorbar": {
              "outlinewidth": 0,
              "ticks": ""
             }
            },
            "type": "parcoords"
           }
          ],
          "pie": [
           {
            "automargin": true,
            "type": "pie"
           }
          ],
          "scatter": [
           {
            "fillpattern": {
             "fillmode": "overlay",
             "size": 10,
             "solidity": 0.2
            },
            "type": "scatter"
           }
          ],
          "scatter3d": [
           {
            "line": {
             "colorbar": {
              "outlinewidth": 0,
              "ticks": ""
             }
            },
            "marker": {
             "colorbar": {
              "outlinewidth": 0,
              "ticks": ""
             }
            },
            "type": "scatter3d"
           }
          ],
          "scattercarpet": [
           {
            "marker": {
             "colorbar": {
              "outlinewidth": 0,
              "ticks": ""
             }
            },
            "type": "scattercarpet"
           }
          ],
          "scattergeo": [
           {
            "marker": {
             "colorbar": {
              "outlinewidth": 0,
              "ticks": ""
             }
            },
            "type": "scattergeo"
           }
          ],
          "scattergl": [
           {
            "marker": {
             "colorbar": {
              "outlinewidth": 0,
              "ticks": ""
             }
            },
            "type": "scattergl"
           }
          ],
          "scattermapbox": [
           {
            "marker": {
             "colorbar": {
              "outlinewidth": 0,
              "ticks": ""
             }
            },
            "type": "scattermapbox"
           }
          ],
          "scatterpolar": [
           {
            "marker": {
             "colorbar": {
              "outlinewidth": 0,
              "ticks": ""
             }
            },
            "type": "scatterpolar"
           }
          ],
          "scatterpolargl": [
           {
            "marker": {
             "colorbar": {
              "outlinewidth": 0,
              "ticks": ""
             }
            },
            "type": "scatterpolargl"
           }
          ],
          "scatterternary": [
           {
            "marker": {
             "colorbar": {
              "outlinewidth": 0,
              "ticks": ""
             }
            },
            "type": "scatterternary"
           }
          ],
          "surface": [
           {
            "colorbar": {
             "outlinewidth": 0,
             "ticks": ""
            },
            "colorscale": [
             [
              0,
              "#0d0887"
             ],
             [
              0.1111111111111111,
              "#46039f"
             ],
             [
              0.2222222222222222,
              "#7201a8"
             ],
             [
              0.3333333333333333,
              "#9c179e"
             ],
             [
              0.4444444444444444,
              "#bd3786"
             ],
             [
              0.5555555555555556,
              "#d8576b"
             ],
             [
              0.6666666666666666,
              "#ed7953"
             ],
             [
              0.7777777777777778,
              "#fb9f3a"
             ],
             [
              0.8888888888888888,
              "#fdca26"
             ],
             [
              1,
              "#f0f921"
             ]
            ],
            "type": "surface"
           }
          ],
          "table": [
           {
            "cells": {
             "fill": {
              "color": "#EBF0F8"
             },
             "line": {
              "color": "white"
             }
            },
            "header": {
             "fill": {
              "color": "#C8D4E3"
             },
             "line": {
              "color": "white"
             }
            },
            "type": "table"
           }
          ]
         },
         "layout": {
          "annotationdefaults": {
           "arrowcolor": "#2a3f5f",
           "arrowhead": 0,
           "arrowwidth": 1
          },
          "autotypenumbers": "strict",
          "coloraxis": {
           "colorbar": {
            "outlinewidth": 0,
            "ticks": ""
           }
          },
          "colorscale": {
           "diverging": [
            [
             0,
             "#8e0152"
            ],
            [
             0.1,
             "#c51b7d"
            ],
            [
             0.2,
             "#de77ae"
            ],
            [
             0.3,
             "#f1b6da"
            ],
            [
             0.4,
             "#fde0ef"
            ],
            [
             0.5,
             "#f7f7f7"
            ],
            [
             0.6,
             "#e6f5d0"
            ],
            [
             0.7,
             "#b8e186"
            ],
            [
             0.8,
             "#7fbc41"
            ],
            [
             0.9,
             "#4d9221"
            ],
            [
             1,
             "#276419"
            ]
           ],
           "sequential": [
            [
             0,
             "#0d0887"
            ],
            [
             0.1111111111111111,
             "#46039f"
            ],
            [
             0.2222222222222222,
             "#7201a8"
            ],
            [
             0.3333333333333333,
             "#9c179e"
            ],
            [
             0.4444444444444444,
             "#bd3786"
            ],
            [
             0.5555555555555556,
             "#d8576b"
            ],
            [
             0.6666666666666666,
             "#ed7953"
            ],
            [
             0.7777777777777778,
             "#fb9f3a"
            ],
            [
             0.8888888888888888,
             "#fdca26"
            ],
            [
             1,
             "#f0f921"
            ]
           ],
           "sequentialminus": [
            [
             0,
             "#0d0887"
            ],
            [
             0.1111111111111111,
             "#46039f"
            ],
            [
             0.2222222222222222,
             "#7201a8"
            ],
            [
             0.3333333333333333,
             "#9c179e"
            ],
            [
             0.4444444444444444,
             "#bd3786"
            ],
            [
             0.5555555555555556,
             "#d8576b"
            ],
            [
             0.6666666666666666,
             "#ed7953"
            ],
            [
             0.7777777777777778,
             "#fb9f3a"
            ],
            [
             0.8888888888888888,
             "#fdca26"
            ],
            [
             1,
             "#f0f921"
            ]
           ]
          },
          "colorway": [
           "#636efa",
           "#EF553B",
           "#00cc96",
           "#ab63fa",
           "#FFA15A",
           "#19d3f3",
           "#FF6692",
           "#B6E880",
           "#FF97FF",
           "#FECB52"
          ],
          "font": {
           "color": "#2a3f5f"
          },
          "geo": {
           "bgcolor": "white",
           "lakecolor": "white",
           "landcolor": "#E5ECF6",
           "showlakes": true,
           "showland": true,
           "subunitcolor": "white"
          },
          "hoverlabel": {
           "align": "left"
          },
          "hovermode": "closest",
          "mapbox": {
           "style": "light"
          },
          "paper_bgcolor": "white",
          "plot_bgcolor": "#E5ECF6",
          "polar": {
           "angularaxis": {
            "gridcolor": "white",
            "linecolor": "white",
            "ticks": ""
           },
           "bgcolor": "#E5ECF6",
           "radialaxis": {
            "gridcolor": "white",
            "linecolor": "white",
            "ticks": ""
           }
          },
          "scene": {
           "xaxis": {
            "backgroundcolor": "#E5ECF6",
            "gridcolor": "white",
            "gridwidth": 2,
            "linecolor": "white",
            "showbackground": true,
            "ticks": "",
            "zerolinecolor": "white"
           },
           "yaxis": {
            "backgroundcolor": "#E5ECF6",
            "gridcolor": "white",
            "gridwidth": 2,
            "linecolor": "white",
            "showbackground": true,
            "ticks": "",
            "zerolinecolor": "white"
           },
           "zaxis": {
            "backgroundcolor": "#E5ECF6",
            "gridcolor": "white",
            "gridwidth": 2,
            "linecolor": "white",
            "showbackground": true,
            "ticks": "",
            "zerolinecolor": "white"
           }
          },
          "shapedefaults": {
           "line": {
            "color": "#2a3f5f"
           }
          },
          "ternary": {
           "aaxis": {
            "gridcolor": "white",
            "linecolor": "white",
            "ticks": ""
           },
           "baxis": {
            "gridcolor": "white",
            "linecolor": "white",
            "ticks": ""
           },
           "bgcolor": "#E5ECF6",
           "caxis": {
            "gridcolor": "white",
            "linecolor": "white",
            "ticks": ""
           }
          },
          "title": {
           "x": 0.05
          },
          "xaxis": {
           "automargin": true,
           "gridcolor": "white",
           "linecolor": "white",
           "ticks": "",
           "title": {
            "standoff": 15
           },
           "zerolinecolor": "white",
           "zerolinewidth": 2
          },
          "yaxis": {
           "automargin": true,
           "gridcolor": "white",
           "linecolor": "white",
           "ticks": "",
           "title": {
            "standoff": 15
           },
           "zerolinecolor": "white",
           "zerolinewidth": 2
          }
         }
        },
        "title": {
         "text": "Shots vs Elapse Time with Individual Linear Regressions"
        },
        "width": 1200,
        "xaxis": {
         "title": {
          "text": "# of shots (x-axis)"
         }
        },
        "yaxis": {
         "title": {
          "text": "avg elapse_time (s) (y-axis)"
         }
        }
       }
      }
     },
     "metadata": {},
     "output_type": "display_data"
    },
    {
     "name": "stdout",
     "output_type": "stream",
     "text": [
      "\n",
      "======================================================================\n",
      "Linear Regression Analysis Results for Each Legend (y = ax + b)\n",
      "======================================================================\n",
      "\n",
      "Legend: active_15_53\n",
      "  Equation: y = 0.0111x + 9.83\n",
      "  Slope (a): 0.011137\n",
      "  Intercept (b): 9.8329\n",
      "  Number of data points: 5\n",
      "\n",
      "Legend: active_15_5300\n",
      "  Equation: y = 0.3824x + 5.25\n",
      "  Slope (a): 0.382352\n",
      "  Intercept (b): 5.2479\n",
      "  Number of data points: 4\n",
      "\n",
      "Legend: active_1_53\n",
      "  Equation: y = 0.0029x + 7.48\n",
      "  Slope (a): 0.002871\n",
      "  Intercept (b): 7.4809\n",
      "  Number of data points: 5\n",
      "\n",
      "Legend: active_1_530\n",
      "  Equation: y = 0.0171x + 7.93\n",
      "  Slope (a): 0.017108\n",
      "  Intercept (b): 7.9284\n",
      "  Number of data points: 3\n",
      "\n",
      "Legend: active_1_5300\n",
      "  Equation: y = 0.1052x + 12.33\n",
      "  Slope (a): 0.105171\n",
      "  Intercept (b): 12.3295\n",
      "  Number of data points: 3\n",
      "\n",
      "Legend: active_30_53\n",
      "  Equation: y = 0.0226x + 9.51\n",
      "  Slope (a): 0.022596\n",
      "  Intercept (b): 9.5058\n",
      "  Number of data points: 5\n",
      "\n",
      "Legend: active_5_53\n",
      "  Equation: y = 0.0048x + 11.58\n",
      "  Slope (a): 0.004764\n",
      "  Intercept (b): 11.5771\n",
      "  Number of data points: 4\n",
      "\n",
      "Legend: active_5_530\n",
      "  Equation: y = 0.0340x + 15.00\n",
      "  Slope (a): 0.034048\n",
      "  Intercept (b): 15.0021\n",
      "  Number of data points: 4\n",
      "\n",
      "Legend: thermal_none_53\n",
      "  Equation: y = 0.0271x + 13.61\n",
      "  Slope (a): 0.027057\n",
      "  Intercept (b): 13.6119\n",
      "  Number of data points: 4\n",
      "\n",
      "======================================================================\n",
      "Regression Analysis Summary Table\n",
      "======================================================================\n",
      "         legend  a (slope)  b (intercept)  n_points\n",
      "   active_15_53   0.011137         9.8329         5\n",
      " active_15_5300   0.382352         5.2479         4\n",
      "    active_1_53   0.002871         7.4809         5\n",
      "   active_1_530   0.017108         7.9284         3\n",
      "  active_1_5300   0.105171        12.3295         3\n",
      "   active_30_53   0.022596         9.5058         5\n",
      "    active_5_53   0.004764        11.5771         4\n",
      "   active_5_530   0.034048        15.0021         4\n",
      "thermal_none_53   0.027057        13.6119         4\n",
      "Results have been saved to regression_results.csv\n"
     ]
    }
   ],
   "source": [
    "import pandas as pd\n",
    "import plotly.graph_objects as go\n",
    "from plotly.subplots import make_subplots\n",
    "import numpy as np\n",
    "from sklearn.linear_model import LinearRegression\n",
    "import plotly.express as px\n",
    "\n",
    "# Data creation\n",
    "data = {\n",
    "    'reset': ['active', 'active', 'active', 'thermal', 'thermal', 'thermal', \n",
    "              'active', 'active', 'active', 'active', 'active', 'active',\n",
    "              'active', 'active', 'active', 'active', 'active', 'active',\n",
    "              'thermal', 'active', 'active', 'active', 'active', 'active',\n",
    "              'active', 'active', 'active', 'active', 'active', 'active',\n",
    "              'active', 'active', 'active', 'active', 'active', 'active',\n",
    "              'active', 'thermal', 'thermal'],\n",
    "    'max_attempts': ['1', '1', '1', 'none', 'none', 'none', \n",
    "                     '5', '5', '5', '15', '15', '15',\n",
    "                     '30', '30', '30', '1', '15', '30',\n",
    "                     'none', '30', '15', '5', '1', '1',\n",
    "                     '1', '1', '1', '1', '1', '5',\n",
    "                     '5', '5', '5', '15', '15', '15',\n",
    "                     '15', 'none', 'none'],\n",
    "    'amp_steps': [53, 53, 53, 53, 53, 53, \n",
    "                  53, 53, 53, 53, 53, 53,\n",
    "                  53, 53, 53, 53, 53, 53,\n",
    "                  53, 53, 53, 53, 53, 5300,\n",
    "                  530, 5300, 5300, 530, 530, 530,\n",
    "                  530, 530, 530, 5300, 5300, 5300,\n",
    "                  5300, 530, 5300],\n",
    "    'shots': [100, 500, 1000, 100, 500, 1000,\n",
    "              100, 500, 1000, 100, 500, 1000,\n",
    "              100, 500, 1000, 1, 1, 1,\n",
    "              3000, 3000, 3000, 3000, 3000, 3000,\n",
    "              30, 500, 1000, 1000, 500, 100,\n",
    "              500, 1000, 3000, 100, 500, 1000,\n",
    "              3000, 100, 100],\n",
    "    'elapse_time': [8.35, 8.69, 8.53, 16.65, 25.93, 41.7,\n",
    "                    8.58, 16.69, 17.965, 8.365, 16.71, 25.295,\n",
    "                    8.37, 25.08, 33.44, 8.325, 8.365, 8.355,\n",
    "                    94.63, 76.25, 41.67, 24.99, 16.72, 328.38,\n",
    "                    8.35, 67.06, 114.82, 24.95, 16.66, 16.64,\n",
    "                    33.38, 49.92, 116.69, 47.9, 192.06, 386.65,\n",
    "                    1153.2, 41.71, 320.12]\n",
    "}\n",
    "\n",
    "df = pd.DataFrame(data)\n",
    "\n",
    "# Create legend combinations\n",
    "df['legend'] = df['reset'] + '_' + df['max_attempts'].astype(str) + '_' + df['amp_steps'].astype(str)\n",
    "\n",
    "# Get unique legend values\n",
    "unique_legends = df['legend'].unique()\n",
    "\n",
    "# Create color palette\n",
    "colors = px.colors.qualitative.Plotly + px.colors.qualitative.Set1 + px.colors.qualitative.Set2\n",
    "\n",
    "# Create Plotly figure\n",
    "fig = go.Figure()\n",
    "\n",
    "# List to store regression analysis results\n",
    "regression_results = []\n",
    "\n",
    "# Add scatter plot and regression line for each legend group\n",
    "for i, legend in enumerate(unique_legends):\n",
    "    subset = df[df['legend'] == legend]\n",
    "    color = colors[i % len(colors)]\n",
    "    \n",
    "    # Add scatter plot\n",
    "    fig.add_trace(go.Scatter(\n",
    "        x=subset['shots'],\n",
    "        y=subset['elapse_time'],\n",
    "        mode='markers',\n",
    "        name=legend,\n",
    "        marker=dict(\n",
    "            size=8,\n",
    "            color=color\n",
    "        ),\n",
    "        legendgroup=legend,  # Group with same legend\n",
    "        showlegend=True\n",
    "    ))\n",
    "    \n",
    "    # Add regression line only when there are 2 or more data points\n",
    "    if len(subset) >= 2:\n",
    "        X = subset['shots'].values.reshape(-1, 1)\n",
    "        y = subset['elapse_time'].values\n",
    "        \n",
    "        # Train linear regression model\n",
    "        model = LinearRegression()\n",
    "        model.fit(X, y)\n",
    "        \n",
    "        # Generate x values for regression line\n",
    "        x_min, x_max = subset['shots'].min(), subset['shots'].max()\n",
    "        \n",
    "        # Handle case when x_min equals x_max\n",
    "        if x_min == x_max:\n",
    "            x_range = np.array([x_min - 10, x_min, x_min + 10])\n",
    "        else:\n",
    "            x_range = np.linspace(x_min, x_max, 50)\n",
    "        \n",
    "        y_pred = model.predict(x_range.reshape(-1, 1))\n",
    "        \n",
    "        # Add regression line\n",
    "        fig.add_trace(go.Scatter(\n",
    "            x=x_range,\n",
    "            y=y_pred,\n",
    "            mode='lines',\n",
    "            name=f'{legend}_regression',\n",
    "            line=dict(color=color, width=2, dash='dash'),\n",
    "            legendgroup=legend,  # Group with same legend\n",
    "            showlegend=False  # Hide regression line from legend\n",
    "        ))\n",
    "        \n",
    "        # Save regression analysis results\n",
    "        regression_results.append({\n",
    "            'legend': legend,\n",
    "            'a (slope)': model.coef_[0],\n",
    "            'b (intercept)': model.intercept_,\n",
    "            'n_points': len(subset),\n",
    "            'equation': f'y = {model.coef_[0]:.4f}x + {model.intercept_:.2f}'\n",
    "        })\n",
    "\n",
    "# Update layout\n",
    "fig.update_layout(\n",
    "    title='Shots vs Elapse Time with Individual Linear Regressions',\n",
    "    xaxis_title='# of shots',\n",
    "    yaxis_title='avg elapse_time (s)',\n",
    "    hovermode='closest',\n",
    "    width=1200,\n",
    "    height=700,\n",
    "    legend=dict(\n",
    "        orientation=\"v\",\n",
    "        yanchor=\"top\",\n",
    "        y=1,\n",
    "        xanchor=\"left\",\n",
    "        x=1.02\n",
    "    )\n",
    ")\n",
    "\n",
    "# Display graph\n",
    "fig.show()\n",
    "\n",
    "# Print regression analysis results\n",
    "print(\"\\n\" + \"=\"*70)\n",
    "print(\"Linear Regression Analysis Results for Each Legend (y = ax + b)\")\n",
    "print(\"=\"*70)\n",
    "\n",
    "# Convert results to DataFrame for better display\n",
    "results_df = pd.DataFrame(regression_results)\n",
    "results_df = results_df.sort_values('legend')\n",
    "\n",
    "for idx, row in results_df.iterrows():\n",
    "    print(f\"\\nLegend: {row['legend']}\")\n",
    "    print(f\"  Equation: {row['equation']}\")\n",
    "    print(f\"  Slope (a): {row['a (slope)']:.6f}\")\n",
    "    print(f\"  Intercept (b): {row['b (intercept)']:.4f}\")\n",
    "    print(f\"  Number of data points: {row['n_points']}\")\n",
    "\n",
    "# Print summary table\n",
    "print(\"\\n\" + \"=\"*70)\n",
    "print(\"Regression Analysis Summary Table\")\n",
    "print(\"=\"*70)\n",
    "\n",
    "# Print formatted table\n",
    "summary_df = results_df[['legend', 'a (slope)', 'b (intercept)', 'n_points']].copy()\n",
    "summary_df['a (slope)'] = summary_df['a (slope)'].round(6)\n",
    "summary_df['b (intercept)'] = summary_df['b (intercept)'].round(4)\n",
    "\n",
    "# Set pandas display options\n",
    "pd.set_option('display.max_columns', None)\n",
    "pd.set_option('display.width', None)\n",
    "pd.set_option('display.max_colwidth', None)\n",
    "\n",
    "print(summary_df.to_string(index=False))\n",
    "\n",
    "# CSV save option\n",
    "save_to_csv = input(\"\\n\\nWould you like to save the results to a CSV file? (y/n): \")\n",
    "if save_to_csv.lower() == 'y':\n",
    "    results_df.to_csv('regression_results.csv', index=False)\n",
    "    print(\"Results have been saved to regression_results.csv\")"
   ]
  },
  {
   "cell_type": "markdown",
   "id": "74a6d469",
   "metadata": {},
   "source": [
    "## X-axis: Amp_steps"
   ]
  },
  {
   "cell_type": "code",
   "execution_count": 9,
   "id": "7ae89ab9",
   "metadata": {},
   "outputs": [
    {
     "data": {
      "application/vnd.plotly.v1+json": {
       "config": {
        "plotlyServerURL": "https://plot.ly"
       },
       "data": [
        {
         "hovertemplate": "<b>%{fullData.name}</b><br>Amp Steps: %{x}<br>Elapse Time: %{y:.2f}s<extra></extra>",
         "legendgroup": "active_att1_shots100",
         "marker": {
          "color": "#636EFA",
          "size": 8
         },
         "mode": "markers",
         "name": "active_att1_shots100",
         "showlegend": true,
         "type": "scatter",
         "x": [
          53
         ],
         "y": [
          8.35
         ]
        },
        {
         "hovertemplate": "<b>%{fullData.name}</b><br>Amp Steps: %{x}<br>Elapse Time: %{y:.2f}s<extra></extra>",
         "legendgroup": "active_att1_shots500",
         "marker": {
          "color": "#EF553B",
          "size": 8
         },
         "mode": "markers",
         "name": "active_att1_shots500",
         "showlegend": true,
         "type": "scatter",
         "x": [
          53,
          5300,
          530
         ],
         "y": [
          8.69,
          67.06,
          16.66
         ]
        },
        {
         "legendgroup": "active_att1_shots500",
         "line": {
          "color": "#EF553B",
          "dash": "dash",
          "width": 2
         },
         "mode": "lines",
         "name": "active_att1_shots500_regression",
         "showlegend": false,
         "type": "scatter",
         "x": [
          53,
          160.0816326530612,
          267.1632653061224,
          374.2448979591837,
          481.3265306122449,
          588.4081632653061,
          695.4897959183673,
          802.5714285714286,
          909.6530612244898,
          1016.734693877551,
          1123.8163265306123,
          1230.8979591836735,
          1337.9795918367347,
          1445.061224489796,
          1552.142857142857,
          1659.2244897959183,
          1766.3061224489795,
          1873.3877551020407,
          1980.469387755102,
          2087.551020408163,
          2194.6326530612246,
          2301.714285714286,
          2408.795918367347,
          2515.877551020408,
          2622.9591836734694,
          2730.0408163265306,
          2837.122448979592,
          2944.204081632653,
          3051.285714285714,
          3158.3673469387754,
          3265.4489795918366,
          3372.530612244898,
          3479.612244897959,
          3586.6938775510203,
          3693.7755102040815,
          3800.8571428571427,
          3907.938775510204,
          4015.020408163265,
          4122.102040816326,
          4229.183673469388,
          4336.265306122449,
          4443.34693877551,
          4550.428571428572,
          4657.510204081633,
          4764.591836734694,
          4871.673469387755,
          4978.755102040816,
          5085.836734693878,
          5192.918367346939,
          5300
         ],
         "y": [
          10.009819819819809,
          11.176802721088425,
          12.343785622357041,
          13.510768523625657,
          14.677751424894273,
          15.84473432616289,
          17.011717227431504,
          18.17870012870012,
          19.345683029968736,
          20.51266593123735,
          21.67964883250597,
          22.846631733774586,
          24.0136146350432,
          25.180597536311815,
          26.347580437580433,
          27.514563338849047,
          28.681546240117665,
          29.84852914138628,
          31.015512042654894,
          32.18249494392351,
          33.349477845192126,
          34.516460746460744,
          35.68344364772936,
          36.85042654899797,
          38.01740945026659,
          39.18439235153521,
          40.35137525280382,
          41.518358154072445,
          42.685341055341055,
          43.852323956609666,
          45.01930685787829,
          46.1862897591469,
          47.35327266041551,
          48.52025556168414,
          49.68723846295275,
          50.85422136422136,
          52.021204265489985,
          53.188187166758595,
          54.355170068027206,
          55.52215296929583,
          56.689135870564456,
          57.85611877183307,
          59.02310167310168,
          60.1900845743703,
          61.357067475638914,
          62.524050376907525,
          63.69103327817615,
          64.85801617944476,
          66.02499908071337,
          67.191981981982
         ]
        },
        {
         "hovertemplate": "<b>%{fullData.name}</b><br>Amp Steps: %{x}<br>Elapse Time: %{y:.2f}s<extra></extra>",
         "legendgroup": "active_att1_shots1000",
         "marker": {
          "color": "#00CC96",
          "size": 8
         },
         "mode": "markers",
         "name": "active_att1_shots1000",
         "showlegend": true,
         "type": "scatter",
         "x": [
          53,
          5300,
          530
         ],
         "y": [
          8.53,
          114.82,
          24.95
         ]
        },
        {
         "legendgroup": "active_att1_shots1000",
         "line": {
          "color": "#00CC96",
          "dash": "dash",
          "width": 2
         },
         "mode": "lines",
         "name": "active_att1_shots1000_regression",
         "showlegend": false,
         "type": "scatter",
         "x": [
          53,
          160.0816326530612,
          267.1632653061224,
          374.2448979591837,
          481.3265306122449,
          588.4081632653061,
          695.4897959183673,
          802.5714285714286,
          909.6530612244898,
          1016.734693877551,
          1123.8163265306123,
          1230.8979591836735,
          1337.9795918367347,
          1445.061224489796,
          1552.142857142857,
          1659.2244897959183,
          1766.3061224489795,
          1873.3877551020407,
          1980.469387755102,
          2087.551020408163,
          2194.6326530612246,
          2301.714285714286,
          2408.795918367347,
          2515.877551020408,
          2622.9591836734694,
          2730.0408163265306,
          2837.122448979592,
          2944.204081632653,
          3051.285714285714,
          3158.3673469387754,
          3265.4489795918366,
          3372.530612244898,
          3479.612244897959,
          3586.6938775510203,
          3693.7755102040815,
          3800.8571428571427,
          3907.938775510204,
          4015.020408163265,
          4122.102040816326,
          4229.183673469388,
          4336.265306122449,
          4443.34693877551,
          4550.428571428572,
          4657.510204081633,
          4764.591836734694,
          4871.673469387755,
          4978.755102040816,
          5085.836734693878,
          5192.918367346939,
          5300
         ],
         "y": [
          11.878198198198206,
          13.985884353741504,
          16.093570509284802,
          18.2012566648281,
          20.3089428203714,
          22.416628975914698,
          24.524315131457996,
          26.63200128700129,
          28.73968744254459,
          30.847373598087888,
          32.95505975363119,
          35.06274590917448,
          37.17043206471779,
          39.27811822026108,
          41.385804375804376,
          43.493490531347675,
          45.60117668689097,
          47.70886284243427,
          49.81654899797757,
          51.92423515352086,
          54.03192130906417,
          56.139607464607465,
          58.247293620150764,
          60.35497977569406,
          62.46266593123736,
          64.57035208678064,
          66.67803824232395,
          68.78572439786726,
          70.89341055341055,
          73.00109670895384,
          75.10878286449714,
          77.21646902004044,
          79.32415517558374,
          81.43184133112703,
          83.53952748667034,
          85.64721364221363,
          87.75489979775693,
          89.86258595330023,
          91.97027210884352,
          94.07795826438684,
          96.18564441993013,
          98.29333057547342,
          100.40101673101672,
          102.50870288656002,
          104.61638904210332,
          106.72407519764661,
          108.83176135318992,
          110.93944750873321,
          113.04713366427652,
          115.1548198198198
         ]
        },
        {
         "hovertemplate": "<b>%{fullData.name}</b><br>Amp Steps: %{x}<br>Elapse Time: %{y:.2f}s<extra></extra>",
         "legendgroup": "thermal_attnone_shots100",
         "marker": {
          "color": "#AB63FA",
          "size": 8
         },
         "mode": "markers",
         "name": "thermal_attnone_shots100",
         "showlegend": true,
         "type": "scatter",
         "x": [
          53,
          530,
          5300
         ],
         "y": [
          16.65,
          41.71,
          320.12
         ]
        },
        {
         "legendgroup": "thermal_attnone_shots100",
         "line": {
          "color": "#AB63FA",
          "dash": "dash",
          "width": 2
         },
         "mode": "lines",
         "name": "thermal_attnone_shots100_regression",
         "showlegend": false,
         "type": "scatter",
         "x": [
          53,
          160.0816326530612,
          267.1632653061224,
          374.2448979591837,
          481.3265306122449,
          588.4081632653061,
          695.4897959183673,
          802.5714285714286,
          909.6530612244898,
          1016.734693877551,
          1123.8163265306123,
          1230.8979591836735,
          1337.9795918367347,
          1445.061224489796,
          1552.142857142857,
          1659.2244897959183,
          1766.3061224489795,
          1873.3877551020407,
          1980.469387755102,
          2087.551020408163,
          2194.6326530612246,
          2301.714285714286,
          2408.795918367347,
          2515.877551020408,
          2622.9591836734694,
          2730.0408163265306,
          2837.122448979592,
          2944.204081632653,
          3051.285714285714,
          3158.3673469387754,
          3265.4489795918366,
          3372.530612244898,
          3479.612244897959,
          3586.6938775510203,
          3693.7755102040815,
          3800.8571428571427,
          3907.938775510204,
          4015.020408163265,
          4122.102040816326,
          4229.183673469388,
          4336.265306122449,
          4443.34693877551,
          4550.428571428572,
          4657.510204081633,
          4764.591836734694,
          4871.673469387755,
          4978.755102040816,
          5085.836734693878,
          5192.918367346939,
          5300
         ],
         "y": [
          15.3972972972973,
          21.613571428571433,
          27.82984555984556,
          34.0461196911197,
          40.262393822393825,
          46.47866795366796,
          52.69494208494209,
          58.911216216216225,
          65.12749034749035,
          71.34376447876448,
          77.56003861003862,
          83.77631274131275,
          89.99258687258688,
          96.20886100386102,
          102.42513513513515,
          108.64140926640927,
          114.8576833976834,
          121.07395752895754,
          127.29023166023167,
          133.5065057915058,
          139.72277992277995,
          145.93905405405408,
          152.15532818532822,
          158.37160231660235,
          164.58787644787645,
          170.8041505791506,
          177.02042471042472,
          183.23669884169885,
          189.452972972973,
          195.66924710424712,
          201.88552123552125,
          208.1017953667954,
          214.31806949806952,
          220.53434362934365,
          226.75061776061779,
          232.96689189189192,
          239.18316602316602,
          245.39944015444016,
          251.61571428571426,
          257.83198841698845,
          264.0482625482626,
          270.2645366795367,
          276.4808108108108,
          282.697084942085,
          288.91335907335906,
          295.12963320463325,
          301.3459073359073,
          307.5621814671815,
          313.7784555984556,
          319.9947297297298
         ]
        },
        {
         "hovertemplate": "<b>%{fullData.name}</b><br>Amp Steps: %{x}<br>Elapse Time: %{y:.2f}s<extra></extra>",
         "legendgroup": "thermal_attnone_shots500",
         "marker": {
          "color": "#FFA15A",
          "size": 8
         },
         "mode": "markers",
         "name": "thermal_attnone_shots500",
         "showlegend": true,
         "type": "scatter",
         "x": [
          53
         ],
         "y": [
          25.93
         ]
        },
        {
         "hovertemplate": "<b>%{fullData.name}</b><br>Amp Steps: %{x}<br>Elapse Time: %{y:.2f}s<extra></extra>",
         "legendgroup": "thermal_attnone_shots1000",
         "marker": {
          "color": "#19D3F3",
          "size": 8
         },
         "mode": "markers",
         "name": "thermal_attnone_shots1000",
         "showlegend": true,
         "type": "scatter",
         "x": [
          53
         ],
         "y": [
          41.7
         ]
        },
        {
         "hovertemplate": "<b>%{fullData.name}</b><br>Amp Steps: %{x}<br>Elapse Time: %{y:.2f}s<extra></extra>",
         "legendgroup": "active_att5_shots100",
         "marker": {
          "color": "#FF6692",
          "size": 8
         },
         "mode": "markers",
         "name": "active_att5_shots100",
         "showlegend": true,
         "type": "scatter",
         "x": [
          53,
          530
         ],
         "y": [
          8.58,
          16.64
         ]
        },
        {
         "legendgroup": "active_att5_shots100",
         "line": {
          "color": "#FF6692",
          "dash": "dash",
          "width": 2
         },
         "mode": "lines",
         "name": "active_att5_shots100_regression",
         "showlegend": false,
         "type": "scatter",
         "x": [
          53,
          62.734693877551024,
          72.46938775510205,
          82.20408163265306,
          91.93877551020408,
          101.6734693877551,
          111.40816326530611,
          121.14285714285714,
          130.87755102040816,
          140.6122448979592,
          150.3469387755102,
          160.0816326530612,
          169.81632653061223,
          179.55102040816325,
          189.28571428571428,
          199.0204081632653,
          208.75510204081633,
          218.48979591836735,
          228.22448979591837,
          237.9591836734694,
          247.69387755102042,
          257.42857142857144,
          267.1632653061224,
          276.8979591836735,
          286.63265306122446,
          296.36734693877554,
          306.1020408163265,
          315.83673469387753,
          325.57142857142856,
          335.3061224489796,
          345.0408163265306,
          354.7755102040816,
          364.51020408163265,
          374.2448979591837,
          383.9795918367347,
          393.7142857142857,
          403.44897959183675,
          413.18367346938777,
          422.9183673469388,
          432.6530612244898,
          442.38775510204084,
          452.1224489795918,
          461.85714285714283,
          471.59183673469386,
          481.3265306122449,
          491.0612244897959,
          500.7959183673469,
          510.53061224489795,
          520.2653061224489,
          530
         ],
         "y": [
          8.58,
          8.744489795918367,
          8.908979591836735,
          9.073469387755102,
          9.23795918367347,
          9.402448979591837,
          9.566938775510204,
          9.731428571428571,
          9.895918367346939,
          10.060408163265306,
          10.224897959183673,
          10.38938775510204,
          10.553877551020408,
          10.718367346938775,
          10.882857142857143,
          11.04734693877551,
          11.211836734693877,
          11.376326530612245,
          11.540816326530612,
          11.70530612244898,
          11.869795918367346,
          12.034285714285714,
          12.19877551020408,
          12.363265306122448,
          12.527755102040814,
          12.692244897959185,
          12.85673469387755,
          13.021224489795918,
          13.185714285714285,
          13.350204081632652,
          13.51469387755102,
          13.679183673469387,
          13.843673469387754,
          14.008163265306122,
          14.172653061224489,
          14.337142857142856,
          14.501632653061224,
          14.666122448979593,
          14.83061224489796,
          14.995102040816327,
          15.159591836734695,
          15.32408163265306,
          15.488571428571428,
          15.653061224489795,
          15.817551020408164,
          15.982040816326531,
          16.1465306122449,
          16.311020408163266,
          16.47551020408163,
          16.64
         ]
        },
        {
         "hovertemplate": "<b>%{fullData.name}</b><br>Amp Steps: %{x}<br>Elapse Time: %{y:.2f}s<extra></extra>",
         "legendgroup": "active_att5_shots500",
         "marker": {
          "color": "#B6E880",
          "size": 8
         },
         "mode": "markers",
         "name": "active_att5_shots500",
         "showlegend": true,
         "type": "scatter",
         "x": [
          53,
          530
         ],
         "y": [
          16.69,
          33.38
         ]
        },
        {
         "legendgroup": "active_att5_shots500",
         "line": {
          "color": "#B6E880",
          "dash": "dash",
          "width": 2
         },
         "mode": "lines",
         "name": "active_att5_shots500_regression",
         "showlegend": false,
         "type": "scatter",
         "x": [
          53,
          62.734693877551024,
          72.46938775510205,
          82.20408163265306,
          91.93877551020408,
          101.6734693877551,
          111.40816326530611,
          121.14285714285714,
          130.87755102040816,
          140.6122448979592,
          150.3469387755102,
          160.0816326530612,
          169.81632653061223,
          179.55102040816325,
          189.28571428571428,
          199.0204081632653,
          208.75510204081633,
          218.48979591836735,
          228.22448979591837,
          237.9591836734694,
          247.69387755102042,
          257.42857142857144,
          267.1632653061224,
          276.8979591836735,
          286.63265306122446,
          296.36734693877554,
          306.1020408163265,
          315.83673469387753,
          325.57142857142856,
          335.3061224489796,
          345.0408163265306,
          354.7755102040816,
          364.51020408163265,
          374.2448979591837,
          383.9795918367347,
          393.7142857142857,
          403.44897959183675,
          413.18367346938777,
          422.9183673469388,
          432.6530612244898,
          442.38775510204084,
          452.1224489795918,
          461.85714285714283,
          471.59183673469386,
          481.3265306122449,
          491.0612244897959,
          500.7959183673469,
          510.53061224489795,
          520.2653061224489,
          530
         ],
         "y": [
          16.69,
          17.030612244897963,
          17.37122448979592,
          17.71183673469388,
          18.05244897959184,
          18.3930612244898,
          18.733673469387757,
          19.07428571428572,
          19.414897959183676,
          19.755510204081638,
          20.096122448979596,
          20.436734693877554,
          20.777346938775512,
          21.11795918367347,
          21.45857142857143,
          21.79918367346939,
          22.13979591836735,
          22.48040816326531,
          22.82102040816327,
          23.16163265306123,
          23.502244897959187,
          23.84285714285715,
          24.183469387755103,
          24.524081632653065,
          24.864693877551023,
          25.205306122448984,
          25.545918367346943,
          25.8865306122449,
          26.22714285714286,
          26.56775510204082,
          26.90836734693878,
          27.248979591836736,
          27.589591836734698,
          27.93020408163266,
          28.270816326530614,
          28.611428571428576,
          28.952040816326537,
          29.29265306122449,
          29.633265306122453,
          29.973877551020415,
          30.314489795918373,
          30.65510204081633,
          30.99571428571429,
          31.336326530612247,
          31.67693877551021,
          32.01755102040816,
          32.358163265306125,
          32.69877551020409,
          33.03938775510204,
          33.38
         ]
        },
        {
         "hovertemplate": "<b>%{fullData.name}</b><br>Amp Steps: %{x}<br>Elapse Time: %{y:.2f}s<extra></extra>",
         "legendgroup": "active_att5_shots1000",
         "marker": {
          "color": "#FF97FF",
          "size": 8
         },
         "mode": "markers",
         "name": "active_att5_shots1000",
         "showlegend": true,
         "type": "scatter",
         "x": [
          53,
          530
         ],
         "y": [
          17.965,
          49.92
         ]
        },
        {
         "legendgroup": "active_att5_shots1000",
         "line": {
          "color": "#FF97FF",
          "dash": "dash",
          "width": 2
         },
         "mode": "lines",
         "name": "active_att5_shots1000_regression",
         "showlegend": false,
         "type": "scatter",
         "x": [
          53,
          62.734693877551024,
          72.46938775510205,
          82.20408163265306,
          91.93877551020408,
          101.6734693877551,
          111.40816326530611,
          121.14285714285714,
          130.87755102040816,
          140.6122448979592,
          150.3469387755102,
          160.0816326530612,
          169.81632653061223,
          179.55102040816325,
          189.28571428571428,
          199.0204081632653,
          208.75510204081633,
          218.48979591836735,
          228.22448979591837,
          237.9591836734694,
          247.69387755102042,
          257.42857142857144,
          267.1632653061224,
          276.8979591836735,
          286.63265306122446,
          296.36734693877554,
          306.1020408163265,
          315.83673469387753,
          325.57142857142856,
          335.3061224489796,
          345.0408163265306,
          354.7755102040816,
          364.51020408163265,
          374.2448979591837,
          383.9795918367347,
          393.7142857142857,
          403.44897959183675,
          413.18367346938777,
          422.9183673469388,
          432.6530612244898,
          442.38775510204084,
          452.1224489795918,
          461.85714285714283,
          471.59183673469386,
          481.3265306122449,
          491.0612244897959,
          500.7959183673469,
          510.53061224489795,
          520.2653061224489,
          530
         ],
         "y": [
          17.965000000000003,
          18.61714285714286,
          19.26928571428572,
          19.921428571428574,
          20.573571428571434,
          21.22571428571429,
          21.877857142857145,
          22.53,
          23.18214285714286,
          23.83428571428572,
          24.486428571428576,
          25.13857142857143,
          25.790714285714287,
          26.442857142857143,
          27.095000000000002,
          27.74714285714286,
          28.399285714285718,
          29.051428571428573,
          29.70357142857143,
          30.35571428571429,
          31.007857142857148,
          31.660000000000004,
          32.31214285714286,
          32.96428571428572,
          33.61642857142857,
          34.268571428571434,
          34.92071428571428,
          35.572857142857146,
          36.225,
          36.87714285714286,
          37.52928571428572,
          38.18142857142857,
          38.83357142857143,
          39.48571428571429,
          40.13785714285714,
          40.790000000000006,
          41.442142857142855,
          42.09428571428572,
          42.746428571428574,
          43.39857142857143,
          44.05071428571429,
          44.70285714285714,
          45.355000000000004,
          46.00714285714285,
          46.659285714285716,
          47.31142857142857,
          47.96357142857143,
          48.61571428571428,
          49.26785714285714,
          49.92
         ]
        },
        {
         "hovertemplate": "<b>%{fullData.name}</b><br>Amp Steps: %{x}<br>Elapse Time: %{y:.2f}s<extra></extra>",
         "legendgroup": "active_att15_shots100",
         "marker": {
          "color": "#FECB52",
          "size": 8
         },
         "mode": "markers",
         "name": "active_att15_shots100",
         "showlegend": true,
         "type": "scatter",
         "x": [
          53,
          5300
         ],
         "y": [
          8.365,
          47.9
         ]
        },
        {
         "legendgroup": "active_att15_shots100",
         "line": {
          "color": "#FECB52",
          "dash": "dash",
          "width": 2
         },
         "mode": "lines",
         "name": "active_att15_shots100_regression",
         "showlegend": false,
         "type": "scatter",
         "x": [
          53,
          160.0816326530612,
          267.1632653061224,
          374.2448979591837,
          481.3265306122449,
          588.4081632653061,
          695.4897959183673,
          802.5714285714286,
          909.6530612244898,
          1016.734693877551,
          1123.8163265306123,
          1230.8979591836735,
          1337.9795918367347,
          1445.061224489796,
          1552.142857142857,
          1659.2244897959183,
          1766.3061224489795,
          1873.3877551020407,
          1980.469387755102,
          2087.551020408163,
          2194.6326530612246,
          2301.714285714286,
          2408.795918367347,
          2515.877551020408,
          2622.9591836734694,
          2730.0408163265306,
          2837.122448979592,
          2944.204081632653,
          3051.285714285714,
          3158.3673469387754,
          3265.4489795918366,
          3372.530612244898,
          3479.612244897959,
          3586.6938775510203,
          3693.7755102040815,
          3800.8571428571427,
          3907.938775510204,
          4015.020408163265,
          4122.102040816326,
          4229.183673469388,
          4336.265306122449,
          4443.34693877551,
          4550.428571428572,
          4657.510204081633,
          4764.591836734694,
          4871.673469387755,
          4978.755102040816,
          5085.836734693878,
          5192.918367346939,
          5300
         ],
         "y": [
          8.365000000000004,
          9.171836734693882,
          9.978673469387758,
          10.785510204081636,
          11.592346938775513,
          12.399183673469391,
          13.206020408163269,
          14.012857142857145,
          14.819693877551023,
          15.626530612244899,
          16.43336734693878,
          17.240204081632655,
          18.047040816326533,
          18.85387755102041,
          19.660714285714285,
          20.467551020408166,
          21.27438775510204,
          22.08122448979592,
          22.888061224489796,
          23.69489795918367,
          24.50173469387755,
          25.30857142857143,
          26.115408163265307,
          26.922244897959185,
          27.72908163265306,
          28.535918367346937,
          29.342755102040815,
          30.149591836734693,
          30.95642857142857,
          31.76326530612245,
          32.57010204081632,
          33.3769387755102,
          34.18377551020408,
          34.99061224489796,
          35.797448979591834,
          36.60428571428571,
          37.41112244897958,
          38.217959183673464,
          39.02479591836734,
          39.83163265306122,
          40.638469387755094,
          41.44530612244898,
          42.25214285714286,
          43.05897959183673,
          43.865816326530606,
          44.67265306122448,
          45.47948979591837,
          46.28632653061224,
          47.09316326530612,
          47.89999999999999
         ]
        },
        {
         "hovertemplate": "<b>%{fullData.name}</b><br>Amp Steps: %{x}<br>Elapse Time: %{y:.2f}s<extra></extra>",
         "legendgroup": "active_att15_shots500",
         "marker": {
          "color": "rgb(228,26,28)",
          "size": 8
         },
         "mode": "markers",
         "name": "active_att15_shots500",
         "showlegend": true,
         "type": "scatter",
         "x": [
          53,
          5300
         ],
         "y": [
          16.71,
          192.06
         ]
        },
        {
         "legendgroup": "active_att15_shots500",
         "line": {
          "color": "rgb(228,26,28)",
          "dash": "dash",
          "width": 2
         },
         "mode": "lines",
         "name": "active_att15_shots500_regression",
         "showlegend": false,
         "type": "scatter",
         "x": [
          53,
          160.0816326530612,
          267.1632653061224,
          374.2448979591837,
          481.3265306122449,
          588.4081632653061,
          695.4897959183673,
          802.5714285714286,
          909.6530612244898,
          1016.734693877551,
          1123.8163265306123,
          1230.8979591836735,
          1337.9795918367347,
          1445.061224489796,
          1552.142857142857,
          1659.2244897959183,
          1766.3061224489795,
          1873.3877551020407,
          1980.469387755102,
          2087.551020408163,
          2194.6326530612246,
          2301.714285714286,
          2408.795918367347,
          2515.877551020408,
          2622.9591836734694,
          2730.0408163265306,
          2837.122448979592,
          2944.204081632653,
          3051.285714285714,
          3158.3673469387754,
          3265.4489795918366,
          3372.530612244898,
          3479.612244897959,
          3586.6938775510203,
          3693.7755102040815,
          3800.8571428571427,
          3907.938775510204,
          4015.020408163265,
          4122.102040816326,
          4229.183673469388,
          4336.265306122449,
          4443.34693877551,
          4550.428571428572,
          4657.510204081633,
          4764.591836734694,
          4871.673469387755,
          4978.755102040816,
          5085.836734693878,
          5192.918367346939,
          5300
         ],
         "y": [
          16.71000000000001,
          20.28857142857144,
          23.867142857142866,
          27.445714285714295,
          31.024285714285725,
          34.602857142857154,
          38.18142857142858,
          41.76000000000001,
          45.33857142857144,
          48.91714285714286,
          52.4957142857143,
          56.07428571428573,
          59.65285714285715,
          63.23142857142858,
          66.81,
          70.38857142857144,
          73.96714285714287,
          77.5457142857143,
          81.12428571428572,
          84.70285714285714,
          88.28142857142858,
          91.86000000000001,
          95.43857142857144,
          99.01714285714287,
          102.5957142857143,
          106.17428571428572,
          109.75285714285715,
          113.33142857142857,
          116.91000000000001,
          120.48857142857143,
          124.06714285714285,
          127.64571428571429,
          131.2242857142857,
          134.80285714285714,
          138.38142857142856,
          141.95999999999998,
          145.5385714285714,
          149.11714285714288,
          152.69571428571425,
          156.27428571428572,
          159.85285714285715,
          163.43142857142857,
          167.01,
          170.5885714285714,
          174.1671428571429,
          177.7457142857143,
          181.32428571428574,
          184.90285714285716,
          188.48142857142858,
          192.06
         ]
        },
        {
         "hovertemplate": "<b>%{fullData.name}</b><br>Amp Steps: %{x}<br>Elapse Time: %{y:.2f}s<extra></extra>",
         "legendgroup": "active_att15_shots1000",
         "marker": {
          "color": "rgb(55,126,184)",
          "size": 8
         },
         "mode": "markers",
         "name": "active_att15_shots1000",
         "showlegend": true,
         "type": "scatter",
         "x": [
          53,
          5300
         ],
         "y": [
          25.295,
          386.65
         ]
        },
        {
         "legendgroup": "active_att15_shots1000",
         "line": {
          "color": "rgb(55,126,184)",
          "dash": "dash",
          "width": 2
         },
         "mode": "lines",
         "name": "active_att15_shots1000_regression",
         "showlegend": false,
         "type": "scatter",
         "x": [
          53,
          160.0816326530612,
          267.1632653061224,
          374.2448979591837,
          481.3265306122449,
          588.4081632653061,
          695.4897959183673,
          802.5714285714286,
          909.6530612244898,
          1016.734693877551,
          1123.8163265306123,
          1230.8979591836735,
          1337.9795918367347,
          1445.061224489796,
          1552.142857142857,
          1659.2244897959183,
          1766.3061224489795,
          1873.3877551020407,
          1980.469387755102,
          2087.551020408163,
          2194.6326530612246,
          2301.714285714286,
          2408.795918367347,
          2515.877551020408,
          2622.9591836734694,
          2730.0408163265306,
          2837.122448979592,
          2944.204081632653,
          3051.285714285714,
          3158.3673469387754,
          3265.4489795918366,
          3372.530612244898,
          3479.612244897959,
          3586.6938775510203,
          3693.7755102040815,
          3800.8571428571427,
          3907.938775510204,
          4015.020408163265,
          4122.102040816326,
          4229.183673469388,
          4336.265306122449,
          4443.34693877551,
          4550.428571428572,
          4657.510204081633,
          4764.591836734694,
          4871.673469387755,
          4978.755102040816,
          5085.836734693878,
          5192.918367346939,
          5300
         ],
         "y": [
          25.294999999999963,
          32.66959183673466,
          40.04418367346935,
          47.41877551020405,
          54.793367346938744,
          62.167959183673446,
          69.54255102040814,
          76.91714285714284,
          84.29173469387753,
          91.66632653061222,
          99.04091836734692,
          106.41551020408161,
          113.79010204081631,
          121.164693877551,
          128.5392857142857,
          135.9138775510204,
          143.28846938775507,
          150.66306122448978,
          158.0376530612245,
          165.41224489795917,
          172.78683673469388,
          180.1614285714286,
          187.53602040816327,
          194.91061224489798,
          202.28520408163266,
          209.65979591836737,
          217.03438775510205,
          224.40897959183675,
          231.78357142857143,
          239.15816326530614,
          246.53275510204082,
          253.90734693877553,
          261.2819387755102,
          268.6565306122449,
          276.0311224489796,
          283.4057142857143,
          290.780306122449,
          298.1548979591837,
          305.5294897959183,
          312.9040816326531,
          320.2786734693878,
          327.6532653061225,
          335.0278571428572,
          342.4024489795919,
          349.7770408163266,
          357.15163265306126,
          364.526224489796,
          371.9008163265307,
          379.27540816326535,
          386.65000000000003
         ]
        },
        {
         "hovertemplate": "<b>%{fullData.name}</b><br>Amp Steps: %{x}<br>Elapse Time: %{y:.2f}s<extra></extra>",
         "legendgroup": "active_att30_shots100",
         "marker": {
          "color": "rgb(77,175,74)",
          "size": 8
         },
         "mode": "markers",
         "name": "active_att30_shots100",
         "showlegend": true,
         "type": "scatter",
         "x": [
          53
         ],
         "y": [
          8.37
         ]
        },
        {
         "hovertemplate": "<b>%{fullData.name}</b><br>Amp Steps: %{x}<br>Elapse Time: %{y:.2f}s<extra></extra>",
         "legendgroup": "active_att30_shots500",
         "marker": {
          "color": "rgb(152,78,163)",
          "size": 8
         },
         "mode": "markers",
         "name": "active_att30_shots500",
         "showlegend": true,
         "type": "scatter",
         "x": [
          53
         ],
         "y": [
          25.08
         ]
        },
        {
         "hovertemplate": "<b>%{fullData.name}</b><br>Amp Steps: %{x}<br>Elapse Time: %{y:.2f}s<extra></extra>",
         "legendgroup": "active_att30_shots1000",
         "marker": {
          "color": "rgb(255,127,0)",
          "size": 8
         },
         "mode": "markers",
         "name": "active_att30_shots1000",
         "showlegend": true,
         "type": "scatter",
         "x": [
          53
         ],
         "y": [
          33.44
         ]
        },
        {
         "hovertemplate": "<b>%{fullData.name}</b><br>Amp Steps: %{x}<br>Elapse Time: %{y:.2f}s<extra></extra>",
         "legendgroup": "active_att1_shots1",
         "marker": {
          "color": "rgb(255,255,51)",
          "size": 8
         },
         "mode": "markers",
         "name": "active_att1_shots1",
         "showlegend": true,
         "type": "scatter",
         "x": [
          53
         ],
         "y": [
          8.325
         ]
        },
        {
         "hovertemplate": "<b>%{fullData.name}</b><br>Amp Steps: %{x}<br>Elapse Time: %{y:.2f}s<extra></extra>",
         "legendgroup": "active_att15_shots1",
         "marker": {
          "color": "rgb(166,86,40)",
          "size": 8
         },
         "mode": "markers",
         "name": "active_att15_shots1",
         "showlegend": true,
         "type": "scatter",
         "x": [
          53
         ],
         "y": [
          8.365
         ]
        },
        {
         "hovertemplate": "<b>%{fullData.name}</b><br>Amp Steps: %{x}<br>Elapse Time: %{y:.2f}s<extra></extra>",
         "legendgroup": "active_att30_shots1",
         "marker": {
          "color": "rgb(247,129,191)",
          "size": 8
         },
         "mode": "markers",
         "name": "active_att30_shots1",
         "showlegend": true,
         "type": "scatter",
         "x": [
          53
         ],
         "y": [
          8.355
         ]
        },
        {
         "hovertemplate": "<b>%{fullData.name}</b><br>Amp Steps: %{x}<br>Elapse Time: %{y:.2f}s<extra></extra>",
         "legendgroup": "thermal_attnone_shots3000",
         "marker": {
          "color": "rgb(153,153,153)",
          "size": 8
         },
         "mode": "markers",
         "name": "thermal_attnone_shots3000",
         "showlegend": true,
         "type": "scatter",
         "x": [
          53
         ],
         "y": [
          94.63
         ]
        },
        {
         "hovertemplate": "<b>%{fullData.name}</b><br>Amp Steps: %{x}<br>Elapse Time: %{y:.2f}s<extra></extra>",
         "legendgroup": "active_att30_shots3000",
         "marker": {
          "color": "rgb(102,194,165)",
          "size": 8
         },
         "mode": "markers",
         "name": "active_att30_shots3000",
         "showlegend": true,
         "type": "scatter",
         "x": [
          53
         ],
         "y": [
          76.25
         ]
        },
        {
         "hovertemplate": "<b>%{fullData.name}</b><br>Amp Steps: %{x}<br>Elapse Time: %{y:.2f}s<extra></extra>",
         "legendgroup": "active_att15_shots3000",
         "marker": {
          "color": "rgb(252,141,98)",
          "size": 8
         },
         "mode": "markers",
         "name": "active_att15_shots3000",
         "showlegend": true,
         "type": "scatter",
         "x": [
          53,
          5300
         ],
         "y": [
          41.67,
          1153.2
         ]
        },
        {
         "legendgroup": "active_att15_shots3000",
         "line": {
          "color": "rgb(252,141,98)",
          "dash": "dash",
          "width": 2
         },
         "mode": "lines",
         "name": "active_att15_shots3000_regression",
         "showlegend": false,
         "type": "scatter",
         "x": [
          53,
          160.0816326530612,
          267.1632653061224,
          374.2448979591837,
          481.3265306122449,
          588.4081632653061,
          695.4897959183673,
          802.5714285714286,
          909.6530612244898,
          1016.734693877551,
          1123.8163265306123,
          1230.8979591836735,
          1337.9795918367347,
          1445.061224489796,
          1552.142857142857,
          1659.2244897959183,
          1766.3061224489795,
          1873.3877551020407,
          1980.469387755102,
          2087.551020408163,
          2194.6326530612246,
          2301.714285714286,
          2408.795918367347,
          2515.877551020408,
          2622.9591836734694,
          2730.0408163265306,
          2837.122448979592,
          2944.204081632653,
          3051.285714285714,
          3158.3673469387754,
          3265.4489795918366,
          3372.530612244898,
          3479.612244897959,
          3586.6938775510203,
          3693.7755102040815,
          3800.8571428571427,
          3907.938775510204,
          4015.020408163265,
          4122.102040816326,
          4229.183673469388,
          4336.265306122449,
          4443.34693877551,
          4550.428571428572,
          4657.510204081633,
          4764.591836734694,
          4871.673469387755,
          4978.755102040816,
          5085.836734693878,
          5192.918367346939,
          5300
         ],
         "y": [
          41.66999999999994,
          64.35428571428565,
          87.03857142857137,
          109.7228571428571,
          132.4071428571428,
          155.09142857142854,
          177.77571428571426,
          200.45999999999995,
          223.14428571428567,
          245.8285714285714,
          268.5128571428571,
          291.1971428571428,
          313.88142857142856,
          336.56571428571425,
          359.25,
          381.9342857142857,
          404.6185714285714,
          427.30285714285714,
          449.9871428571428,
          472.6714285714285,
          495.3557142857143,
          518.04,
          540.7242857142858,
          563.4085714285715,
          586.0928571428572,
          608.7771428571428,
          631.4614285714285,
          654.1457142857143,
          676.83,
          699.5142857142857,
          722.1985714285714,
          744.8828571428571,
          767.5671428571428,
          790.2514285714286,
          812.9357142857143,
          835.62,
          858.3042857142857,
          880.9885714285714,
          903.6728571428571,
          926.357142857143,
          949.0414285714287,
          971.7257142857144,
          994.4100000000001,
          1017.0942857142858,
          1039.7785714285715,
          1062.462857142857,
          1085.147142857143,
          1107.8314285714287,
          1130.5157142857142,
          1153.2000000000003
         ]
        },
        {
         "hovertemplate": "<b>%{fullData.name}</b><br>Amp Steps: %{x}<br>Elapse Time: %{y:.2f}s<extra></extra>",
         "legendgroup": "active_att5_shots3000",
         "marker": {
          "color": "rgb(141,160,203)",
          "size": 8
         },
         "mode": "markers",
         "name": "active_att5_shots3000",
         "showlegend": true,
         "type": "scatter",
         "x": [
          53,
          530
         ],
         "y": [
          24.99,
          116.69
         ]
        },
        {
         "legendgroup": "active_att5_shots3000",
         "line": {
          "color": "rgb(141,160,203)",
          "dash": "dash",
          "width": 2
         },
         "mode": "lines",
         "name": "active_att5_shots3000_regression",
         "showlegend": false,
         "type": "scatter",
         "x": [
          53,
          62.734693877551024,
          72.46938775510205,
          82.20408163265306,
          91.93877551020408,
          101.6734693877551,
          111.40816326530611,
          121.14285714285714,
          130.87755102040816,
          140.6122448979592,
          150.3469387755102,
          160.0816326530612,
          169.81632653061223,
          179.55102040816325,
          189.28571428571428,
          199.0204081632653,
          208.75510204081633,
          218.48979591836735,
          228.22448979591837,
          237.9591836734694,
          247.69387755102042,
          257.42857142857144,
          267.1632653061224,
          276.8979591836735,
          286.63265306122446,
          296.36734693877554,
          306.1020408163265,
          315.83673469387753,
          325.57142857142856,
          335.3061224489796,
          345.0408163265306,
          354.7755102040816,
          364.51020408163265,
          374.2448979591837,
          383.9795918367347,
          393.7142857142857,
          403.44897959183675,
          413.18367346938777,
          422.9183673469388,
          432.6530612244898,
          442.38775510204084,
          452.1224489795918,
          461.85714285714283,
          471.59183673469386,
          481.3265306122449,
          491.0612244897959,
          500.7959183673469,
          510.53061224489795,
          520.2653061224489,
          530
         ],
         "y": [
          24.990000000000013,
          26.861428571428583,
          28.732857142857156,
          30.604285714285723,
          32.4757142857143,
          34.34714285714287,
          36.21857142857144,
          38.09,
          39.961428571428584,
          41.83285714285715,
          43.704285714285724,
          45.575714285714284,
          47.44714285714286,
          49.31857142857143,
          51.190000000000005,
          53.06142857142858,
          54.932857142857145,
          56.80428571428572,
          58.67571428571429,
          60.54714285714286,
          62.41857142857143,
          64.29,
          66.16142857142856,
          68.03285714285715,
          69.9042857142857,
          71.77571428571429,
          73.64714285714285,
          75.51857142857142,
          77.38999999999999,
          79.26142857142857,
          81.13285714285713,
          83.00428571428571,
          84.87571428571428,
          86.74714285714285,
          88.61857142857143,
          90.49,
          92.36142857142856,
          94.23285714285714,
          96.10428571428571,
          97.97571428571429,
          99.84714285714286,
          101.71857142857141,
          103.58999999999999,
          105.46142857142856,
          107.33285714285714,
          109.2042857142857,
          111.07571428571427,
          112.94714285714285,
          114.8185714285714,
          116.68999999999998
         ]
        },
        {
         "hovertemplate": "<b>%{fullData.name}</b><br>Amp Steps: %{x}<br>Elapse Time: %{y:.2f}s<extra></extra>",
         "legendgroup": "active_att1_shots3000",
         "marker": {
          "color": "rgb(231,138,195)",
          "size": 8
         },
         "mode": "markers",
         "name": "active_att1_shots3000",
         "showlegend": true,
         "type": "scatter",
         "x": [
          53,
          5300
         ],
         "y": [
          16.72,
          328.38
         ]
        },
        {
         "legendgroup": "active_att1_shots3000",
         "line": {
          "color": "rgb(231,138,195)",
          "dash": "dash",
          "width": 2
         },
         "mode": "lines",
         "name": "active_att1_shots3000_regression",
         "showlegend": false,
         "type": "scatter",
         "x": [
          53,
          160.0816326530612,
          267.1632653061224,
          374.2448979591837,
          481.3265306122449,
          588.4081632653061,
          695.4897959183673,
          802.5714285714286,
          909.6530612244898,
          1016.734693877551,
          1123.8163265306123,
          1230.8979591836735,
          1337.9795918367347,
          1445.061224489796,
          1552.142857142857,
          1659.2244897959183,
          1766.3061224489795,
          1873.3877551020407,
          1980.469387755102,
          2087.551020408163,
          2194.6326530612246,
          2301.714285714286,
          2408.795918367347,
          2515.877551020408,
          2622.9591836734694,
          2730.0408163265306,
          2837.122448979592,
          2944.204081632653,
          3051.285714285714,
          3158.3673469387754,
          3265.4489795918366,
          3372.530612244898,
          3479.612244897959,
          3586.6938775510203,
          3693.7755102040815,
          3800.8571428571427,
          3907.938775510204,
          4015.020408163265,
          4122.102040816326,
          4229.183673469388,
          4336.265306122449,
          4443.34693877551,
          4550.428571428572,
          4657.510204081633,
          4764.591836734694,
          4871.673469387755,
          4978.755102040816,
          5085.836734693878,
          5192.918367346939,
          5300
         ],
         "y": [
          16.720000000000002,
          23.080408163265307,
          29.440816326530612,
          35.80122448979592,
          42.161632653061226,
          48.52204081632654,
          54.88244897959184,
          61.24285714285715,
          67.60326530612245,
          73.96367346938776,
          80.32408163265308,
          86.68448979591838,
          93.04489795918369,
          99.40530612244899,
          105.7657142857143,
          112.1261224489796,
          118.4865306122449,
          124.84693877551021,
          131.20734693877552,
          137.5677551020408,
          143.92816326530613,
          150.28857142857146,
          156.64897959183676,
          163.00938775510207,
          169.36979591836737,
          175.73020408163268,
          182.09061224489798,
          188.4510204081633,
          194.8114285714286,
          201.1718367346939,
          207.5322448979592,
          213.8926530612245,
          220.2530612244898,
          226.61346938775512,
          232.97387755102042,
          239.33428571428573,
          245.69469387755103,
          252.05510204081634,
          258.4155102040816,
          264.775918367347,
          271.1363265306122,
          277.49673469387756,
          283.8571428571429,
          290.2175510204082,
          296.57795918367344,
          302.9383673469388,
          309.2987755102041,
          315.65918367346944,
          322.0195918367348,
          328.38
         ]
        },
        {
         "hovertemplate": "<b>%{fullData.name}</b><br>Amp Steps: %{x}<br>Elapse Time: %{y:.2f}s<extra></extra>",
         "legendgroup": "active_att1_shots30",
         "marker": {
          "color": "rgb(166,216,84)",
          "size": 8
         },
         "mode": "markers",
         "name": "active_att1_shots30",
         "showlegend": true,
         "type": "scatter",
         "x": [
          530
         ],
         "y": [
          8.35
         ]
        }
       ],
       "layout": {
        "height": 700,
        "hovermode": "closest",
        "legend": {
         "font": {
          "size": 9
         },
         "orientation": "v",
         "x": 1.02,
         "xanchor": "left",
         "y": 1,
         "yanchor": "top"
        },
        "template": {
         "data": {
          "bar": [
           {
            "error_x": {
             "color": "#2a3f5f"
            },
            "error_y": {
             "color": "#2a3f5f"
            },
            "marker": {
             "line": {
              "color": "#E5ECF6",
              "width": 0.5
             },
             "pattern": {
              "fillmode": "overlay",
              "size": 10,
              "solidity": 0.2
             }
            },
            "type": "bar"
           }
          ],
          "barpolar": [
           {
            "marker": {
             "line": {
              "color": "#E5ECF6",
              "width": 0.5
             },
             "pattern": {
              "fillmode": "overlay",
              "size": 10,
              "solidity": 0.2
             }
            },
            "type": "barpolar"
           }
          ],
          "carpet": [
           {
            "aaxis": {
             "endlinecolor": "#2a3f5f",
             "gridcolor": "white",
             "linecolor": "white",
             "minorgridcolor": "white",
             "startlinecolor": "#2a3f5f"
            },
            "baxis": {
             "endlinecolor": "#2a3f5f",
             "gridcolor": "white",
             "linecolor": "white",
             "minorgridcolor": "white",
             "startlinecolor": "#2a3f5f"
            },
            "type": "carpet"
           }
          ],
          "choropleth": [
           {
            "colorbar": {
             "outlinewidth": 0,
             "ticks": ""
            },
            "type": "choropleth"
           }
          ],
          "contour": [
           {
            "colorbar": {
             "outlinewidth": 0,
             "ticks": ""
            },
            "colorscale": [
             [
              0,
              "#0d0887"
             ],
             [
              0.1111111111111111,
              "#46039f"
             ],
             [
              0.2222222222222222,
              "#7201a8"
             ],
             [
              0.3333333333333333,
              "#9c179e"
             ],
             [
              0.4444444444444444,
              "#bd3786"
             ],
             [
              0.5555555555555556,
              "#d8576b"
             ],
             [
              0.6666666666666666,
              "#ed7953"
             ],
             [
              0.7777777777777778,
              "#fb9f3a"
             ],
             [
              0.8888888888888888,
              "#fdca26"
             ],
             [
              1,
              "#f0f921"
             ]
            ],
            "type": "contour"
           }
          ],
          "contourcarpet": [
           {
            "colorbar": {
             "outlinewidth": 0,
             "ticks": ""
            },
            "type": "contourcarpet"
           }
          ],
          "heatmap": [
           {
            "colorbar": {
             "outlinewidth": 0,
             "ticks": ""
            },
            "colorscale": [
             [
              0,
              "#0d0887"
             ],
             [
              0.1111111111111111,
              "#46039f"
             ],
             [
              0.2222222222222222,
              "#7201a8"
             ],
             [
              0.3333333333333333,
              "#9c179e"
             ],
             [
              0.4444444444444444,
              "#bd3786"
             ],
             [
              0.5555555555555556,
              "#d8576b"
             ],
             [
              0.6666666666666666,
              "#ed7953"
             ],
             [
              0.7777777777777778,
              "#fb9f3a"
             ],
             [
              0.8888888888888888,
              "#fdca26"
             ],
             [
              1,
              "#f0f921"
             ]
            ],
            "type": "heatmap"
           }
          ],
          "heatmapgl": [
           {
            "colorbar": {
             "outlinewidth": 0,
             "ticks": ""
            },
            "colorscale": [
             [
              0,
              "#0d0887"
             ],
             [
              0.1111111111111111,
              "#46039f"
             ],
             [
              0.2222222222222222,
              "#7201a8"
             ],
             [
              0.3333333333333333,
              "#9c179e"
             ],
             [
              0.4444444444444444,
              "#bd3786"
             ],
             [
              0.5555555555555556,
              "#d8576b"
             ],
             [
              0.6666666666666666,
              "#ed7953"
             ],
             [
              0.7777777777777778,
              "#fb9f3a"
             ],
             [
              0.8888888888888888,
              "#fdca26"
             ],
             [
              1,
              "#f0f921"
             ]
            ],
            "type": "heatmapgl"
           }
          ],
          "histogram": [
           {
            "marker": {
             "pattern": {
              "fillmode": "overlay",
              "size": 10,
              "solidity": 0.2
             }
            },
            "type": "histogram"
           }
          ],
          "histogram2d": [
           {
            "colorbar": {
             "outlinewidth": 0,
             "ticks": ""
            },
            "colorscale": [
             [
              0,
              "#0d0887"
             ],
             [
              0.1111111111111111,
              "#46039f"
             ],
             [
              0.2222222222222222,
              "#7201a8"
             ],
             [
              0.3333333333333333,
              "#9c179e"
             ],
             [
              0.4444444444444444,
              "#bd3786"
             ],
             [
              0.5555555555555556,
              "#d8576b"
             ],
             [
              0.6666666666666666,
              "#ed7953"
             ],
             [
              0.7777777777777778,
              "#fb9f3a"
             ],
             [
              0.8888888888888888,
              "#fdca26"
             ],
             [
              1,
              "#f0f921"
             ]
            ],
            "type": "histogram2d"
           }
          ],
          "histogram2dcontour": [
           {
            "colorbar": {
             "outlinewidth": 0,
             "ticks": ""
            },
            "colorscale": [
             [
              0,
              "#0d0887"
             ],
             [
              0.1111111111111111,
              "#46039f"
             ],
             [
              0.2222222222222222,
              "#7201a8"
             ],
             [
              0.3333333333333333,
              "#9c179e"
             ],
             [
              0.4444444444444444,
              "#bd3786"
             ],
             [
              0.5555555555555556,
              "#d8576b"
             ],
             [
              0.6666666666666666,
              "#ed7953"
             ],
             [
              0.7777777777777778,
              "#fb9f3a"
             ],
             [
              0.8888888888888888,
              "#fdca26"
             ],
             [
              1,
              "#f0f921"
             ]
            ],
            "type": "histogram2dcontour"
           }
          ],
          "mesh3d": [
           {
            "colorbar": {
             "outlinewidth": 0,
             "ticks": ""
            },
            "type": "mesh3d"
           }
          ],
          "parcoords": [
           {
            "line": {
             "colorbar": {
              "outlinewidth": 0,
              "ticks": ""
             }
            },
            "type": "parcoords"
           }
          ],
          "pie": [
           {
            "automargin": true,
            "type": "pie"
           }
          ],
          "scatter": [
           {
            "fillpattern": {
             "fillmode": "overlay",
             "size": 10,
             "solidity": 0.2
            },
            "type": "scatter"
           }
          ],
          "scatter3d": [
           {
            "line": {
             "colorbar": {
              "outlinewidth": 0,
              "ticks": ""
             }
            },
            "marker": {
             "colorbar": {
              "outlinewidth": 0,
              "ticks": ""
             }
            },
            "type": "scatter3d"
           }
          ],
          "scattercarpet": [
           {
            "marker": {
             "colorbar": {
              "outlinewidth": 0,
              "ticks": ""
             }
            },
            "type": "scattercarpet"
           }
          ],
          "scattergeo": [
           {
            "marker": {
             "colorbar": {
              "outlinewidth": 0,
              "ticks": ""
             }
            },
            "type": "scattergeo"
           }
          ],
          "scattergl": [
           {
            "marker": {
             "colorbar": {
              "outlinewidth": 0,
              "ticks": ""
             }
            },
            "type": "scattergl"
           }
          ],
          "scattermapbox": [
           {
            "marker": {
             "colorbar": {
              "outlinewidth": 0,
              "ticks": ""
             }
            },
            "type": "scattermapbox"
           }
          ],
          "scatterpolar": [
           {
            "marker": {
             "colorbar": {
              "outlinewidth": 0,
              "ticks": ""
             }
            },
            "type": "scatterpolar"
           }
          ],
          "scatterpolargl": [
           {
            "marker": {
             "colorbar": {
              "outlinewidth": 0,
              "ticks": ""
             }
            },
            "type": "scatterpolargl"
           }
          ],
          "scatterternary": [
           {
            "marker": {
             "colorbar": {
              "outlinewidth": 0,
              "ticks": ""
             }
            },
            "type": "scatterternary"
           }
          ],
          "surface": [
           {
            "colorbar": {
             "outlinewidth": 0,
             "ticks": ""
            },
            "colorscale": [
             [
              0,
              "#0d0887"
             ],
             [
              0.1111111111111111,
              "#46039f"
             ],
             [
              0.2222222222222222,
              "#7201a8"
             ],
             [
              0.3333333333333333,
              "#9c179e"
             ],
             [
              0.4444444444444444,
              "#bd3786"
             ],
             [
              0.5555555555555556,
              "#d8576b"
             ],
             [
              0.6666666666666666,
              "#ed7953"
             ],
             [
              0.7777777777777778,
              "#fb9f3a"
             ],
             [
              0.8888888888888888,
              "#fdca26"
             ],
             [
              1,
              "#f0f921"
             ]
            ],
            "type": "surface"
           }
          ],
          "table": [
           {
            "cells": {
             "fill": {
              "color": "#EBF0F8"
             },
             "line": {
              "color": "white"
             }
            },
            "header": {
             "fill": {
              "color": "#C8D4E3"
             },
             "line": {
              "color": "white"
             }
            },
            "type": "table"
           }
          ]
         },
         "layout": {
          "annotationdefaults": {
           "arrowcolor": "#2a3f5f",
           "arrowhead": 0,
           "arrowwidth": 1
          },
          "autotypenumbers": "strict",
          "coloraxis": {
           "colorbar": {
            "outlinewidth": 0,
            "ticks": ""
           }
          },
          "colorscale": {
           "diverging": [
            [
             0,
             "#8e0152"
            ],
            [
             0.1,
             "#c51b7d"
            ],
            [
             0.2,
             "#de77ae"
            ],
            [
             0.3,
             "#f1b6da"
            ],
            [
             0.4,
             "#fde0ef"
            ],
            [
             0.5,
             "#f7f7f7"
            ],
            [
             0.6,
             "#e6f5d0"
            ],
            [
             0.7,
             "#b8e186"
            ],
            [
             0.8,
             "#7fbc41"
            ],
            [
             0.9,
             "#4d9221"
            ],
            [
             1,
             "#276419"
            ]
           ],
           "sequential": [
            [
             0,
             "#0d0887"
            ],
            [
             0.1111111111111111,
             "#46039f"
            ],
            [
             0.2222222222222222,
             "#7201a8"
            ],
            [
             0.3333333333333333,
             "#9c179e"
            ],
            [
             0.4444444444444444,
             "#bd3786"
            ],
            [
             0.5555555555555556,
             "#d8576b"
            ],
            [
             0.6666666666666666,
             "#ed7953"
            ],
            [
             0.7777777777777778,
             "#fb9f3a"
            ],
            [
             0.8888888888888888,
             "#fdca26"
            ],
            [
             1,
             "#f0f921"
            ]
           ],
           "sequentialminus": [
            [
             0,
             "#0d0887"
            ],
            [
             0.1111111111111111,
             "#46039f"
            ],
            [
             0.2222222222222222,
             "#7201a8"
            ],
            [
             0.3333333333333333,
             "#9c179e"
            ],
            [
             0.4444444444444444,
             "#bd3786"
            ],
            [
             0.5555555555555556,
             "#d8576b"
            ],
            [
             0.6666666666666666,
             "#ed7953"
            ],
            [
             0.7777777777777778,
             "#fb9f3a"
            ],
            [
             0.8888888888888888,
             "#fdca26"
            ],
            [
             1,
             "#f0f921"
            ]
           ]
          },
          "colorway": [
           "#636efa",
           "#EF553B",
           "#00cc96",
           "#ab63fa",
           "#FFA15A",
           "#19d3f3",
           "#FF6692",
           "#B6E880",
           "#FF97FF",
           "#FECB52"
          ],
          "font": {
           "color": "#2a3f5f"
          },
          "geo": {
           "bgcolor": "white",
           "lakecolor": "white",
           "landcolor": "#E5ECF6",
           "showlakes": true,
           "showland": true,
           "subunitcolor": "white"
          },
          "hoverlabel": {
           "align": "left"
          },
          "hovermode": "closest",
          "mapbox": {
           "style": "light"
          },
          "paper_bgcolor": "white",
          "plot_bgcolor": "#E5ECF6",
          "polar": {
           "angularaxis": {
            "gridcolor": "white",
            "linecolor": "white",
            "ticks": ""
           },
           "bgcolor": "#E5ECF6",
           "radialaxis": {
            "gridcolor": "white",
            "linecolor": "white",
            "ticks": ""
           }
          },
          "scene": {
           "xaxis": {
            "backgroundcolor": "#E5ECF6",
            "gridcolor": "white",
            "gridwidth": 2,
            "linecolor": "white",
            "showbackground": true,
            "ticks": "",
            "zerolinecolor": "white"
           },
           "yaxis": {
            "backgroundcolor": "#E5ECF6",
            "gridcolor": "white",
            "gridwidth": 2,
            "linecolor": "white",
            "showbackground": true,
            "ticks": "",
            "zerolinecolor": "white"
           },
           "zaxis": {
            "backgroundcolor": "#E5ECF6",
            "gridcolor": "white",
            "gridwidth": 2,
            "linecolor": "white",
            "showbackground": true,
            "ticks": "",
            "zerolinecolor": "white"
           }
          },
          "shapedefaults": {
           "line": {
            "color": "#2a3f5f"
           }
          },
          "ternary": {
           "aaxis": {
            "gridcolor": "white",
            "linecolor": "white",
            "ticks": ""
           },
           "baxis": {
            "gridcolor": "white",
            "linecolor": "white",
            "ticks": ""
           },
           "bgcolor": "#E5ECF6",
           "caxis": {
            "gridcolor": "white",
            "linecolor": "white",
            "ticks": ""
           }
          },
          "title": {
           "x": 0.05
          },
          "xaxis": {
           "automargin": true,
           "gridcolor": "white",
           "linecolor": "white",
           "ticks": "",
           "title": {
            "standoff": 15
           },
           "zerolinecolor": "white",
           "zerolinewidth": 2
          },
          "yaxis": {
           "automargin": true,
           "gridcolor": "white",
           "linecolor": "white",
           "ticks": "",
           "title": {
            "standoff": 15
           },
           "zerolinecolor": "white",
           "zerolinewidth": 2
          }
         }
        },
        "title": {
         "text": "Amp Steps vs Elapse Time with Individual Linear Regressions"
        },
        "width": 1200,
        "xaxis": {
         "ticktext": [
          "53",
          "530",
          "5300"
         ],
         "tickvals": [
          53,
          530,
          5300
         ],
         "title": {
          "text": "Amp Steps (x-axis)"
         },
         "type": "linear"
        },
        "yaxis": {
         "title": {
          "text": "avg elapse_time (s) (y-axis)"
         }
        }
       }
      }
     },
     "metadata": {},
     "output_type": "display_data"
    },
    {
     "name": "stdout",
     "output_type": "stream",
     "text": [
      "\n",
      "======================================================================\n",
      "Linear Regression Analysis Results for Each Legend (y = ax + b)\n",
      "======================================================================\n",
      "\n",
      "Legend: active_att15_shots100\n",
      "  Equation: y = 0.007535x + 7.97\n",
      "  Slope (a): 0.00753478\n",
      "  Intercept (b): 7.9657\n",
      "  Number of data points: 2\n",
      "  Unique amp_steps values: 2\n",
      "\n",
      "Legend: active_att15_shots1000\n",
      "  Equation: y = 0.068869x + 21.64\n",
      "  Slope (a): 0.06886888\n",
      "  Intercept (b): 21.6449\n",
      "  Number of data points: 2\n",
      "  Unique amp_steps values: 2\n",
      "\n",
      "Legend: active_att15_shots3000\n",
      "  Equation: y = 0.211841x + 30.44\n",
      "  Slope (a): 0.21184105\n",
      "  Intercept (b): 30.4424\n",
      "  Number of data points: 2\n",
      "  Unique amp_steps values: 2\n",
      "\n",
      "Legend: active_att15_shots500\n",
      "  Equation: y = 0.033419x + 14.94\n",
      "  Slope (a): 0.03341910\n",
      "  Intercept (b): 14.9388\n",
      "  Number of data points: 2\n",
      "  Unique amp_steps values: 2\n",
      "\n",
      "Legend: active_att1_shots1000\n",
      "  Equation: y = 0.019683x + 10.84\n",
      "  Slope (a): 0.01968298\n",
      "  Intercept (b): 10.8350\n",
      "  Number of data points: 3\n",
      "  Unique amp_steps values: 3\n",
      "\n",
      "Legend: active_att1_shots3000\n",
      "  Equation: y = 0.059398x + 13.57\n",
      "  Slope (a): 0.05939775\n",
      "  Intercept (b): 13.5719\n",
      "  Number of data points: 2\n",
      "  Unique amp_steps values: 2\n",
      "\n",
      "Legend: active_att1_shots500\n",
      "  Equation: y = 0.010898x + 9.43\n",
      "  Slope (a): 0.01089807\n",
      "  Intercept (b): 9.4322\n",
      "  Number of data points: 3\n",
      "  Unique amp_steps values: 3\n",
      "\n",
      "Legend: active_att5_shots100\n",
      "  Equation: y = 0.016897x + 7.68\n",
      "  Slope (a): 0.01689727\n",
      "  Intercept (b): 7.6844\n",
      "  Number of data points: 2\n",
      "  Unique amp_steps values: 2\n",
      "\n",
      "Legend: active_att5_shots1000\n",
      "  Equation: y = 0.066992x + 14.41\n",
      "  Slope (a): 0.06699161\n",
      "  Intercept (b): 14.4144\n",
      "  Number of data points: 2\n",
      "  Unique amp_steps values: 2\n",
      "\n",
      "Legend: active_att5_shots3000\n",
      "  Equation: y = 0.192243x + 14.80\n",
      "  Slope (a): 0.19224319\n",
      "  Intercept (b): 14.8011\n",
      "  Number of data points: 2\n",
      "  Unique amp_steps values: 2\n",
      "\n",
      "Legend: active_att5_shots500\n",
      "  Equation: y = 0.034990x + 14.84\n",
      "  Slope (a): 0.03498952\n",
      "  Intercept (b): 14.8356\n",
      "  Number of data points: 2\n",
      "  Unique amp_steps values: 2\n",
      "\n",
      "Legend: thermal_attnone_shots100\n",
      "  Equation: y = 0.058052x + 12.32\n",
      "  Slope (a): 0.05805173\n",
      "  Intercept (b): 12.3206\n",
      "  Number of data points: 3\n",
      "  Unique amp_steps values: 3\n",
      "\n",
      "======================================================================\n",
      "Regression Analysis Summary Table\n",
      "======================================================================\n",
      "                  legend  a (slope)  b (intercept)  n_points  unique_x_values\n",
      "   active_att15_shots100   0.007535         7.9657         2                2\n",
      "  active_att15_shots1000   0.068869        21.6449         2                2\n",
      "  active_att15_shots3000   0.211841        30.4424         2                2\n",
      "   active_att15_shots500   0.033419        14.9388         2                2\n",
      "   active_att1_shots1000   0.019683        10.8350         3                3\n",
      "   active_att1_shots3000   0.059398        13.5719         2                2\n",
      "    active_att1_shots500   0.010898         9.4322         3                3\n",
      "    active_att5_shots100   0.016897         7.6844         2                2\n",
      "   active_att5_shots1000   0.066992        14.4144         2                2\n",
      "   active_att5_shots3000   0.192243        14.8011         2                2\n",
      "    active_att5_shots500   0.034990        14.8356         2                2\n",
      "thermal_attnone_shots100   0.058052        12.3206         3                3\n",
      "\n",
      "======================================================================\n",
      "Analysis by Parameter Groups (where regression is possible)\n",
      "======================================================================\n",
      "\n",
      "Shots=100, Max_attempts=15:\n",
      "  Equation: y = 0.00753478x + 7.97\n",
      "  Data points: 2\n",
      "  Amp_steps values: [np.int64(53), np.int64(5300)]\n",
      "\n",
      "Shots=100, Max_attempts=5:\n",
      "  Equation: y = 0.01689727x + 7.68\n",
      "  Data points: 2\n",
      "  Amp_steps values: [np.int64(53), np.int64(530)]\n",
      "\n",
      "Shots=100, Max_attempts=none:\n",
      "  Equation: y = 0.05805173x + 12.32\n",
      "  Data points: 3\n",
      "  Amp_steps values: [np.int64(53), np.int64(530), np.int64(5300)]\n",
      "\n",
      "Shots=500, Max_attempts=1:\n",
      "  Equation: y = 0.01089807x + 9.43\n",
      "  Data points: 3\n",
      "  Amp_steps values: [np.int64(53), np.int64(530), np.int64(5300)]\n",
      "\n",
      "Shots=500, Max_attempts=15:\n",
      "  Equation: y = 0.03341910x + 14.94\n",
      "  Data points: 2\n",
      "  Amp_steps values: [np.int64(53), np.int64(5300)]\n",
      "\n",
      "Shots=500, Max_attempts=5:\n",
      "  Equation: y = 0.03498952x + 14.84\n",
      "  Data points: 2\n",
      "  Amp_steps values: [np.int64(53), np.int64(530)]\n",
      "\n",
      "Shots=1000, Max_attempts=1:\n",
      "  Equation: y = 0.01968298x + 10.84\n",
      "  Data points: 3\n",
      "  Amp_steps values: [np.int64(53), np.int64(530), np.int64(5300)]\n",
      "\n",
      "Shots=1000, Max_attempts=15:\n",
      "  Equation: y = 0.06886888x + 21.64\n",
      "  Data points: 2\n",
      "  Amp_steps values: [np.int64(53), np.int64(5300)]\n",
      "\n",
      "Shots=1000, Max_attempts=5:\n",
      "  Equation: y = 0.06699161x + 14.41\n",
      "  Data points: 2\n",
      "  Amp_steps values: [np.int64(53), np.int64(530)]\n",
      "\n",
      "Shots=3000, Max_attempts=1:\n",
      "  Equation: y = 0.05939775x + 13.57\n",
      "  Data points: 2\n",
      "  Amp_steps values: [np.int64(53), np.int64(5300)]\n",
      "\n",
      "Shots=3000, Max_attempts=15:\n",
      "  Equation: y = 0.21184105x + 30.44\n",
      "  Data points: 2\n",
      "  Amp_steps values: [np.int64(53), np.int64(5300)]\n",
      "\n",
      "Shots=3000, Max_attempts=5:\n",
      "  Equation: y = 0.19224319x + 14.80\n",
      "  Data points: 2\n",
      "  Amp_steps values: [np.int64(53), np.int64(530)]\n",
      "Results have been saved to regression_results_ampsteps.csv\n"
     ]
    }
   ],
   "source": [
    "import pandas as pd\n",
    "import plotly.graph_objects as go\n",
    "from plotly.subplots import make_subplots\n",
    "import numpy as np\n",
    "from sklearn.linear_model import LinearRegression\n",
    "import plotly.express as px\n",
    "\n",
    "# Data creation\n",
    "data = {\n",
    "    'reset': ['active', 'active', 'active', 'thermal', 'thermal', 'thermal', \n",
    "              'active', 'active', 'active', 'active', 'active', 'active',\n",
    "              'active', 'active', 'active', 'active', 'active', 'active',\n",
    "              'thermal', 'active', 'active', 'active', 'active', 'active',\n",
    "              'active', 'active', 'active', 'active', 'active', 'active',\n",
    "              'active', 'active', 'active', 'active', 'active', 'active',\n",
    "              'active', 'thermal', 'thermal'],\n",
    "    'max_attempts': ['1', '1', '1', 'none', 'none', 'none', \n",
    "                     '5', '5', '5', '15', '15', '15',\n",
    "                     '30', '30', '30', '1', '15', '30',\n",
    "                     'none', '30', '15', '5', '1', '1',\n",
    "                     '1', '1', '1', '1', '1', '5',\n",
    "                     '5', '5', '5', '15', '15', '15',\n",
    "                     '15', 'none', 'none'],\n",
    "    'amp_steps': [53, 53, 53, 53, 53, 53, \n",
    "                  53, 53, 53, 53, 53, 53,\n",
    "                  53, 53, 53, 53, 53, 53,\n",
    "                  53, 53, 53, 53, 53, 5300,\n",
    "                  530, 5300, 5300, 530, 530, 530,\n",
    "                  530, 530, 530, 5300, 5300, 5300,\n",
    "                  5300, 530, 5300],\n",
    "    'shots': [100, 500, 1000, 100, 500, 1000,\n",
    "              100, 500, 1000, 100, 500, 1000,\n",
    "              100, 500, 1000, 1, 1, 1,\n",
    "              3000, 3000, 3000, 3000, 3000, 3000,\n",
    "              30, 500, 1000, 1000, 500, 100,\n",
    "              500, 1000, 3000, 100, 500, 1000,\n",
    "              3000, 100, 100],\n",
    "    'elapse_time': [8.35, 8.69, 8.53, 16.65, 25.93, 41.7,\n",
    "                    8.58, 16.69, 17.965, 8.365, 16.71, 25.295,\n",
    "                    8.37, 25.08, 33.44, 8.325, 8.365, 8.355,\n",
    "                    94.63, 76.25, 41.67, 24.99, 16.72, 328.38,\n",
    "                    8.35, 67.06, 114.82, 24.95, 16.66, 16.64,\n",
    "                    33.38, 49.92, 116.69, 47.9, 192.06, 386.65,\n",
    "                    1153.2, 41.71, 320.12]\n",
    "}\n",
    "\n",
    "df = pd.DataFrame(data)\n",
    "\n",
    "# Create legend combinations (using reset, max_attempts, and shots)\n",
    "df['legend'] = df['reset'] + '_att' + df['max_attempts'].astype(str) + '_shots' + df['shots'].astype(str)\n",
    "\n",
    "# Get unique legend values\n",
    "unique_legends = df['legend'].unique()\n",
    "\n",
    "# Create color palette\n",
    "colors = px.colors.qualitative.Plotly + px.colors.qualitative.Set1 + px.colors.qualitative.Set2\n",
    "\n",
    "# Create Plotly figure\n",
    "fig = go.Figure()\n",
    "\n",
    "# List to store regression analysis results\n",
    "regression_results = []\n",
    "\n",
    "# Add scatter plot and regression line for each legend group\n",
    "for i, legend in enumerate(unique_legends):\n",
    "    subset = df[df['legend'] == legend]\n",
    "    color = colors[i % len(colors)]\n",
    "    \n",
    "    # Add scatter plot\n",
    "    fig.add_trace(go.Scatter(\n",
    "        x=subset['amp_steps'],\n",
    "        y=subset['elapse_time'],\n",
    "        mode='markers',\n",
    "        name=legend,\n",
    "        marker=dict(\n",
    "            size=8,\n",
    "            color=color\n",
    "        ),\n",
    "        legendgroup=legend,  # Group with same legend\n",
    "        showlegend=True,\n",
    "        hovertemplate='<b>%{fullData.name}</b><br>Amp Steps: %{x}<br>Elapse Time: %{y:.2f}s<extra></extra>'\n",
    "    ))\n",
    "    \n",
    "    # Add regression line only when there are 2 or more unique amp_steps values\n",
    "    if subset['amp_steps'].nunique() >= 2:\n",
    "        X = subset['amp_steps'].values.reshape(-1, 1)\n",
    "        y = subset['elapse_time'].values\n",
    "        \n",
    "        # Train linear regression model\n",
    "        model = LinearRegression()\n",
    "        model.fit(X, y)\n",
    "        \n",
    "        # Generate x values for regression line\n",
    "        x_min, x_max = subset['amp_steps'].min(), subset['amp_steps'].max()\n",
    "        \n",
    "        # Create appropriate range for regression line\n",
    "        x_range = np.linspace(x_min, x_max, 50)\n",
    "        y_pred = model.predict(x_range.reshape(-1, 1))\n",
    "        \n",
    "        # Add regression line\n",
    "        fig.add_trace(go.Scatter(\n",
    "            x=x_range,\n",
    "            y=y_pred,\n",
    "            mode='lines',\n",
    "            name=f'{legend}_regression',\n",
    "            line=dict(color=color, width=2, dash='dash'),\n",
    "            legendgroup=legend,  # Group with same legend\n",
    "            showlegend=False  # Hide regression line from legend\n",
    "        ))\n",
    "        \n",
    "        # Save regression analysis results\n",
    "        regression_results.append({\n",
    "            'legend': legend,\n",
    "            'a (slope)': model.coef_[0],\n",
    "            'b (intercept)': model.intercept_,\n",
    "            'n_points': len(subset),\n",
    "            'unique_x_values': subset['amp_steps'].nunique(),\n",
    "            'equation': f'y = {model.coef_[0]:.6f}x + {model.intercept_:.2f}'\n",
    "        })\n",
    "\n",
    "# Update layout with log scale option for x-axis\n",
    "fig.update_layout(\n",
    "    title='Amp Steps vs Elapse Time with Individual Linear Regressions',\n",
    "    xaxis_title='Amp Steps (x-axis)',\n",
    "    yaxis_title='avg elapse_time (s) (y-axis)',\n",
    "    hovermode='closest',\n",
    "    width=1200,\n",
    "    height=700,\n",
    "    legend=dict(\n",
    "        orientation=\"v\",\n",
    "        yanchor=\"top\",\n",
    "        y=1,\n",
    "        xanchor=\"left\",\n",
    "        x=1.02,\n",
    "        font=dict(size=9)\n",
    "    ),\n",
    "    xaxis=dict(\n",
    "        type='linear',  # Log scale to better visualize 53, 530, 5300\n",
    "        tickvals=[53, 530, 5300],\n",
    "        ticktext=['53', '530', '5300']\n",
    "    )\n",
    ")\n",
    "\n",
    "# Display graph\n",
    "fig.show()\n",
    "\n",
    "# Print regression analysis results\n",
    "print(\"\\n\" + \"=\"*70)\n",
    "print(\"Linear Regression Analysis Results for Each Legend (y = ax + b)\")\n",
    "print(\"=\"*70)\n",
    "\n",
    "# Convert results to DataFrame for better display\n",
    "if regression_results:\n",
    "    results_df = pd.DataFrame(regression_results)\n",
    "    results_df = results_df.sort_values('legend')\n",
    "    \n",
    "    for idx, row in results_df.iterrows():\n",
    "        print(f\"\\nLegend: {row['legend']}\")\n",
    "        print(f\"  Equation: {row['equation']}\")\n",
    "        print(f\"  Slope (a): {row['a (slope)']:.8f}\")\n",
    "        print(f\"  Intercept (b): {row['b (intercept)']:.4f}\")\n",
    "        print(f\"  Number of data points: {row['n_points']}\")\n",
    "        print(f\"  Unique amp_steps values: {row['unique_x_values']}\")\n",
    "    \n",
    "    # Print summary table\n",
    "    print(\"\\n\" + \"=\"*70)\n",
    "    print(\"Regression Analysis Summary Table\")\n",
    "    print(\"=\"*70)\n",
    "    \n",
    "    # Print formatted table\n",
    "    summary_df = results_df[['legend', 'a (slope)', 'b (intercept)', 'n_points', 'unique_x_values']].copy()\n",
    "    summary_df['a (slope)'] = summary_df['a (slope)'].round(8)\n",
    "    summary_df['b (intercept)'] = summary_df['b (intercept)'].round(4)\n",
    "    \n",
    "    # Set pandas display options\n",
    "    pd.set_option('display.max_columns', None)\n",
    "    pd.set_option('display.width', None)\n",
    "    pd.set_option('display.max_colwidth', None)\n",
    "    \n",
    "    print(summary_df.to_string(index=False))\n",
    "else:\n",
    "    print(\"\\nNo regression analysis possible - need at least 2 different amp_steps values per legend group\")\n",
    "\n",
    "# Additional analysis: Group by specific parameters\n",
    "print(\"\\n\" + \"=\"*70)\n",
    "print(\"Analysis by Parameter Groups (where regression is possible)\")\n",
    "print(\"=\"*70)\n",
    "\n",
    "# Group by shots and max_attempts to see amp_steps effect\n",
    "grouped = df.groupby(['shots', 'max_attempts'])\n",
    "analysis_count = 0\n",
    "for (shots, max_attempts), group in grouped:\n",
    "    if group['amp_steps'].nunique() >= 2:  # Need at least 2 different x values\n",
    "        X = group['amp_steps'].values.reshape(-1, 1)\n",
    "        y = group['elapse_time'].values\n",
    "        model = LinearRegression()\n",
    "        model.fit(X, y)\n",
    "        print(f\"\\nShots={shots}, Max_attempts={max_attempts}:\")\n",
    "        print(f\"  Equation: y = {model.coef_[0]:.8f}x + {model.intercept_:.2f}\")\n",
    "        print(f\"  Data points: {len(group)}\")\n",
    "        print(f\"  Amp_steps values: {sorted(group['amp_steps'].unique())}\")\n",
    "        analysis_count += 1\n",
    "\n",
    "if analysis_count == 0:\n",
    "    print(\"\\nNo groups with multiple amp_steps values found for regression analysis\")\n",
    "\n",
    "# CSV save option\n",
    "save_to_csv = input(\"\\n\\nWould you like to save the results to a CSV file? (y/n): \")\n",
    "if save_to_csv.lower() == 'y' and regression_results:\n",
    "    results_df.to_csv('regression_results_ampsteps.csv', index=False)\n",
    "    print(\"Results have been saved to regression_results_ampsteps.csv\")\n",
    "elif save_to_csv.lower() == 'y':\n",
    "    print(\"No regression results to save\")"
   ]
  },
  {
   "cell_type": "code",
   "execution_count": null,
   "id": "4002b315",
   "metadata": {},
   "outputs": [],
   "source": []
  }
 ],
 "metadata": {
  "kernelspec": {
   "display_name": "iqcc",
   "language": "python",
   "name": "python3"
  },
  "language_info": {
   "codemirror_mode": {
    "name": "ipython",
    "version": 3
   },
   "file_extension": ".py",
   "mimetype": "text/x-python",
   "name": "python",
   "nbconvert_exporter": "python",
   "pygments_lexer": "ipython3",
   "version": "3.12.0"
  }
 },
 "nbformat": 4,
 "nbformat_minor": 5
}

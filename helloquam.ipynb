{
 "cells": [
  {
   "cell_type": "code",
   "execution_count": 1,
   "metadata": {},
   "outputs": [
    {
     "name": "stdout",
     "output_type": "stream",
     "text": [
      "2024-10-25 10:29:23,871 - qm - INFO     - Starting session: 04ccdd60-6d89-4d6a-b0fb-0bb5b960c86a\n"
     ]
    }
   ],
   "source": [
    "from configuration.make_quam import *\n",
    "from qm import QuantumMachinesManager, QuantumMachine\n",
    "from qualang_tools.octave_tools import calibration_result_plotter as plotter"
   ]
  },
  {
   "cell_type": "code",
   "execution_count": 3,
   "metadata": {},
   "outputs": [
    {
     "name": "stdout",
     "output_type": "stream",
     "text": [
      "2024-10-25 10:29:32,501 - qm - INFO     - Performing health check\n"
     ]
    },
    {
     "name": "stderr",
     "output_type": "stream",
     "text": [
      "/Users/paul/miniconda3/envs/QM/lib/python3.11/site-packages/qm/quantum_machines_manager.py:125: DeprecationWarning: QMM was opened with OctaveConfig. Please note that from QOP2.4.0 the octave devices are managed by the cluster setting in the QM-app. It is recommended to remove the OctaveConfig from the QMM instantiation.\n",
      "  warnings.warn(\n"
     ]
    },
    {
     "name": "stdout",
     "output_type": "stream",
     "text": [
      "2024-10-25 10:29:32,855 - qm - WARNING  - Health check warning: Inter-OPX connectivity issues in OPX: con1. Missing ports are: 4, 3, 2, 1, 12, 11, 10, 9. See QM-App for more info.\n",
      "2024-10-25 10:29:32,856 - qm - WARNING  - Health check warning: Inter-OPX connectivity issues in OPX: con2. Missing ports are: 4, 3, 2, 1, 12, 11, 10, 9. See QM-App for more info.\n",
      "2024-10-25 10:29:32,856 - qm - INFO     - Health check passed\n"
     ]
    }
   ],
   "source": [
    "qmm = QuantumMachinesManager(\n",
    "    host=\"172.16.33.101\",\n",
    "    cluster_name=\"Cluster_81\",\n",
    "    octave=qpu.octaves[\"oct1\"].get_octave_config(),\n",
    ")\n",
    "\n",
    "qm = qmm.open_qm(qpu.generate_config())"
   ]
  },
  {
   "cell_type": "code",
   "execution_count": 4,
   "metadata": {},
   "outputs": [
    {
     "name": "stdout",
     "output_type": "stream",
     "text": [
      "2024-10-25 10:29:40,175 - qm - INFO     - Compiling program\n"
     ]
    }
   ],
   "source": [
    "# qm.calibrate_element(\"resonator\", lo_if_dict={qpu.channels[\"resonator\"].LO_frequency: (qpu.channels[\"resonator\"].intermediate_frequency)})\n",
    "cal_output = qm.calibrate_element(\"resonator\")"
   ]
  },
  {
   "cell_type": "code",
   "execution_count": null,
   "metadata": {},
   "outputs": [],
   "source": [
    "plotter.show_lo_result(cal_output)"
   ]
  }
 ],
 "metadata": {
  "kernelspec": {
   "display_name": "QM",
   "language": "python",
   "name": "python3"
  },
  "language_info": {
   "codemirror_mode": {
    "name": "ipython",
    "version": 3
   },
   "file_extension": ".py",
   "mimetype": "text/x-python",
   "name": "python",
   "nbconvert_exporter": "python",
   "pygments_lexer": "ipython3",
   "version": "3.11.10"
  }
 },
 "nbformat": 4,
 "nbformat_minor": 2
}

{
 "cells": [
  {
   "cell_type": "code",
   "execution_count": 1,
   "metadata": {},
   "outputs": [
    {
     "name": "stdout",
     "output_type": "stream",
     "text": [
      "2024-11-13 11:52:21,902 - qm - INFO     - Starting session: b3cc948e-4c8b-4b7f-82b7-c2b7466f5fa1\n"
     ]
    }
   ],
   "source": [
    "from configuration.make_quam import *\n",
    "from qm import QuantumMachinesManager, QuantumMachine\n",
    "from qualang_tools.octave_tools import calibration_result_plotter as plotter\n",
    "\n",
    "from qm.qua import *"
   ]
  },
  {
   "cell_type": "code",
   "execution_count": 2,
   "metadata": {},
   "outputs": [
    {
     "name": "stderr",
     "output_type": "stream",
     "text": [
      "/Users/paul/miniconda3/envs/QM/lib/python3.11/site-packages/qm/quantum_machines_manager.py:125: DeprecationWarning: QMM was opened with OctaveConfig. Please note that from QOP2.4.0 the octave devices are managed by the cluster setting in the QM-app. It is recommended to remove the OctaveConfig from the QMM instantiation.\n",
      "  warnings.warn(\n"
     ]
    },
    {
     "name": "stdout",
     "output_type": "stream",
     "text": [
      "2024-11-13 11:52:26,393 - qm - INFO     - Performing health check\n",
      "2024-11-13 11:52:27,000 - qm - WARNING  - Health check warning: Inter-OPX connectivity issues in OPX: con1. Missing ports are: 4, 3, 2, 1, 12, 11, 10, 9. See QM-App for more info.\n",
      "2024-11-13 11:52:27,001 - qm - WARNING  - Health check warning: Inter-OPX connectivity issues in OPX: con2. Missing ports are: 4, 3, 2, 1, 12, 11, 10, 9. See QM-App for more info.\n",
      "2024-11-13 11:52:27,002 - qm - INFO     - Health check passed\n"
     ]
    }
   ],
   "source": [
    "qmm = QuantumMachinesManager(\n",
    "    host=\"172.16.33.101\",\n",
    "    cluster_name=\"Cluster_81\",\n",
    "    octave=qpu.octaves[\"oct1\"].get_octave_config(),\n",
    ")\n",
    "\n",
    "qm = qmm.open_qm(qpu.generate_config())"
   ]
  },
  {
   "cell_type": "code",
   "execution_count": 7,
   "metadata": {},
   "outputs": [],
   "source": [
    "resonator = qpu.channels[\"resonator\"]\n",
    "\n",
    "with program() as hello_qua:\n",
    "    a = declare(fixed)\n",
    "    with infinite_loop_():\n",
    "        resonator.play(\"square\")"
   ]
  },
  {
   "cell_type": "code",
   "execution_count": 8,
   "metadata": {},
   "outputs": [
    {
     "name": "stdout",
     "output_type": "stream",
     "text": [
      "2024-11-13 11:58:59,293 - qm - INFO     - Sending program to QOP for compilation\n",
      "2024-11-13 11:59:00,098 - qm - INFO     - Executing program\n"
     ]
    }
   ],
   "source": [
    "job =qm.execute(hello_qua)"
   ]
  },
  {
   "cell_type": "code",
   "execution_count": 9,
   "metadata": {},
   "outputs": [
    {
     "data": {
      "text/plain": [
       "True"
      ]
     },
     "execution_count": 9,
     "metadata": {},
     "output_type": "execute_result"
    }
   ],
   "source": [
    "job.halt()"
   ]
  },
  {
   "cell_type": "code",
   "execution_count": null,
   "metadata": {},
   "outputs": [],
   "source": [
    "# qm.calibrate_element(\"resonator\", lo_if_dict={qpu.channels[\"resonator\"].LO_frequency: (qpu.channels[\"resonator\"].intermediate_frequency)})\n",
    "cal_output = qm.calibrate_element(\"resonator\")"
   ]
  },
  {
   "cell_type": "code",
   "execution_count": null,
   "metadata": {},
   "outputs": [],
   "source": [
    "import importlib\n",
    "\n",
    "importlib.reload(plotter)\n",
    "\n",
    "plotter.show_if_result(cal_output)\n"
   ]
  },
  {
   "cell_type": "code",
   "execution_count": null,
   "metadata": {},
   "outputs": [],
   "source": []
  }
 ],
 "metadata": {
  "kernelspec": {
   "display_name": "QM",
   "language": "python",
   "name": "python3"
  },
  "language_info": {
   "codemirror_mode": {
    "name": "ipython",
    "version": 3
   },
   "file_extension": ".py",
   "mimetype": "text/x-python",
   "name": "python",
   "nbconvert_exporter": "python",
   "pygments_lexer": "ipython3",
   "version": "3.11.10"
  }
 },
 "nbformat": 4,
 "nbformat_minor": 2
}

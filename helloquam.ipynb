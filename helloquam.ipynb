{
 "cells": [
  {
   "cell_type": "code",
   "execution_count": 1,
   "metadata": {},
   "outputs": [
    {
     "name": "stdout",
     "output_type": "stream",
     "text": [
      "2024-11-14 18:01:17,383 - qm - INFO     - Starting session: 13ae5615-e47e-49b1-8428-569430830a4c\n"
     ]
    }
   ],
   "source": [
    "from configuration.make_quam import *\n",
    "from qm import QuantumMachinesManager, QuantumMachine\n",
    "from qualang_tools.octave_tools import calibration_result_plotter as plotter\n",
    "\n",
    "from qm.qua import *"
   ]
  },
  {
   "cell_type": "code",
   "execution_count": 2,
   "metadata": {},
   "outputs": [
    {
     "name": "stdout",
     "output_type": "stream",
     "text": [
      "2024-11-14 18:01:21,826 - qm - INFO     - Performing health check\n",
      "2024-11-14 18:01:22,113 - qm - WARNING  - Health check warning: Inter-OPX connectivity issues in OPX: con1. Missing ports are: 4, 3, 2, 1, 12, 11, 10, 9. See QM-App for more info.\n",
      "2024-11-14 18:01:22,114 - qm - WARNING  - Health check warning: Inter-OPX connectivity issues in OPX: con2. Missing ports are: 4, 3, 2, 1, 12, 11, 10, 9. See QM-App for more info.\n",
      "2024-11-14 18:01:22,114 - qm - INFO     - Health check passed\n"
     ]
    }
   ],
   "source": [
    "qmm = QuantumMachinesManager(\n",
    "    host=\"172.16.33.101\",\n",
    "    cluster_name=\"Cluster_81\",\n",
    "    octave=octave_config,\n",
    ")\n",
    "\n",
    "qm = qmm.open_qm(qpu.generate_config())"
   ]
  },
  {
   "cell_type": "code",
   "execution_count": 3,
   "metadata": {},
   "outputs": [],
   "source": [
    "resonator = qpu.channels[\"resonator\"]\n",
    "\n",
    "with program() as hello_qua:\n",
    "    a = declare(fixed)\n",
    "    with infinite_loop_():\n",
    "        resonator.play(\"square\")"
   ]
  },
  {
   "cell_type": "code",
   "execution_count": 4,
   "metadata": {},
   "outputs": [
    {
     "name": "stdout",
     "output_type": "stream",
     "text": [
      "2024-11-14 18:01:36,503 - qm - INFO     - Sending program to QOP for compilation\n",
      "2024-11-14 18:01:37,306 - qm - INFO     - Executing program\n"
     ]
    }
   ],
   "source": [
    "job =qm.execute(hello_qua)"
   ]
  },
  {
   "cell_type": "code",
   "execution_count": 5,
   "metadata": {},
   "outputs": [
    {
     "data": {
      "text/plain": [
       "True"
      ]
     },
     "execution_count": 5,
     "metadata": {},
     "output_type": "execute_result"
    }
   ],
   "source": [
    "job.halt()"
   ]
  },
  {
   "cell_type": "code",
   "execution_count": null,
   "metadata": {},
   "outputs": [],
   "source": [
    "# qm.calibrate_element(\"resonator\", lo_if_dict={qpu.channels[\"resonator\"].LO_frequency: (qpu.channels[\"resonator\"].intermediate_frequency)})\n",
    "cal_output = qm.calibrate_element(\"resonator\")"
   ]
  },
  {
   "cell_type": "code",
   "execution_count": null,
   "metadata": {},
   "outputs": [],
   "source": [
    "import importlib\n",
    "\n",
    "importlib.reload(plotter)\n",
    "\n",
    "plotter.show_if_result(cal_output)\n"
   ]
  },
  {
   "cell_type": "code",
   "execution_count": null,
   "metadata": {},
   "outputs": [],
   "source": []
  }
 ],
 "metadata": {
  "kernelspec": {
   "display_name": "QM",
   "language": "python",
   "name": "python3"
  },
  "language_info": {
   "codemirror_mode": {
    "name": "ipython",
    "version": 3
   },
   "file_extension": ".py",
   "mimetype": "text/x-python",
   "name": "python",
   "nbconvert_exporter": "python",
   "pygments_lexer": "ipython3",
   "version": "3.11.10"
  }
 },
 "nbformat": 4,
 "nbformat_minor": 2
}

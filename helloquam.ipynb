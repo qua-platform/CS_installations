{
 "cells": [
  {
   "cell_type": "code",
   "execution_count": 3,
   "metadata": {},
   "outputs": [],
   "source": [
    "from configuration.make_quam import *\n",
    "from qm import QuantumMachinesManager, QuantumMachine\n",
    "from qualang_tools.octave_tools import calibration_result_plotter as plotter"
   ]
  },
  {
   "cell_type": "code",
   "execution_count": 8,
   "metadata": {},
   "outputs": [
    {
     "name": "stdout",
     "output_type": "stream",
     "text": [
      "2024-10-24 11:41:17,270 - qm - INFO     - Performing health check\n",
      "2024-10-24 11:41:17,679 - qm - WARNING  - Health check warning: Inter-OPX connectivity issues in OPX: con1. Missing ports are: 4, 3, 2, 1, 12, 11, 10, 9. See QM-App for more info.\n",
      "2024-10-24 11:41:17,680 - qm - WARNING  - Health check warning: Inter-OPX connectivity issues in OPX: con2. Missing ports are: 4, 3, 2, 1, 12, 11, 10, 9. See QM-App for more info.\n",
      "2024-10-24 11:41:17,680 - qm - INFO     - Health check passed\n",
      "2024-10-24 11:41:17,686 - qm - WARNING  - No calibration_db set in octave config, skipping loading calibration data\n"
     ]
    }
   ],
   "source": [
    "qmm = QuantumMachinesManager(\n",
    "    host=\"172.16.33.101\",\n",
    "    cluster_name=\"Cluster_81\",\n",
    ")\n",
    "\n",
    "qm = qmm.open_qm(config)"
   ]
  },
  {
   "cell_type": "code",
   "execution_count": 7,
   "metadata": {},
   "outputs": [
    {
     "ename": "TypeError",
     "evalue": "unhashable type: 'dict'",
     "output_type": "error",
     "traceback": [
      "\u001b[0;31m---------------------------------------------------------------------------\u001b[0m",
      "\u001b[0;31mTypeError\u001b[0m                                 Traceback (most recent call last)",
      "Cell \u001b[0;32mIn[7], line 2\u001b[0m\n\u001b[1;32m      1\u001b[0m \u001b[38;5;66;03m# qm.calibrate_element(\"resonator\", lo_if_dict={qpu.channels[\"resonator\"].LO_frequency: (qpu.channels[\"resonator\"].intermediate_frequency)})\u001b[39;00m\n\u001b[0;32m----> 2\u001b[0m cal_output \u001b[38;5;241m=\u001b[39m \u001b[43mqm\u001b[49m\u001b[38;5;241;43m.\u001b[39;49m\u001b[43mcalibrate_element\u001b[49m\u001b[43m(\u001b[49m\u001b[43mconfig\u001b[49m\u001b[43m[\u001b[49m\u001b[38;5;124;43m\"\u001b[39;49m\u001b[38;5;124;43melements\u001b[39;49m\u001b[38;5;124;43m\"\u001b[39;49m\u001b[43m]\u001b[49m\u001b[43m[\u001b[49m\u001b[38;5;124;43m\"\u001b[39;49m\u001b[38;5;124;43mresonator\u001b[39;49m\u001b[38;5;124;43m\"\u001b[39;49m\u001b[43m]\u001b[49m\u001b[43m)\u001b[49m\n",
      "File \u001b[0;32m~/miniconda3/envs/QM/lib/python3.11/site-packages/qm/QuantumMachine.py:358\u001b[0m, in \u001b[0;36mQuantumMachine.calibrate_element\u001b[0;34m(self, qe, lo_if_dict, save_to_db, params)\u001b[0m\n\u001b[1;32m    337\u001b[0m \u001b[38;5;28;01mdef\u001b[39;00m \u001b[38;5;21mcalibrate_element\u001b[39m(\n\u001b[1;32m    338\u001b[0m     \u001b[38;5;28mself\u001b[39m,\n\u001b[1;32m    339\u001b[0m     qe: \u001b[38;5;28mstr\u001b[39m,\n\u001b[0;32m   (...)\u001b[0m\n\u001b[1;32m    342\u001b[0m     params: Optional[AutoCalibrationParams] \u001b[38;5;241m=\u001b[39m \u001b[38;5;28;01mNone\u001b[39;00m,\n\u001b[1;32m    343\u001b[0m ) \u001b[38;5;241m-\u001b[39m\u001b[38;5;241m>\u001b[39m MixerCalibrationResults:\n\u001b[1;32m    344\u001b[0m \u001b[38;5;250m    \u001b[39m\u001b[38;5;124;03m\"\"\"Calibrate the up converters associated with a given element for the given LO & IF frequencies.\u001b[39;00m\n\u001b[1;32m    345\u001b[0m \n\u001b[1;32m    346\u001b[0m \u001b[38;5;124;03m    - Frequencies can be given as a dictionary with LO frequency as the key and a list of IF frequencies for every LO\u001b[39;00m\n\u001b[0;32m   (...)\u001b[0m\n\u001b[1;32m    356\u001b[0m \u001b[38;5;124;03m    Calibrate the mixer associated with an element for the given LO & IF frequencies.\u001b[39;00m\n\u001b[1;32m    357\u001b[0m \u001b[38;5;124;03m    \"\"\"\u001b[39;00m\n\u001b[0;32m--> 358\u001b[0m     inst \u001b[38;5;241m=\u001b[39m \u001b[38;5;28;43mself\u001b[39;49m\u001b[38;5;241;43m.\u001b[39;49m\u001b[43m_elements\u001b[49m\u001b[43m[\u001b[49m\u001b[43mqe\u001b[49m\u001b[43m]\u001b[49m\n\u001b[1;32m    359\u001b[0m     \u001b[38;5;28;01mif\u001b[39;00m \u001b[38;5;129;01mnot\u001b[39;00m \u001b[38;5;28misinstance\u001b[39m(inst\u001b[38;5;241m.\u001b[39minput, UpconvertedInput):\n\u001b[1;32m    360\u001b[0m         \u001b[38;5;28;01mraise\u001b[39;00m CantCalibrateElementError(\n\u001b[1;32m    361\u001b[0m             \u001b[38;5;124mf\u001b[39m\u001b[38;5;124m\"\u001b[39m\u001b[38;5;124mElement \u001b[39m\u001b[38;5;132;01m{\u001b[39;00mqe\u001b[38;5;132;01m}\u001b[39;00m\u001b[38;5;124m has input of type \u001b[39m\u001b[38;5;132;01m{\u001b[39;00m\u001b[38;5;28mtype\u001b[39m(inst\u001b[38;5;241m.\u001b[39minput)\u001b[38;5;132;01m}\u001b[39;00m\u001b[38;5;124m and is not connected to an Octave. \u001b[39m\u001b[38;5;124m\"\u001b[39m\n\u001b[1;32m    362\u001b[0m             \u001b[38;5;124mf\u001b[39m\u001b[38;5;124m\"\u001b[39m\u001b[38;5;124mHence, it cannot be calibrated.\u001b[39m\u001b[38;5;124m\"\u001b[39m\n\u001b[1;32m    363\u001b[0m         )\n",
      "\u001b[0;31mTypeError\u001b[0m: unhashable type: 'dict'"
     ]
    }
   ],
   "source": [
    "# qm.calibrate_element(\"resonator\", lo_if_dict={qpu.channels[\"resonator\"].LO_frequency: (qpu.channels[\"resonator\"].intermediate_frequency)})\n",
    "cal_output = qm.calibrate_element()"
   ]
  },
  {
   "cell_type": "code",
   "execution_count": null,
   "metadata": {},
   "outputs": [],
   "source": [
    "plotter.show_lo_result(cal_output)"
   ]
  },
  {
   "cell_type": "code",
   "execution_count": 6,
   "metadata": {},
   "outputs": [
    {
     "data": {
      "text/plain": [
       "{'operations': {'readout': 'resonator.readout.pulse'},\n",
       " 'intermediate_frequency': 100000000.0,\n",
       " 'smearing': 0,\n",
       " 'time_of_flight': 24,\n",
       " 'RF_outputs': {'port': ('oct1', 1)},\n",
       " 'RF_inputs': {'port': ('oct1', 1)}}"
      ]
     },
     "execution_count": 6,
     "metadata": {},
     "output_type": "execute_result"
    }
   ],
   "source": [
    "config[\"elements\"][\"resonator\"]"
   ]
  }
 ],
 "metadata": {
  "kernelspec": {
   "display_name": "QM",
   "language": "python",
   "name": "python3"
  },
  "language_info": {
   "codemirror_mode": {
    "name": "ipython",
    "version": 3
   },
   "file_extension": ".py",
   "mimetype": "text/x-python",
   "name": "python",
   "nbconvert_exporter": "python",
   "pygments_lexer": "ipython3",
   "version": "3.11.10"
  }
 },
 "nbformat": 4,
 "nbformat_minor": 2
}

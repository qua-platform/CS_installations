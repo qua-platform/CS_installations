{
 "cells": [
  {
   "cell_type": "code",
   "execution_count": 1,
   "metadata": {},
   "outputs": [
    {
     "name": "stdout",
     "output_type": "stream",
     "text": [
      "2024-10-22 11:39:01,584 - qm - INFO     - Starting session: 1bf23a4a-58b9-46a0-a340-ad1136066953\n"
     ]
    }
   ],
   "source": [
    "from configuration.make_quam import qpu\n",
    "from qm import QuantumMachinesManager, QuantumMachine"
   ]
  },
  {
   "cell_type": "code",
   "execution_count": 2,
   "metadata": {},
   "outputs": [
    {
     "data": {
      "text/plain": [
       "1"
      ]
     },
     "execution_count": 2,
     "metadata": {},
     "output_type": "execute_result"
    }
   ],
   "source": [
    "qpu.channels[\"resonator\"].frequency_converter_up.id"
   ]
  },
  {
   "cell_type": "code",
   "execution_count": 3,
   "metadata": {},
   "outputs": [
    {
     "name": "stderr",
     "output_type": "stream",
     "text": [
      "/Users/paul/miniconda3/envs/QM/lib/python3.10/site-packages/qm/quantum_machines_manager.py:130: DeprecationWarning: QMM was opened with OctaveConfig. Please note that from QOP2.4.0 the octave devices are managed by the cluster setting in the QM-app. It is recommended to remove the OctaveConfig from the QMM instantiation.\n",
      "  warnings.warn(\n"
     ]
    },
    {
     "name": "stdout",
     "output_type": "stream",
     "text": [
      "2024-10-22 11:39:05,566 - qm - INFO     - Octave \"octave1\" Health check passed, current temperature 60\n",
      "2024-10-22 11:39:05,568 - qm - INFO     - Performing health check\n",
      "2024-10-22 11:39:05,899 - qm - WARNING  - Health check warning: Inter-OPX connectivity issues in OPX: con1. Missing ports are: 4, 3, 2, 1, 12, 11, 10, 9. See QM-App for more info.\n",
      "2024-10-22 11:39:05,900 - qm - WARNING  - Health check warning: Inter-OPX connectivity issues in OPX: con2. Missing ports are: 4, 3, 2, 1, 12, 11, 10, 9. See QM-App for more info.\n",
      "2024-10-22 11:39:05,900 - qm - INFO     - Health check passed\n"
     ]
    }
   ],
   "source": [
    "qmm = QuantumMachinesManager(\n",
    "    host=\"172.16.33.101\",\n",
    "    cluster_name=\"Cluster_81\",\n",
    "    octave=qpu.octaves[\"octave1\"].get_octave_config(),\n",
    ")\n",
    "\n",
    "qm = qmm.open_qm(qpu.generate_config())\n"
   ]
  },
  {
   "cell_type": "code",
   "execution_count": 4,
   "metadata": {},
   "outputs": [
    {
     "name": "stdout",
     "output_type": "stream",
     "text": [
      "2024-10-22 11:39:09,940 - qm - INFO     - Compiling program\n"
     ]
    }
   ],
   "source": [
    "# qm.calibrate_element(\"resonator\", lo_if_dict={qpu.channels[\"resonator\"].LO_frequency: (qpu.channels[\"resonator\"].intermediate_frequency)})\n",
    "cal_output = qm.calibrate_element(\"resonator\")"
   ]
  },
  {
   "cell_type": "code",
   "execution_count": null,
   "metadata": {},
   "outputs": [],
   "source": []
  }
 ],
 "metadata": {
  "kernelspec": {
   "display_name": "QM",
   "language": "python",
   "name": "python3"
  },
  "language_info": {
   "codemirror_mode": {
    "name": "ipython",
    "version": 3
   },
   "file_extension": ".py",
   "mimetype": "text/x-python",
   "name": "python",
   "nbconvert_exporter": "python",
   "pygments_lexer": "ipython3",
   "version": "3.10.15"
  }
 },
 "nbformat": 4,
 "nbformat_minor": 2
}

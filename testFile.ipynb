{
 "cells": [
  {
   "cell_type": "code",
   "execution_count": 1,
   "id": "1b40c35f",
   "metadata": {},
   "outputs": [],
   "source": [
    "import numpy as np\n",
    "from pathlib import Path\n",
    "from collections.abc import Mapping, Sequence\n",
    "from typing import Iterable, Tuple, Any, Union\n",
    "def paths_to_numpy_int32_including_arrays(root: Any) -> Iterable[Path]:\n",
    "    \"\"\"\n",
    "    Like `paths_to_numpy_int32`, but also drills into numpy arrays.\n",
    "    Array indices are appended to the path as integers.\n",
    "    \"\"\"\n",
    "    def _walk(obj: Any, path: Path):\n",
    "        if isinstance(obj, np.int32):\n",
    "            yield path\n",
    "            return\n",
    "\n",
    "        if isinstance(obj, Mapping):\n",
    "            for k, v in obj.items():\n",
    "                yield from _walk(v, path + (k,))\n",
    "            return\n",
    "\n",
    "        if isinstance(obj, Sequence) and not isinstance(obj, (str, bytes, bytearray)):\n",
    "            # Handle python lists/tuples\n",
    "            for i, v in enumerate(obj):\n",
    "                yield from _walk(v, path + (i,))\n",
    "            return\n",
    "\n",
    "        # Handle numpy arrays element-wise if dtype is int32\n",
    "        if isinstance(obj, np.ndarray):\n",
    "            if obj.dtype == np.int32:\n",
    "                # iterate with ndenumerate to get multi-dimensional indices\n",
    "                for idx, val in np.ndenumerate(obj):\n",
    "                    # idx is a tuple of ints; append as a single step if you prefer\n",
    "                    # but flattening them keeps path navigation straightforward:\n",
    "                    yield path + idx\n",
    "            else:\n",
    "                # if not int32 dtype, still dive into object arrays cautiously\n",
    "                if obj.dtype == object:\n",
    "                    for idx, val in np.ndenumerate(obj):\n",
    "                        yield from _walk(val, path + idx)\n",
    "\n",
    "    return _walk(root, ())"
   ]
  },
  {
   "cell_type": "code",
   "execution_count": null,
   "id": "4abbec93",
   "metadata": {},
   "outputs": [],
   "source": []
  }
 ],
 "metadata": {
  "kernelspec": {
   "display_name": "crEnv311",
   "language": "python",
   "name": "python3"
  },
  "language_info": {
   "codemirror_mode": {
    "name": "ipython",
    "version": 3
   },
   "file_extension": ".py",
   "mimetype": "text/x-python",
   "name": "python",
   "nbconvert_exporter": "python",
   "pygments_lexer": "ipython3",
   "version": "3.11.13"
  }
 },
 "nbformat": 4,
 "nbformat_minor": 5
}

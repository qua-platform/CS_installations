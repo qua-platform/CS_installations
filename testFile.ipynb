{
 "cells": [
  {
   "cell_type": "code",
   "execution_count": null,
   "id": "1b40c35f",
   "metadata": {},
   "outputs": [
    {
     "data": {
      "text/plain": [
       "('a', 'b', 'c')"
      ]
     },
     "execution_count": 1,
     "metadata": {},
     "output_type": "execute_result"
    }
   ],
   "source": [
    "from collections.abc import Mapping, Sequence\n",
    "from typing import Iterable, Tuple, Any, Union\n",
    "def paths_to_numpy_int32_including_arrays(root: Any) -> Iterable[Path]:\n",
    "    \"\"\"\n",
    "    Like `paths_to_numpy_int32`, but also drills into numpy arrays.\n",
    "    Array indices are appended to the path as integers.\n",
    "    \"\"\"\n",
    "    def _walk(obj: Any, path: Path):\n",
    "        if isinstance(obj, np.int32):\n",
    "            yield path\n",
    "            return\n",
    "\n",
    "        if isinstance(obj, Mapping):\n",
    "            for k, v in obj.items():\n",
    "                yield from _walk(v, path + (k,))\n",
    "            return\n",
    "\n",
    "        if isinstance(obj, Sequence) and not isinstance(obj, (str, bytes, bytearray)):\n",
    "            # Handle python lists/tuples\n",
    "            for i, v in enumerate(obj):\n",
    "                yield from _walk(v, path + (i,))\n",
    "            return\n",
    "\n",
    "        # Handle numpy arrays element-wise if dtype is int32\n",
    "        if isinstance(obj, np.ndarray):\n",
    "            if obj.dtype == np.int32:\n",
    "                # iterate with ndenumerate to get multi-dimensional indices\n",
    "                for idx, val in np.ndenumerate(obj):\n",
    "                    # idx is a tuple of ints; append as a single step if you prefer\n",
    "                    # but flattening them keeps path navigation straightforward:\n",
    "                    yield path + idx\n",
    "            else:\n",
    "                # if not int32 dtype, still dive into object arrays cautiously\n",
    "                if obj.dtype == object:\n",
    "                    for idx, val in np.ndenumerate(obj):\n",
    "                        yield from _walk(val, path + idx)\n",
    "\n",
    "    return _walk(root, ())"
   ]
  },
  {
   "cell_type": "code",
   "execution_count": 1,
   "id": "7e7d6fdf",
   "metadata": {},
   "outputs": [],
   "source": [
    "\n",
    "import numpy as np\n",
    "\n",
    "data = np.load(\"programs\\\\optimal_weights_r0.npz\")"
   ]
  },
  {
   "cell_type": "code",
   "execution_count": 10,
   "id": "2cc4fb75",
   "metadata": {},
   "outputs": [
    {
     "name": "stdout",
     "output_type": "stream",
     "text": [
      "['weights_real', 'weights_minus_imag', 'weights_imag', 'weights_minus_real', 'division_length']\n",
      "[ 1.72248946e-01 -4.65239075e-03  4.32448987e-03  8.72976692e-03\n",
      " -2.45688051e-03  2.98912542e-03  4.31973769e-03  3.45959190e-03\n",
      "  3.95381931e-03 -2.42836739e-03  1.87711374e-03  2.08620995e-03\n",
      " -4.80921291e-03  5.26067065e-03  6.58653073e-03  3.37405254e-04\n",
      "  6.51049574e-04  3.54513126e-03  3.86827995e-03 -2.64221579e-03\n",
      " -1.37338195e-03 -4.13440241e-04 -2.64221579e-03 -7.84110801e-04\n",
      " -5.71688057e-03  4.22944614e-04  2.26204086e-03 -6.12081644e-03\n",
      "  1.43516038e-03 -1.04072888e-03  3.49760939e-03 -8.07871735e-04\n",
      "  1.64900878e-03 -2.04344027e-03 -4.15341115e-03 -3.06991259e-03\n",
      " -3.96332369e-03 -2.08620995e-03 -1.73930032e-03 -3.83501465e-03\n",
      "  1.32110790e-03 -8.07871735e-05  1.61574347e-04  3.00813416e-03\n",
      " -4.64288638e-03  4.08212835e-03  3.12218664e-03  3.19822163e-03\n",
      " -4.12965022e-03 -5.49827998e-03  2.66597672e-03 -1.20705542e-03\n",
      " -4.75218668e-06  3.11743446e-03  7.82209927e-03 -2.00542278e-03\n",
      "  4.51457734e-04  3.65918374e-03  1.28784259e-03 -3.84451902e-03\n",
      " -1.87711374e-03  3.32653067e-05  1.81533531e-03  2.36658896e-03\n",
      "  7.86962113e-03 -2.91309043e-03  4.11064147e-03 -6.65306134e-05\n",
      " -3.54037907e-03  4.95177851e-03 -9.17172028e-04  2.47113707e-03\n",
      "  1.76781344e-03 -4.09638491e-03  4.52883390e-03 -9.50437335e-06\n",
      "  5.01355694e-03  3.18396507e-04 -4.46705547e-04  2.06244902e-03\n",
      " -1.83909624e-03 -3.47384846e-03  2.00542278e-03  7.58924212e-03\n",
      " -7.12828001e-04  7.60349868e-04 -3.14119539e-03  7.06650158e-03\n",
      " -2.35708459e-03  2.45688051e-03  3.95381931e-03 -1.91037904e-03\n",
      "  1.33061227e-03  6.89067068e-04 -2.96061230e-03 -4.41478142e-03\n",
      " -1.97690966e-03 -4.14865897e-03  5.56005841e-03  3.66868811e-03\n",
      "  4.91376102e-03  1.66801752e-03  1.38763851e-03  1.24032072e-03\n",
      " -1.90562686e-03 -4.94227414e-04  4.02985430e-03 -1.50169099e-03\n",
      " -1.21655979e-03 -7.69854241e-04 -9.69446082e-04  4.41953361e-03\n",
      " -9.07667655e-04  4.10588929e-03  1.67276971e-03  1.60148691e-03\n",
      " -2.85131200e-04 -3.75422747e-03  3.30276974e-03  5.57431497e-03\n",
      "  4.53358609e-03 -2.74676390e-03 -4.90425665e-03  3.36930035e-03\n",
      "  7.12828001e-04]\n",
      "<class 'int'>\n",
      "<class 'numpy.int32'>\n"
     ]
    }
   ],
   "source": [
    "print(data.files)\n",
    "print(data['weights_minus_imag'])\n",
    "print(type(int(data['division_length'])))\n",
    "print(type(data['division_length']*2))"
   ]
  },
  {
   "cell_type": "code",
   "execution_count": null,
   "id": "8b1e41fd",
   "metadata": {},
   "outputs": [],
   "source": []
  }
 ],
 "metadata": {
  "kernelspec": {
   "display_name": "crEnv311",
   "language": "python",
   "name": "python3"
  },
  "language_info": {
   "codemirror_mode": {
    "name": "ipython",
    "version": 3
   },
   "file_extension": ".py",
   "mimetype": "text/x-python",
   "name": "python",
   "nbconvert_exporter": "python",
   "pygments_lexer": "ipython3",
   "version": "3.11.13"
  }
 },
 "nbformat": 4,
 "nbformat_minor": 5
}

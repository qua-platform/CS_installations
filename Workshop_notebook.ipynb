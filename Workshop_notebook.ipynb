{
 "cells": [
  {
   "cell_type": "markdown",
   "id": "a704d26d-e3a5-4e10-aac9-cabb4bc8088d",
   "metadata": {},
   "source": [
    "# Analog Input Calibration"
   ]
  },
  {
   "cell_type": "markdown",
   "id": "0a403146-c269-4254-9e0a-f2bdc6efcaf5",
   "metadata": {},
   "source": [
    "Below are the following links relevant to this QUA program\n",
    "\n",
    "[**Variables in QUA**](https://docs.quantum-machines.co/latest/docs/Guides/variables/?h=variable#variables-in-qua) can be integers, fixed point numbers, and booleans\n",
    "\n",
    "[**Streaming Raw ADC results**](https://docs.quantum-machines.co/latest/docs/Guides/stream_proc/?h=adc_t#streaming-raw-adc-results) to stream out a raw ADC trace\n",
    "\n",
    "[**Real-Time Global Reset Phase**](https://docs.quantum-machines.co/latest/docs/Introduction/qua_overview/?h=reset_phase#resetting-the-global-phase) sets the oscillator phase as to what it was at the beginning of the program\n",
    "\n",
    "[**Wait QUA command**](https://docs.quantum-machines.co/latest/docs/API_references/qua/dsl_main/#qm.qua._dsl.wait) introduces delays to the timing of elements\n",
    "\n",
    "[**Stream Processing Average**](https://docs.quantum-machines.co/latest/docs/API_references/qua/result_stream/?h=#qm.qua._dsl._ResultStream.average) are Stream Processing commands for data manipulation during the program execution"
   ]
  },
  {
   "cell_type": "markdown",
   "id": "b8933476-93bc-476d-8569-3d9d67da9943",
   "metadata": {},
   "source": [
    "## QUA program"
   ]
  },
  {
   "cell_type": "code",
   "execution_count": null,
   "id": "9e866965-e3c4-47d3-8418-78076aa66982",
   "metadata": {},
   "outputs": [],
   "source": [
    "from iqcc_cloud_client import IQCC_Cloud\n",
    "import matplotlib.pyplot as plt\n",
    "from importlib import reload\n",
    "import qm.qua as qua\n",
    "import configuration\n",
    "reload(configuration)\n",
    "from configuration import *\n",
    "\n",
    "with qua.program() as analog_input_calibration:\n",
    "    pass\n",
    "\n",
    "qc = IQCC_Cloud() \n",
    "run_data = qc.execute(analog_input_calibration, config, False)"
   ]
  },
  {
   "cell_type": "markdown",
   "id": "4910941a-7527-4295-b315-2811b37eefca",
   "metadata": {},
   "source": [
    "## Plotting"
   ]
  },
  {
   "cell_type": "code",
   "execution_count": null,
   "id": "cf095e45-5a9b-4888-835b-89d7b0e1c25a",
   "metadata": {},
   "outputs": [],
   "source": [
    "# Fetch the raw ADC traces and convert them into Volts\n",
    "adc1 = np.array(run_data['result']['adc1'])\n",
    "adc2 = np.array(run_data['result']['adc2'])\n",
    "adc1_single_run = np.array(run_data['result']['adc1_single_run'])\n",
    "adc2_single_run = np.array(run_data['result']['adc2_single_run'])\n",
    "# Plot data\n",
    "plt.figure()\n",
    "plt.subplot(121)\n",
    "plt.title(\"Single run\")\n",
    "plt.plot(adc1_single_run, label=\"Input 1\")\n",
    "plt.plot(adc2_single_run, label=\"Input 2\")\n",
    "plt.xlabel(\"Time [ns]\")\n",
    "plt.ylabel(\"Signal amplitude [ADC]\")\n",
    "plt.legend()\n",
    "\n",
    "plt.subplot(122)\n",
    "plt.title(\"Averaged run\")\n",
    "plt.plot(adc1, label=\"Input 1\")\n",
    "plt.plot(adc2, label=\"Input 2\")\n",
    "plt.xlabel(\"Time [ns]\")\n",
    "plt.legend()\n",
    "plt.tight_layout()\n",
    "\n",
    "print(f\"\\nInput1 mean: {np.mean(adc1)/2**12} V\\n\" f\"Input2 mean: {np.mean(adc2)/2**12} V\")"
   ]
  },
  {
   "cell_type": "markdown",
   "id": "80fb443b-feff-4ded-ac72-6fd8881ec4fe",
   "metadata": {},
   "source": [
    "# Resonator Spectroscopy"
   ]
  },
  {
   "cell_type": "markdown",
   "id": "9c1bc53a-e468-487d-9c6b-2039a52c4226",
   "metadata": {},
   "source": [
    "The following links to the documentation will help you write the QUA program to find the resonance frequency of the readout resonator.\n",
    "\n",
    "[**Variables in QUA**](https://docs.quantum-machines.co/latest/docs/Guides/variables/?h=variable#variables-in-qua) can be integers, fixed point numbers, and booleans\n",
    "\n",
    "[**Real-Time Frequency Update**](https://docs.quantum-machines.co/latest/docs/API_references/qua/dsl_main/#qm.qua._dsl.update_frequency) updates the oscillator's frequency associated with an element\n",
    "\n",
    "[**Measure**](https://docs.quantum-machines.co/latest/docs/API_references/qua/dsl_main/?h=measure#qm.qua._dsl.measure) and [**Dual Demodulation**](https://docs.quantum-machines.co/latest/docs/Guides/demod/?h=dual#dual-demodulation) point you to waveform acquisition and manipulation\n",
    "\n",
    "[**Wait QUA command**](https://docs.quantum-machines.co/latest/docs/API_references/qua/dsl_main/#qm.qua._dsl.wait) introduces delays to the timing of elements\n",
    "\n",
    "[**QUA for loop**](https://docs.quantum-machines.co/latest/docs/API_references/qua/dsl_main/?h=#qm.qua._dsl.for_) is the instruction in QUA that mimics for-loops in CPUs\n",
    "\n",
    "[**Save from Pulse Processing Unit to Stream Processing Unit**](https://docs.quantum-machines.co/latest/docs/API_references/qua/dsl_main/?h=save#qm.qua._dsl.save) and [**Declare Stream**](https://docs.quantum-machines.co/latest/docs/API_references/qua/dsl_main/?h=save#qm.qua._dsl.save) are the QUA commands related to data transfer within the OPX\n",
    "\n",
    "[**Stream Processing Buffer**](https://docs.quantum-machines.co/latest/docs/API_references/qua/result_stream/?h=#qm.qua._dsl._ResultStream.buffer) and [**Stream Processing Average**](https://docs.quantum-machines.co/latest/docs/API_references/qua/result_stream/?h=#qm.qua._dsl._ResultStream.average) are Stream Processing commands for data manipulation during the program execution"
   ]
  },
  {
   "cell_type": "markdown",
   "id": "bb34f020-37cd-4e54-801e-b8f352a78a84",
   "metadata": {},
   "source": [
    "## QUA program"
   ]
  },
  {
   "cell_type": "markdown",
   "id": "e44f89ef",
   "metadata": {},
   "source": [
    "You will be needing the following instructions, there are not complete to make it fun :)\n",
    "\n",
    "Q = qua.declare(qua.fixed)\n",
    "\n",
    "qua.update_frequency(\"resonator\", f)\n",
    "\n",
    "f = qua.declare(int)\n",
    "\n",
    "I_st = qua.declare_stream()\n",
    "\n",
    "qua.save(I, I_st)\n",
    "\n",
    "qua.measure(\"readout\", \"resonator\", None, qua.dual_demod.full(\"minus_sin\", \"out1\", \"cos\", \"out2\", Q), ...)"
   ]
  },
  {
   "cell_type": "code",
   "execution_count": null,
   "id": "03362011-2539-4f24-bb6a-3370779c2c78",
   "metadata": {},
   "outputs": [],
   "source": [
    "from iqcc_cloud_client import IQCC_Cloud\n",
    "import matplotlib.pyplot as plt\n",
    "from importlib import reload\n",
    "import qm.qua as qua\n",
    "import configuration\n",
    "reload(configuration)\n",
    "from configuration import *\n",
    "from qualang_tools.loops import from_array\n",
    "\n",
    "n_avg = 10  # The number of averages\n",
    "# The frequency sweep parameters\n",
    "f_min = 20 * u.MHz\n",
    "f_max = 60 * u.MHz\n",
    "df = 500 * u.kHz\n",
    "frequencies = np.arange(f_min, f_max, df)\n",
    "\n",
    "# HINT - use from_array to easily sweep over numpy array, e.g., with for_(*from_array(_qua_variable, _numpy_array))\n",
    "with qua.program() as resonator_spectroscopy:\n",
    "    pass\n",
    "\n",
    "qc = IQCC_Cloud() \n",
    "run_data = qc.execute(resonator_spectroscopy, config, False)"
   ]
  },
  {
   "cell_type": "markdown",
   "id": "754fe967-d5b3-491f-bd8f-fab500d39e47",
   "metadata": {},
   "source": [
    "## Plotting"
   ]
  },
  {
   "cell_type": "code",
   "execution_count": null,
   "id": "39a344d6-2601-4fc3-bd79-568cb93eb689",
   "metadata": {},
   "outputs": [],
   "source": [
    "I = np.array(run_data['result']['I'])\n",
    "Q = np.array(run_data['result']['Q'])\n",
    "\n",
    "from scipy import signal\n",
    "magnitude = np.sqrt(I**2 + Q**2)\n",
    "phase = signal.detrend(np.unwrap(np.angle(I+1j*Q)))\n",
    "\n",
    "plt.subplot(121)\n",
    "plt.title('Magnitude')\n",
    "plt.plot(frequencies, magnitude)\n",
    "plt.subplot(122)\n",
    "plt.title('Phase')\n",
    "plt.plot(frequencies, phase)\n",
    "plt.tight_layout()"
   ]
  },
  {
   "cell_type": "markdown",
   "id": "9356ef32-f56b-4257-b864-845821239b7a",
   "metadata": {},
   "source": [
    "# Resonator Spectroscopy vs Amplitude"
   ]
  },
  {
   "cell_type": "markdown",
   "id": "087b85d0-de68-402f-a779-26153213a921",
   "metadata": {},
   "source": [
    "In addition to the previous section links you will be needing the following to complete the QUA program\n",
    "\n",
    "[**Real-Time Amplitude change**](https://docs.quantum-machines.co/latest/docs/API_references/qua/dsl_main/?h=amp#qm.qua._dsl.amp) will rescale the operation amplitude defined in the config dictionary\n",
    "\n",
    "[**QUA for-each**](https://docs.quantum-machines.co/latest/docs/Guides/features/#for_each) to loop over arbitrary values"
   ]
  },
  {
   "cell_type": "markdown",
   "id": "a5143ec0-be4d-489b-ba9a-957acdff3455",
   "metadata": {},
   "source": [
    "## QUA program"
   ]
  },
  {
   "cell_type": "code",
   "execution_count": null,
   "id": "045a041b-aeae-4f9a-8538-f5b58961dace",
   "metadata": {},
   "outputs": [],
   "source": [
    "from iqcc_cloud_client import IQCC_Cloud\n",
    "import matplotlib.pyplot as plt\n",
    "from importlib import reload\n",
    "import qm.qua as qua\n",
    "import configuration\n",
    "reload(configuration)\n",
    "from configuration import *\n",
    "\n",
    "n_avg = 40  # The number of averages\n",
    "# The frequency sweep around the resonator frequency\n",
    "span = 10 * u.MHz\n",
    "df = 100 * u.kHz\n",
    "dfs = np.arange(-span, +span, df)\n",
    "# The readout amplitude sweep (as a pre-factor of the readout amplitude) - must be within [-2; 2)\n",
    "a_min = 0.001\n",
    "a_max = 1.99\n",
    "amplitudes = np.geomspace(a_min, a_max, 20)\n",
    "\n",
    "# HINT - use with for_each_(_qua_variable, _python_list) to update the amplitude in log-scale\n",
    "# HINT - use from_array to easily sweep over numpy array, e.g., with for_(*from_array(_qua_variable, _numpy_array))\n",
    "# ->  with qua.for_each_(a, amplitudes.tolist()):\n",
    "\n",
    "\n",
    "with qua.program() as resonator_spectroscopy_vs_amplitude:\n",
    "    \n",
    "    pass\n",
    "\n",
    "qc = IQCC_Cloud()\n",
    "run_data = qc.execute(resonator_spectroscopy_vs_amplitude, config, False)"
   ]
  },
  {
   "cell_type": "markdown",
   "id": "64afefdc-73dd-4657-99fb-fdffd1dbef16",
   "metadata": {},
   "source": [
    "## Plotting"
   ]
  },
  {
   "cell_type": "code",
   "execution_count": null,
   "id": "f6c6f439-27f5-4a53-99fd-f253dfae79af",
   "metadata": {},
   "outputs": [],
   "source": [
    "I = np.array(run_data['result']['I'])\n",
    "Q = np.array(run_data['result']['Q'])\n",
    "magnitude = np.sqrt(I**2 + Q**2)\n",
    "magnitude /= magnitude.sum(axis=0)[np.newaxis, :]\n",
    "plt.pcolor(amplitudes * readout_amp, dfs, magnitude)\n",
    "plt.xscale('log')\n",
    "plt.tight_layout()"
   ]
  },
  {
   "cell_type": "markdown",
   "id": "7d9f9657-bd3b-47fa-9c89-8a5d3ddd33e1",
   "metadata": {},
   "source": [
    "# Multiplexed Resonators Readout"
   ]
  },
  {
   "cell_type": "markdown",
   "id": "f8c97ad6-fc5e-4614-a66b-ef01b6b12d29",
   "metadata": {},
   "source": [
    "## QUA program"
   ]
  },
  {
   "cell_type": "code",
   "execution_count": null,
   "id": "47d67843-189f-4d7c-8950-e1c809d50ab7",
   "metadata": {},
   "outputs": [],
   "source": [
    "from iqcc_cloud_client import IQCC_Cloud\n",
    "import matplotlib.pyplot as plt\n",
    "from importlib import reload\n",
    "import qm.qua as qua\n",
    "import configuration\n",
    "reload(configuration)\n",
    "from configuration import *\n",
    "from qualang_tools.loops import from_array\n",
    "\n",
    "n_avg = 10  # The number of averages\n",
    "# The frequency sweep parameters\n",
    "span = 10 * u.MHz\n",
    "df = 500 * u.kHz\n",
    "frequencies = np.arange(-span, span, df)\n",
    "\n",
    "# HINT - use from_array to easily sweep over numpy array, e.g., with for_(*from_array(_qua_variable, _numpy_array))\n",
    "\n",
    "with qua.program() as multiplexed_readout:\n",
    "\n",
    "    pass\n",
    "\n",
    "\n",
    "qc = IQCC_Cloud() \n",
    "run_data = qc.execute(multiplexed_readout, config, False)"
   ]
  },
  {
   "cell_type": "markdown",
   "id": "b3be036e-b5bb-4ac1-b36e-89ceebb861d1",
   "metadata": {},
   "source": [
    "## Plotting"
   ]
  },
  {
   "cell_type": "code",
   "execution_count": null,
   "id": "33c3035e-886a-40c4-be0e-38cfdb8d84ec",
   "metadata": {},
   "outputs": [],
   "source": [
    "I1 = np.array(run_data['result']['I1'])\n",
    "Q1 = np.array(run_data['result']['Q1'])\n",
    "I2 = np.array(run_data['result']['I2'])\n",
    "Q2 = np.array(run_data['result']['Q2'])\n",
    "\n",
    "from scipy import signal\n",
    "magnitude1 = np.sqrt(I1**2 + Q1**2)\n",
    "phase1 = signal.detrend(np.unwrap(np.angle(I1+1j*Q1)))\n",
    "magnitude2 = np.sqrt(I2**2 + Q2**2)\n",
    "phase2 = signal.detrend(np.unwrap(np.angle(I2+1j*Q2)))\n",
    "\n",
    "plt.subplot(221)\n",
    "plt.title('Magnitude')\n",
    "plt.plot(frequencies, magnitude1)\n",
    "plt.subplot(223)\n",
    "plt.title('Phase')\n",
    "plt.plot(frequencies, phase1)\n",
    "plt.subplot(222)\n",
    "plt.title('Magnitude')\n",
    "plt.plot(frequencies, magnitude2)\n",
    "plt.subplot(224)\n",
    "plt.title('Phase')\n",
    "plt.plot(frequencies, phase2)\n",
    "plt.tight_layout()"
   ]
  },
  {
   "cell_type": "markdown",
   "id": "6cc79e5e-8925-46a2-af99-04f0dd18ccf1",
   "metadata": {},
   "source": [
    "# Qubit spectroscopy"
   ]
  },
  {
   "cell_type": "code",
   "execution_count": null,
   "id": "47d6f37f-b9b1-4500-af0e-1b943c121f38",
   "metadata": {},
   "outputs": [],
   "source": [
    "from iqcc_cloud_client import IQCC_Cloud\n",
    "import matplotlib.pyplot as plt\n",
    "from importlib import reload\n",
    "import qm.qua as qua\n",
    "import configuration\n",
    "reload(configuration)\n",
    "from configuration import *\n",
    "from qualang_tools.loops import from_array\n",
    "\n",
    "n_avg = 100  # The number of averages\n",
    "span = 150 * u.MHz\n",
    "df = 1_000 * u.kHz\n",
    "dfs = np.arange(-span, +span, df)\n",
    "\n",
    "with qua.program() as qubit_spec:\n",
    "\n",
    "    pass\n",
    "\n",
    "qc = IQCC_Cloud() \n",
    "run_data = qc.execute(qubit_spec, config, False)"
   ]
  },
  {
   "cell_type": "code",
   "execution_count": null,
   "id": "3808c890-4c08-4495-969b-e059df23744f",
   "metadata": {},
   "outputs": [],
   "source": [
    "I = np.array(run_data['result']['I'])\n",
    "Q = np.array(run_data['result']['Q'])\n",
    "\n",
    "from scipy import signal\n",
    "magnitude = np.sqrt(I**2 + Q**2)\n",
    "phase = signal.detrend(np.unwrap(np.angle(I+1j*Q)))\n",
    "\n",
    "plt.subplot(121)\n",
    "plt.title('Magnitude')\n",
    "plt.plot(dfs, magnitude)\n",
    "plt.subplot(122)\n",
    "plt.title('Phase')\n",
    "plt.plot(dfs, phase)\n",
    "plt.tight_layout()"
   ]
  },
  {
   "cell_type": "markdown",
   "id": "f09ef153-eb77-4156-9048-6cea7c3034cc",
   "metadata": {},
   "source": [
    "# Time Rabi"
   ]
  },
  {
   "cell_type": "markdown",
   "id": "49a01722-185f-4741-bd79-074245918e56",
   "metadata": {},
   "source": [
    "To build the time Rabi QUA program you will need to use Real-Time changes to [**Operation Duration**](https://docs.quantum-machines.co/latest/docs/Guides/features/?h=duration#dynamic-pulse-duration)"
   ]
  },
  {
   "cell_type": "markdown",
   "id": "d89dad75-8318-4fab-b04d-c91e0c50a2cb",
   "metadata": {},
   "source": [
    "## QUA program"
   ]
  },
  {
   "cell_type": "code",
   "execution_count": null,
   "id": "4598ac50-28e2-42f9-af7e-d1c36a03f1fd",
   "metadata": {},
   "outputs": [],
   "source": [
    "from iqcc_cloud_client import IQCC_Cloud\n",
    "import matplotlib.pyplot as plt\n",
    "from importlib import reload\n",
    "import qm.qua as qua\n",
    "import configuration\n",
    "reload(configuration)\n",
    "from configuration import *\n",
    "from qualang_tools.loops import from_array\n",
    "\n",
    "n_avg = 10  # The number of averages\n",
    "# Pulse duration sweep (in clock cycles = 4ns) - must be larger than 4 clock cycles\n",
    "t_min = 16 // 4\n",
    "t_max = 800 // 4\n",
    "dt = 4 // 4\n",
    "operation_durations = np.arange(t_min, t_max, dt)\n",
    "\n",
    "# HINT - use from_array to easily sweep over numpy array, e.g., with for_(*from_array(_qua_variable, _numpy_array))\n",
    "\n",
    "with qua.program() as time_rabi:\n",
    "    \n",
    "    pass\n",
    "\n",
    "qc = IQCC_Cloud()\n",
    "run_data = qc.execute(time_rabi, config, False)"
   ]
  },
  {
   "cell_type": "markdown",
   "id": "6e1368b3-85f4-4d11-a49a-8163553974bc",
   "metadata": {},
   "source": [
    "## Plotting"
   ]
  },
  {
   "cell_type": "code",
   "execution_count": null,
   "id": "5eb106ff-9b5d-47d5-9134-99ad284626a3",
   "metadata": {},
   "outputs": [],
   "source": [
    "I = np.array(run_data['result']['I'])\n",
    "Q = np.array(run_data['result']['Q'])\n",
    "plt.subplot(121)\n",
    "plt.plot(operation_durations * 4, I)\n",
    "plt.subplot(122)\n",
    "plt.plot(operation_durations * 4, Q)\n",
    "plt.tight_layout()"
   ]
  },
  {
   "cell_type": "markdown",
   "id": "d743c2d6",
   "metadata": {},
   "source": [
    "# T1 experiment"
   ]
  },
  {
   "cell_type": "markdown",
   "id": "78b841cc",
   "metadata": {},
   "source": [
    "# QUA program"
   ]
  },
  {
   "cell_type": "code",
   "execution_count": null,
   "id": "03b021c1",
   "metadata": {},
   "outputs": [],
   "source": [
    "from iqcc_cloud_client import IQCC_Cloud\n",
    "import matplotlib.pyplot as plt\n",
    "from importlib import reload\n",
    "import qm.qua as qua\n",
    "import configuration\n",
    "reload(configuration)\n",
    "from configuration import *\n",
    "from qualang_tools.loops import from_array\n",
    "\n",
    "n_avg = 100\n",
    "# Dephasing time sweep (in clock cycles = 4ns) - minimum is 4 clock cycles\n",
    "tau_min = 16 // 4\n",
    "tau_max = 600 // 4\n",
    "d_tau = 8 // 4\n",
    "operation_durations = np.arange(tau_min, tau_max + 0.1, d_tau)  # + 0.1 to add tau_max to taus\n",
    "\n",
    "# HINT - use from_array to easily sweep over numpy array, e.g., with for_(*from_array(_qua_variable, _numpy_array))\n",
    "\n",
    "with qua.program() as t1:\n",
    "    pass\n",
    "\n",
    "qc = IQCC_Cloud()\n",
    "run_data = qc.execute(ramsey, config, False)"
   ]
  },
  {
   "cell_type": "markdown",
   "id": "e952a26f",
   "metadata": {},
   "source": [
    "# Plotting"
   ]
  },
  {
   "cell_type": "code",
   "execution_count": null,
   "id": "9909d21b",
   "metadata": {},
   "outputs": [],
   "source": [
    "I = np.array(run_data['result']['I'])\n",
    "Q = np.array(run_data['result']['Q'])\n",
    "plt.subplot(121)\n",
    "plt.plot(operation_durations * 4, I)\n",
    "plt.subplot(122)\n",
    "plt.plot(operation_durations * 4, Q)\n",
    "plt.tight_layout()\n",
    "\n",
    "# Fit the results to extract the qubit decay time T1\n",
    "try:\n",
    "    from qualang_tools.plot.fitting import Fit\n",
    "\n",
    "    fit = Fit()\n",
    "    plt.figure()\n",
    "    decay_fit = fit.T1(operation_durations * 4, I, plot=True)\n",
    "    qubit_T1 = np.round(np.abs(decay_fit[\"T1\"][0]) / 4) * 4\n",
    "    plt.xlabel(\"Delay [ns]\")\n",
    "    plt.ylabel(\"I quadrature [V]\")\n",
    "    print(f\"Qubit decay time to update in the config: qubit_T1 = {qubit_T1:.0f} ns\")\n",
    "    plt.legend((f\"Relaxation time T1 = {qubit_T1:.0f} ns\",))\n",
    "    plt.title(\"T1 measurement\")\n",
    "except (Exception,):\n",
    "    pass"
   ]
  },
  {
   "cell_type": "markdown",
   "id": "3f900a73-8f0a-4bae-a3b4-92328872c9de",
   "metadata": {},
   "source": [
    "# Frame Rotation Ramsey"
   ]
  },
  {
   "cell_type": "markdown",
   "id": "09233786-2f20-4fba-9657-a8f12f7ea9b4",
   "metadata": {},
   "source": [
    "To implemente this variant of Ramsey experiment you will need to use [**Real-Time Frame Rotations**](https://docs.quantum-machines.co/latest/docs/API_references/qua/dsl_main/?h=frame#qm.qua._dsl.frame_rotation_2pi)"
   ]
  },
  {
   "cell_type": "markdown",
   "id": "23b0da1e-dfc6-493d-b0c1-6518fc4ecce4",
   "metadata": {},
   "source": [
    "## QUA program"
   ]
  },
  {
   "cell_type": "code",
   "execution_count": null,
   "id": "2a3c2419-732c-4413-a211-63bd8dd6fa67",
   "metadata": {},
   "outputs": [],
   "source": [
    "from iqcc_cloud_client import IQCC_Cloud\n",
    "import matplotlib.pyplot as plt\n",
    "from importlib import reload\n",
    "import qm.qua as qua\n",
    "import configuration\n",
    "reload(configuration)\n",
    "from configuration import *\n",
    "from qualang_tools.loops import from_array\n",
    "\n",
    "n_avg = 100\n",
    "# Dephasing time sweep (in clock cycles = 4ns) - minimum is 4 clock cycles\n",
    "tau_min = 16 // 4\n",
    "tau_max = 600 // 4\n",
    "d_tau = 8 // 4\n",
    "operation_durations = np.arange(tau_min, tau_max + 0.1, d_tau)  # + 0.1 to add tau_max to taus\n",
    "# Detuning converted into virtual Z-rotations to observe Ramsey oscillation and get the qubit frequency\n",
    "detuning = 8 * u.MHz  # in Hz\n",
    "delta_phase = (5 * u.MHz) * d_tau * 4 * 1e-09\n",
    "\n",
    "# HINT - use from_array to easily sweep over numpy array, e.g., with for_(*from_array(_qua_variable, _numpy_array))\n",
    "\n",
    "with qua.program() as ramsey:\n",
    "\n",
    "    pass\n",
    "\n",
    "qc = IQCC_Cloud()\n",
    "run_data = qc.execute(ramsey, config, False)"
   ]
  },
  {
   "cell_type": "markdown",
   "id": "5ee0a2b9-8e9e-4528-bf0c-75307e237363",
   "metadata": {},
   "source": [
    "## Plotting"
   ]
  },
  {
   "cell_type": "code",
   "execution_count": null,
   "id": "a4f5a508-b71f-427b-8a07-1e09259d4356",
   "metadata": {},
   "outputs": [],
   "source": [
    "I = np.array(run_data['result']['I'])\n",
    "Q = np.array(run_data['result']['Q'])\n",
    "plt.subplot(121)\n",
    "plt.plot(operation_durations * 4, I)\n",
    "plt.subplot(122)\n",
    "plt.plot(operation_durations * 4, Q)\n",
    "plt.tight_layout()"
   ]
  },
  {
   "cell_type": "markdown",
   "id": "f5b4a28e-9a25-47f2-89a9-52fcd179d1a0",
   "metadata": {},
   "source": [
    "# Active Reset"
   ]
  },
  {
   "cell_type": "markdown",
   "id": "3a0123d4-bfb7-4a24-b04c-63f2702726b4",
   "metadata": {},
   "source": [
    "To implement the feedback capabilities for real-time active reset of the qubit state you will need [**Conditional Play**](https://docs.quantum-machines.co/latest/docs/Guides/features/?h=conditiona#conditional-play)"
   ]
  },
  {
   "cell_type": "markdown",
   "id": "d9cd85c0-34b6-4524-98f5-885539cba353",
   "metadata": {},
   "source": [
    "## QUA program"
   ]
  },
  {
   "cell_type": "code",
   "execution_count": null,
   "id": "125be5b1-f58e-41c3-b9ae-862e6eaa7179",
   "metadata": {},
   "outputs": [],
   "source": [
    "from iqcc_cloud_client import IQCC_Cloud\n",
    "import matplotlib.pyplot as plt\n",
    "from importlib import reload\n",
    "import qm.qua as qua\n",
    "import workshop_configuration\n",
    "reload(workshop_configuration)\n",
    "from workshop_configuration import *\n",
    "from qualang_tools.loops import from_array\n",
    "\n",
    "n_runs = 1_000  # Number of runs\n",
    "\n",
    "with qua.program() as active_reset:\n",
    "    n = qua.declare(int)\n",
    "    I_g = qua.declare(qua.fixed)\n",
    "    Q_g = qua.declare(qua.fixed)\n",
    "    I_g_st = qua.declare_stream()\n",
    "    Q_g_st = qua.declare_stream()\n",
    "    I_e = qua.declare(qua.fixed)\n",
    "    Q_e = qua.declare(qua.fixed)\n",
    "    I_e_st = qua.declare_stream()\n",
    "    Q_e_st = qua.declare_stream()\n",
    "\n",
    "    with qua.for_(n, 0, n < n_runs, n + 1):\n",
    "        # Measure the state of the resonator\n",
    "        qua.measure(\n",
    "            \"readout\",\n",
    "            \"resonator\",\n",
    "            None,\n",
    "            qua.dual_demod.full(\"rotated_cos\", \"rotated_sin\", I_g),\n",
    "            qua.dual_demod.full(\"rotated_minus_sin\", \"rotated_cos\", Q_g),\n",
    "        )\n",
    "        # Wait for the qubit to decay to the ground state in the case of measurement induced transitions\n",
    "        qua.wait(50_000, \"resonator\")\n",
    "        # Save the 'I' & 'Q' quadratures to their respective streams for the ground state\n",
    "        qua.save(I_g, I_g_st)\n",
    "        qua.save(Q_g, Q_g_st)\n",
    "\n",
    "        qua.align()  # global align\n",
    "        # Play the x180 gate to put the qubit in the excited state\n",
    "        qua.play(\"x180\", \"qubit\")\n",
    "        # Align the two elements to measure after playing the qubit pulse.\n",
    "        qua.align(\"qubit\", \"resonator\")\n",
    "        # Measure the state of the resonator\n",
    "        qua.measure(\n",
    "            \"readout\",\n",
    "            \"resonator\",\n",
    "            None,\n",
    "            qua.dual_demod.full(\"rotated_cos\", \"rotated_sin\", I_e),\n",
    "            qua.dual_demod.full(\"rotated_minus_sin\", \"rotated_cos\", Q_e),\n",
    "        )\n",
    "        qua.wait(1000, 'qubit')\n",
    "        qua.play('x180', 'qubit', condition = I_e > 1.037e-03)\n",
    "        qua.align()\n",
    "        qua.measure(\n",
    "            \"readout\",\n",
    "            \"resonator\",\n",
    "            None,\n",
    "            qua.dual_demod.full(\"rotated_cos\", \"rotated_sin\", I_e),\n",
    "            qua.dual_demod.full(\"rotated_minus_sin\", \"rotated_cos\", Q_e),\n",
    "        )\n",
    "        qua.wait(50_000, \"resonator\")\n",
    "        # Save the 'I' & 'Q' quadratures to their respective streams for the excited state\n",
    "        qua.save(I_e, I_e_st)\n",
    "        qua.save(Q_e, Q_e_st)\n",
    "\n",
    "    with qua.stream_processing():\n",
    "        # Save all streamed points for plotting the IQ blobs\n",
    "        I_g_st.save_all(\"I_g\")\n",
    "        Q_g_st.save_all(\"Q_g\")\n",
    "        I_e_st.save_all(\"I_e\")\n",
    "        Q_e_st.save_all(\"Q_e\")\n",
    "\n",
    "qc = IQCC_Cloud()\n",
    "run_data = qc.execute(active_reset, config, False)"
   ]
  },
  {
   "cell_type": "markdown",
   "id": "cffbaaaf-f23c-4185-9ab9-0125f926fcae",
   "metadata": {},
   "source": [
    "## Plotting"
   ]
  },
  {
   "cell_type": "code",
   "execution_count": null,
   "id": "370e72f1-ede6-4f23-b54f-090cb5c8e241",
   "metadata": {},
   "outputs": [],
   "source": [
    "from qualang_tools.analysis.discriminator import two_state_discriminator\n",
    "\n",
    "Ig = np.array(run_data['result']['I_g'])\n",
    "Qg = np.array(run_data['result']['Q_g'])\n",
    "Ie = np.array(run_data['result']['I_e'])\n",
    "Qe = np.array(run_data['result']['Q_e'])\n",
    "\n",
    "angle, threshold, fidelity, gg, ge, eg, ee = two_state_discriminator(Ig, Qg, Ie, Qe, b_print=True, b_plot=True)"
   ]
  }
 ],
 "metadata": {
  "kernelspec": {
   "display_name": "Python 3 (ipykernel)",
   "language": "python",
   "name": "python3"
  },
  "language_info": {
   "codemirror_mode": {
    "name": "ipython",
    "version": 3
   },
   "file_extension": ".py",
   "mimetype": "text/x-python",
   "name": "python",
   "nbconvert_exporter": "python",
   "pygments_lexer": "ipython3",
   "version": "3.11.9"
  }
 },
 "nbformat": 4,
 "nbformat_minor": 5
}
